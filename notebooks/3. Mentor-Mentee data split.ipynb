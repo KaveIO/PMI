{
 "cells": [
  {
   "cell_type": "markdown",
   "metadata": {},
   "source": [
    "# 1. Initialize and import libraries"
   ]
  },
  {
   "cell_type": "code",
   "execution_count": 1,
   "metadata": {
    "collapsed": true
   },
   "outputs": [],
   "source": [
    "import pandas as pd\n",
    "import numpy as np\n",
    "import sys\n",
    "import pickle\n",
    "\n",
    "import warnings\n",
    "warnings.filterwarnings('ignore') "
   ]
  },
  {
   "cell_type": "code",
   "execution_count": 2,
   "metadata": {
    "collapsed": true
   },
   "outputs": [],
   "source": [
    "sys.path.insert(0, 'pmi_utils')"
   ]
  },
  {
   "cell_type": "code",
   "execution_count": 3,
   "metadata": {
    "collapsed": true
   },
   "outputs": [],
   "source": [
    "import shared_variables\n",
    "from shared_variables import *"
   ]
  },
  {
   "cell_type": "code",
   "execution_count": 4,
   "metadata": {
    "collapsed": true
   },
   "outputs": [],
   "source": [
    "shared_variables = reload(shared_variables)"
   ]
  },
  {
   "cell_type": "markdown",
   "metadata": {},
   "source": [
    "# 2. Split authors between mentors and mentees based on their experience\n",
    "- The dataset has to be splitted into authors, that are mentors and authors that are mentees\n",
    "- Criteria for being a mentee are that\n",
    " - their first publication in 2017 or later, OR\n",
    " - at most 1 publication."
   ]
  },
  {
   "cell_type": "code",
   "execution_count": 5,
   "metadata": {
    "collapsed": false
   },
   "outputs": [],
   "source": [
    "# if first publication >= 2017 or number of publications < 2 then mentee, else mentor\n",
    "df_json_dblp_by_author = pickle.load(open(f_dblp_by_author, 'r'))"
   ]
  },
  {
   "cell_type": "code",
   "execution_count": 6,
   "metadata": {
    "collapsed": false
   },
   "outputs": [
    {
     "data": {
      "text/html": [
       "<div>\n",
       "<table border=\"1\" class=\"dataframe\">\n",
       "  <thead>\n",
       "    <tr style=\"text-align: right;\">\n",
       "      <th></th>\n",
       "      <th>paper_id</th>\n",
       "      <th>papertype</th>\n",
       "      <th>title</th>\n",
       "      <th>authors</th>\n",
       "      <th>journal</th>\n",
       "      <th>booktitle</th>\n",
       "      <th>year</th>\n",
       "      <th>ee</th>\n",
       "      <th>url</th>\n",
       "      <th>author</th>\n",
       "    </tr>\n",
       "  </thead>\n",
       "  <tbody>\n",
       "    <tr>\n",
       "      <th>0</th>\n",
       "      <td>journals/acta/Saxena96</td>\n",
       "      <td>article</td>\n",
       "      <td>Parallel Integer Sorting and Simulation Amongs...</td>\n",
       "      <td>[Sanjeev Saxena]</td>\n",
       "      <td>Acta Inf.</td>\n",
       "      <td>None</td>\n",
       "      <td>1996.0</td>\n",
       "      <td>https://doi.org/10.1007/BF03036466</td>\n",
       "      <td>db/journals/acta/acta33.html#Saxena96</td>\n",
       "      <td>Sanjeev Saxena</td>\n",
       "    </tr>\n",
       "    <tr>\n",
       "      <th>1</th>\n",
       "      <td>journals/acta/Simon83</td>\n",
       "      <td>article</td>\n",
       "      <td>Pattern Matching in Trees and Nets.</td>\n",
       "      <td>[Hans Ulrich Simon]</td>\n",
       "      <td>Acta Inf.</td>\n",
       "      <td>None</td>\n",
       "      <td>1983.0</td>\n",
       "      <td>https://doi.org/10.1007/BF01257084</td>\n",
       "      <td>db/journals/acta/acta20.html#Simon83</td>\n",
       "      <td>Hans Ulrich Simon</td>\n",
       "    </tr>\n",
       "    <tr>\n",
       "      <th>2</th>\n",
       "      <td>journals/acta/GoodmanS83</td>\n",
       "      <td>article</td>\n",
       "      <td>NP-complete Problems Simplified on Tree Schemas.</td>\n",
       "      <td>[Nathan Goodman, Oded Shmueli]</td>\n",
       "      <td>Acta Inf.</td>\n",
       "      <td>None</td>\n",
       "      <td>1983.0</td>\n",
       "      <td>https://doi.org/10.1007/BF00289414</td>\n",
       "      <td>db/journals/acta/acta20.html#GoodmanS83</td>\n",
       "      <td>Nathan Goodman</td>\n",
       "    </tr>\n",
       "    <tr>\n",
       "      <th>3</th>\n",
       "      <td>journals/acta/GoodmanS83</td>\n",
       "      <td>article</td>\n",
       "      <td>NP-complete Problems Simplified on Tree Schemas.</td>\n",
       "      <td>[Nathan Goodman, Oded Shmueli]</td>\n",
       "      <td>Acta Inf.</td>\n",
       "      <td>None</td>\n",
       "      <td>1983.0</td>\n",
       "      <td>https://doi.org/10.1007/BF00289414</td>\n",
       "      <td>db/journals/acta/acta20.html#GoodmanS83</td>\n",
       "      <td>Oded Shmueli</td>\n",
       "    </tr>\n",
       "    <tr>\n",
       "      <th>4</th>\n",
       "      <td>journals/acta/Blum82</td>\n",
       "      <td>article</td>\n",
       "      <td>On the Power of Chain Rules in Context Free Gr...</td>\n",
       "      <td>[Norbert Blum]</td>\n",
       "      <td>Acta Inf.</td>\n",
       "      <td>None</td>\n",
       "      <td>1982.0</td>\n",
       "      <td>https://doi.org/10.1007/BF00264161</td>\n",
       "      <td>db/journals/acta/acta17.html#Blum82</td>\n",
       "      <td>Norbert Blum</td>\n",
       "    </tr>\n",
       "  </tbody>\n",
       "</table>\n",
       "</div>"
      ],
      "text/plain": [
       "                   paper_id papertype  \\\n",
       "0    journals/acta/Saxena96   article   \n",
       "1     journals/acta/Simon83   article   \n",
       "2  journals/acta/GoodmanS83   article   \n",
       "3  journals/acta/GoodmanS83   article   \n",
       "4      journals/acta/Blum82   article   \n",
       "\n",
       "                                               title  \\\n",
       "0  Parallel Integer Sorting and Simulation Amongs...   \n",
       "1                Pattern Matching in Trees and Nets.   \n",
       "2   NP-complete Problems Simplified on Tree Schemas.   \n",
       "3   NP-complete Problems Simplified on Tree Schemas.   \n",
       "4  On the Power of Chain Rules in Context Free Gr...   \n",
       "\n",
       "                          authors    journal booktitle    year  \\\n",
       "0                [Sanjeev Saxena]  Acta Inf.      None  1996.0   \n",
       "1             [Hans Ulrich Simon]  Acta Inf.      None  1983.0   \n",
       "2  [Nathan Goodman, Oded Shmueli]  Acta Inf.      None  1983.0   \n",
       "3  [Nathan Goodman, Oded Shmueli]  Acta Inf.      None  1983.0   \n",
       "4                  [Norbert Blum]  Acta Inf.      None  1982.0   \n",
       "\n",
       "                                   ee  \\\n",
       "0  https://doi.org/10.1007/BF03036466   \n",
       "1  https://doi.org/10.1007/BF01257084   \n",
       "2  https://doi.org/10.1007/BF00289414   \n",
       "3  https://doi.org/10.1007/BF00289414   \n",
       "4  https://doi.org/10.1007/BF00264161   \n",
       "\n",
       "                                       url             author  \n",
       "0    db/journals/acta/acta33.html#Saxena96     Sanjeev Saxena  \n",
       "1     db/journals/acta/acta20.html#Simon83  Hans Ulrich Simon  \n",
       "2  db/journals/acta/acta20.html#GoodmanS83     Nathan Goodman  \n",
       "3  db/journals/acta/acta20.html#GoodmanS83       Oded Shmueli  \n",
       "4      db/journals/acta/acta17.html#Blum82       Norbert Blum  "
      ]
     },
     "execution_count": 54,
     "metadata": {},
     "output_type": "execute_result"
    }
   ],
   "source": [
    "df_json_dblp_by_author.head()"
   ]
  },
  {
   "cell_type": "markdown",
   "metadata": {},
   "source": [
    "For each author calculate the year of his first publication and the number of publications"
   ]
  },
  {
   "cell_type": "code",
   "execution_count": 7,
   "metadata": {
    "collapsed": true
   },
   "outputs": [],
   "source": [
    "aut_pubs = df_json_dblp_by_author.groupby(lbl_author, as_index=False) \\\n",
    "                .agg({lbl_year: 'min', lbl_paper_id: 'count'})"
   ]
  },
  {
   "cell_type": "code",
   "execution_count": 8,
   "metadata": {
    "collapsed": false
   },
   "outputs": [
    {
     "data": {
      "text/html": [
       "<div>\n",
       "<table border=\"1\" class=\"dataframe\">\n",
       "  <thead>\n",
       "    <tr style=\"text-align: right;\">\n",
       "      <th></th>\n",
       "      <th>author</th>\n",
       "      <th>paper_id</th>\n",
       "      <th>year</th>\n",
       "    </tr>\n",
       "  </thead>\n",
       "  <tbody>\n",
       "    <tr>\n",
       "      <th>0</th>\n",
       "      <td>'Maseka Lesaoana</td>\n",
       "      <td>3</td>\n",
       "      <td>2001.0</td>\n",
       "    </tr>\n",
       "    <tr>\n",
       "      <th>1</th>\n",
       "      <td>(David) Jing Dai</td>\n",
       "      <td>2</td>\n",
       "      <td>2017.0</td>\n",
       "    </tr>\n",
       "    <tr>\n",
       "      <th>2</th>\n",
       "      <td>(Max) Zong-Ming Cheng</td>\n",
       "      <td>3</td>\n",
       "      <td>2009.0</td>\n",
       "    </tr>\n",
       "    <tr>\n",
       "      <th>3</th>\n",
       "      <td>(Zhou) Bryan Bai</td>\n",
       "      <td>3</td>\n",
       "      <td>2011.0</td>\n",
       "    </tr>\n",
       "    <tr>\n",
       "      <th>4</th>\n",
       "      <td>0018 Jien Kato</td>\n",
       "      <td>2</td>\n",
       "      <td>2017.0</td>\n",
       "    </tr>\n",
       "  </tbody>\n",
       "</table>\n",
       "</div>"
      ],
      "text/plain": [
       "                  author  paper_id    year\n",
       "0       'Maseka Lesaoana         3  2001.0\n",
       "1       (David) Jing Dai         2  2017.0\n",
       "2  (Max) Zong-Ming Cheng         3  2009.0\n",
       "3       (Zhou) Bryan Bai         3  2011.0\n",
       "4         0018 Jien Kato         2  2017.0"
      ]
     },
     "execution_count": 41,
     "metadata": {},
     "output_type": "execute_result"
    }
   ],
   "source": [
    "aut_pubs.head()"
   ]
  },
  {
   "cell_type": "markdown",
   "metadata": {},
   "source": [
    "Add a *role* column, which splits between mentor and mentee according to the above mentioned rule."
   ]
  },
  {
   "cell_type": "code",
   "execution_count": 9,
   "metadata": {
    "collapsed": false
   },
   "outputs": [
    {
     "data": {
      "text/html": [
       "<div>\n",
       "<table border=\"1\" class=\"dataframe\">\n",
       "  <thead>\n",
       "    <tr style=\"text-align: right;\">\n",
       "      <th></th>\n",
       "      <th>author</th>\n",
       "      <th>paper_id</th>\n",
       "      <th>year</th>\n",
       "      <th>role</th>\n",
       "    </tr>\n",
       "  </thead>\n",
       "  <tbody>\n",
       "    <tr>\n",
       "      <th>0</th>\n",
       "      <td>'Maseka Lesaoana</td>\n",
       "      <td>3</td>\n",
       "      <td>2001.0</td>\n",
       "      <td>mentor</td>\n",
       "    </tr>\n",
       "    <tr>\n",
       "      <th>1</th>\n",
       "      <td>(David) Jing Dai</td>\n",
       "      <td>2</td>\n",
       "      <td>2017.0</td>\n",
       "      <td>mentee</td>\n",
       "    </tr>\n",
       "    <tr>\n",
       "      <th>2</th>\n",
       "      <td>(Max) Zong-Ming Cheng</td>\n",
       "      <td>3</td>\n",
       "      <td>2009.0</td>\n",
       "      <td>mentor</td>\n",
       "    </tr>\n",
       "    <tr>\n",
       "      <th>3</th>\n",
       "      <td>(Zhou) Bryan Bai</td>\n",
       "      <td>3</td>\n",
       "      <td>2011.0</td>\n",
       "      <td>mentor</td>\n",
       "    </tr>\n",
       "    <tr>\n",
       "      <th>4</th>\n",
       "      <td>0018 Jien Kato</td>\n",
       "      <td>2</td>\n",
       "      <td>2017.0</td>\n",
       "      <td>mentee</td>\n",
       "    </tr>\n",
       "  </tbody>\n",
       "</table>\n",
       "</div>"
      ],
      "text/plain": [
       "                  author  paper_id    year    role\n",
       "0       'Maseka Lesaoana         3  2001.0  mentor\n",
       "1       (David) Jing Dai         2  2017.0  mentee\n",
       "2  (Max) Zong-Ming Cheng         3  2009.0  mentor\n",
       "3       (Zhou) Bryan Bai         3  2011.0  mentor\n",
       "4         0018 Jien Kato         2  2017.0  mentee"
      ]
     },
     "execution_count": 42,
     "metadata": {},
     "output_type": "execute_result"
    }
   ],
   "source": [
    "aut_pubs[lbl_role] = aut_pubs[lbl_year].apply(lambda x: 'mentee' if x >= 2017 else 'mentor')\n",
    "aut_pubs[lbl_role] = aut_pubs.apply(lambda row: 'mentee' \\\n",
    "                                        if row[lbl_role] == 'mentor' and row[lbl_paper_id] < 2 \\\n",
    "                                        else row[lbl_role],\n",
    "                                    axis=1)\n",
    "aut_pubs.head()"
   ]
  },
  {
   "cell_type": "code",
   "execution_count": 10,
   "metadata": {
    "collapsed": false
   },
   "outputs": [
    {
     "data": {
      "text/plain": [
       "role\n",
       "mentee     147784\n",
       "mentor    1945932\n",
       "dtype: int64"
      ]
     },
     "execution_count": 43,
     "metadata": {},
     "output_type": "execute_result"
    }
   ],
   "source": [
    "#summary of mentors and mentees\n",
    "aut_pubs.groupby(lbl_role).size()"
   ]
  },
  {
   "cell_type": "code",
   "execution_count": 11,
   "metadata": {
    "collapsed": false
   },
   "outputs": [
    {
     "data": {
      "text/html": [
       "<div>\n",
       "<table border=\"1\" class=\"dataframe\">\n",
       "  <thead>\n",
       "    <tr style=\"text-align: right;\">\n",
       "      <th></th>\n",
       "      <th>author</th>\n",
       "      <th>cluster</th>\n",
       "      <th>num_pubs</th>\n",
       "      <th>pub_rate</th>\n",
       "      <th>years_exp</th>\n",
       "      <th>cite_rank</th>\n",
       "    </tr>\n",
       "  </thead>\n",
       "  <tbody>\n",
       "    <tr>\n",
       "      <th>0</th>\n",
       "      <td>(David) Jing Dai</td>\n",
       "      <td>budapest_conference_workshop</td>\n",
       "      <td>0.014706</td>\n",
       "      <td>0.047619</td>\n",
       "      <td>0.018519</td>\n",
       "      <td>0.000000</td>\n",
       "    </tr>\n",
       "    <tr>\n",
       "      <th>1</th>\n",
       "      <td>A Min Tjoa</td>\n",
       "      <td>analysis_methodology_modeling</td>\n",
       "      <td>0.014706</td>\n",
       "      <td>0.047619</td>\n",
       "      <td>0.018519</td>\n",
       "      <td>0.000000</td>\n",
       "    </tr>\n",
       "    <tr>\n",
       "      <th>2</th>\n",
       "      <td>A Min Tjoa</td>\n",
       "      <td>data_metadata_database</td>\n",
       "      <td>0.088235</td>\n",
       "      <td>0.047619</td>\n",
       "      <td>0.388889</td>\n",
       "      <td>0.014490</td>\n",
       "    </tr>\n",
       "    <tr>\n",
       "      <th>3</th>\n",
       "      <td>A Min Tjoa</td>\n",
       "      <td>educational_elearning_education</td>\n",
       "      <td>0.029412</td>\n",
       "      <td>0.047619</td>\n",
       "      <td>0.203704</td>\n",
       "      <td>0.000479</td>\n",
       "    </tr>\n",
       "    <tr>\n",
       "      <th>4</th>\n",
       "      <td>A-Long Jin</td>\n",
       "      <td>channel_multiantenna_mimo</td>\n",
       "      <td>0.014706</td>\n",
       "      <td>0.047619</td>\n",
       "      <td>0.018519</td>\n",
       "      <td>0.000000</td>\n",
       "    </tr>\n",
       "  </tbody>\n",
       "</table>\n",
       "</div>"
      ],
      "text/plain": [
       "             author                          cluster  num_pubs  pub_rate  \\\n",
       "0  (David) Jing Dai     budapest_conference_workshop  0.014706  0.047619   \n",
       "1        A Min Tjoa    analysis_methodology_modeling  0.014706  0.047619   \n",
       "2        A Min Tjoa           data_metadata_database  0.088235  0.047619   \n",
       "3        A Min Tjoa  educational_elearning_education  0.029412  0.047619   \n",
       "4        A-Long Jin        channel_multiantenna_mimo  0.014706  0.047619   \n",
       "\n",
       "   years_exp  cite_rank  \n",
       "0   0.018519   0.000000  \n",
       "1   0.018519   0.000000  \n",
       "2   0.388889   0.014490  \n",
       "3   0.203704   0.000479  \n",
       "4   0.018519   0.000000  "
      ]
     },
     "execution_count": 56,
     "metadata": {},
     "output_type": "execute_result"
    }
   ],
   "source": [
    "df_author_role = aut_pubs[[lbl_author, lbl_role]]\n",
    "df_author_ranks = pd.read_csv(f_author_ranks, sep=',')\n",
    "df_author_ranks.head()"
   ]
  },
  {
   "cell_type": "code",
   "execution_count": 12,
   "metadata": {
    "collapsed": false
   },
   "outputs": [
    {
     "data": {
      "text/plain": [
       "(310144, 6)"
      ]
     },
     "execution_count": 57,
     "metadata": {},
     "output_type": "execute_result"
    }
   ],
   "source": [
    "df_author_ranks.shape"
   ]
  },
  {
   "cell_type": "code",
   "execution_count": 13,
   "metadata": {
    "collapsed": false
   },
   "outputs": [
    {
     "data": {
      "text/html": [
       "<div>\n",
       "<table border=\"1\" class=\"dataframe\">\n",
       "  <thead>\n",
       "    <tr style=\"text-align: right;\">\n",
       "      <th></th>\n",
       "      <th>mentor</th>\n",
       "      <th>cluster</th>\n",
       "      <th>num_pubs</th>\n",
       "      <th>pub_rate</th>\n",
       "      <th>years_exp</th>\n",
       "      <th>cite_rank</th>\n",
       "    </tr>\n",
       "  </thead>\n",
       "  <tbody>\n",
       "    <tr>\n",
       "      <th>1</th>\n",
       "      <td>A Min Tjoa</td>\n",
       "      <td>analysis_methodology_modeling</td>\n",
       "      <td>0.014706</td>\n",
       "      <td>0.047619</td>\n",
       "      <td>0.018519</td>\n",
       "      <td>0.000000</td>\n",
       "    </tr>\n",
       "    <tr>\n",
       "      <th>2</th>\n",
       "      <td>A Min Tjoa</td>\n",
       "      <td>data_metadata_database</td>\n",
       "      <td>0.088235</td>\n",
       "      <td>0.047619</td>\n",
       "      <td>0.388889</td>\n",
       "      <td>0.014490</td>\n",
       "    </tr>\n",
       "    <tr>\n",
       "      <th>3</th>\n",
       "      <td>A Min Tjoa</td>\n",
       "      <td>educational_elearning_education</td>\n",
       "      <td>0.029412</td>\n",
       "      <td>0.047619</td>\n",
       "      <td>0.203704</td>\n",
       "      <td>0.000479</td>\n",
       "    </tr>\n",
       "    <tr>\n",
       "      <th>4</th>\n",
       "      <td>A-Long Jin</td>\n",
       "      <td>channel_multiantenna_mimo</td>\n",
       "      <td>0.014706</td>\n",
       "      <td>0.047619</td>\n",
       "      <td>0.018519</td>\n",
       "      <td>0.000000</td>\n",
       "    </tr>\n",
       "    <tr>\n",
       "      <th>5</th>\n",
       "      <td>A-Long Jin</td>\n",
       "      <td>services_infrastructure_middleware</td>\n",
       "      <td>0.014706</td>\n",
       "      <td>0.047619</td>\n",
       "      <td>0.018519</td>\n",
       "      <td>0.000000</td>\n",
       "    </tr>\n",
       "  </tbody>\n",
       "</table>\n",
       "</div>"
      ],
      "text/plain": [
       "       mentor                             cluster  num_pubs  pub_rate  \\\n",
       "1  A Min Tjoa       analysis_methodology_modeling  0.014706  0.047619   \n",
       "2  A Min Tjoa              data_metadata_database  0.088235  0.047619   \n",
       "3  A Min Tjoa     educational_elearning_education  0.029412  0.047619   \n",
       "4  A-Long Jin           channel_multiantenna_mimo  0.014706  0.047619   \n",
       "5  A-Long Jin  services_infrastructure_middleware  0.014706  0.047619   \n",
       "\n",
       "   years_exp  cite_rank  \n",
       "1   0.018519   0.000000  \n",
       "2   0.388889   0.014490  \n",
       "3   0.203704   0.000479  \n",
       "4   0.018519   0.000000  \n",
       "5   0.018519   0.000000  "
      ]
     },
     "execution_count": 58,
     "metadata": {},
     "output_type": "execute_result"
    }
   ],
   "source": [
    "df_mentor_ranks = df_author_ranks[df_author_ranks[lbl_author].isin(\n",
    "                    df_author_role[df_author_role[lbl_role] == 'mentor'][lbl_author])] \\\n",
    "                        .rename(columns={lbl_author: lbl_mentor})\n",
    "df_mentor_ranks.head()"
   ]
  },
  {
   "cell_type": "code",
   "execution_count": 14,
   "metadata": {
    "collapsed": false
   },
   "outputs": [],
   "source": [
    "df_mentor_ranks.to_csv(f_mentor_ranks, sep=',', index=False, encoding='utf-8')"
   ]
  },
  {
   "cell_type": "code",
   "execution_count": 15,
   "metadata": {
    "collapsed": false
   },
   "outputs": [
    {
     "data": {
      "text/html": [
       "<div>\n",
       "<table border=\"1\" class=\"dataframe\">\n",
       "  <thead>\n",
       "    <tr style=\"text-align: right;\">\n",
       "      <th></th>\n",
       "      <th>mentee</th>\n",
       "      <th>cluster</th>\n",
       "      <th>num_pubs</th>\n",
       "      <th>pub_rate</th>\n",
       "      <th>years_exp</th>\n",
       "      <th>cite_rank</th>\n",
       "    </tr>\n",
       "  </thead>\n",
       "  <tbody>\n",
       "    <tr>\n",
       "      <th>0</th>\n",
       "      <td>(David) Jing Dai</td>\n",
       "      <td>budapest_conference_workshop</td>\n",
       "      <td>0.014706</td>\n",
       "      <td>0.047619</td>\n",
       "      <td>0.018519</td>\n",
       "      <td>0.0</td>\n",
       "    </tr>\n",
       "    <tr>\n",
       "      <th>20</th>\n",
       "      <td>A. A. Louis Beex</td>\n",
       "      <td>whitening_prewhitening_subband</td>\n",
       "      <td>0.014706</td>\n",
       "      <td>0.047619</td>\n",
       "      <td>0.018519</td>\n",
       "      <td>0.0</td>\n",
       "    </tr>\n",
       "    <tr>\n",
       "      <th>25</th>\n",
       "      <td>A. A. Shpiganovich</td>\n",
       "      <td>circuit_lcvco_switchedcapacitor</td>\n",
       "      <td>0.014706</td>\n",
       "      <td>0.047619</td>\n",
       "      <td>0.018519</td>\n",
       "      <td>0.0</td>\n",
       "    </tr>\n",
       "    <tr>\n",
       "      <th>34</th>\n",
       "      <td>A. Abdul Khadar</td>\n",
       "      <td>scheduling_qos_routing</td>\n",
       "      <td>0.014706</td>\n",
       "      <td>0.047619</td>\n",
       "      <td>0.018519</td>\n",
       "      <td>0.0</td>\n",
       "    </tr>\n",
       "    <tr>\n",
       "      <th>35</th>\n",
       "      <td>A. Abdul Rahim</td>\n",
       "      <td>educational_elearning_education</td>\n",
       "      <td>0.014706</td>\n",
       "      <td>0.047619</td>\n",
       "      <td>0.018519</td>\n",
       "      <td>0.0</td>\n",
       "    </tr>\n",
       "  </tbody>\n",
       "</table>\n",
       "</div>"
      ],
      "text/plain": [
       "                mentee                          cluster  num_pubs  pub_rate  \\\n",
       "0     (David) Jing Dai     budapest_conference_workshop  0.014706  0.047619   \n",
       "20    A. A. Louis Beex   whitening_prewhitening_subband  0.014706  0.047619   \n",
       "25  A. A. Shpiganovich  circuit_lcvco_switchedcapacitor  0.014706  0.047619   \n",
       "34     A. Abdul Khadar           scheduling_qos_routing  0.014706  0.047619   \n",
       "35      A. Abdul Rahim  educational_elearning_education  0.014706  0.047619   \n",
       "\n",
       "    years_exp  cite_rank  \n",
       "0    0.018519        0.0  \n",
       "20   0.018519        0.0  \n",
       "25   0.018519        0.0  \n",
       "34   0.018519        0.0  \n",
       "35   0.018519        0.0  "
      ]
     },
     "execution_count": 60,
     "metadata": {},
     "output_type": "execute_result"
    }
   ],
   "source": [
    "df_mentee_ranks = df_author_ranks[df_author_ranks[lbl_author].isin(\n",
    "                    df_author_role[df_author_role[lbl_role] == 'mentee'][lbl_author])] \\\n",
    "                        .rename(columns={lbl_author: lbl_mentee})\n",
    "df_mentee_ranks.head()"
   ]
  },
  {
   "cell_type": "markdown",
   "metadata": {},
   "source": [
    "Mentees should share preferences over topics and over the type of mentors they'd like to have."
   ]
  },
  {
   "cell_type": "code",
   "execution_count": 16,
   "metadata": {
    "collapsed": false,
    "scrolled": true
   },
   "outputs": [
    {
     "data": {
      "text/html": [
       "<div>\n",
       "<table border=\"1\" class=\"dataframe\">\n",
       "  <thead>\n",
       "    <tr style=\"text-align: right;\">\n",
       "      <th></th>\n",
       "      <th>mentee</th>\n",
       "      <th>cluster</th>\n",
       "      <th>num_pubs</th>\n",
       "      <th>pub_rate</th>\n",
       "      <th>years_exp</th>\n",
       "      <th>cite_rank</th>\n",
       "      <th>cluster_pref</th>\n",
       "    </tr>\n",
       "  </thead>\n",
       "  <tbody>\n",
       "    <tr>\n",
       "      <th>0</th>\n",
       "      <td>(David) Jing Dai</td>\n",
       "      <td>budapest_conference_workshop</td>\n",
       "      <td>0.014706</td>\n",
       "      <td>0.047619</td>\n",
       "      <td>0.018519</td>\n",
       "      <td>0.0</td>\n",
       "      <td>0.020211</td>\n",
       "    </tr>\n",
       "    <tr>\n",
       "      <th>20</th>\n",
       "      <td>A. A. Louis Beex</td>\n",
       "      <td>whitening_prewhitening_subband</td>\n",
       "      <td>0.014706</td>\n",
       "      <td>0.047619</td>\n",
       "      <td>0.018519</td>\n",
       "      <td>0.0</td>\n",
       "      <td>0.020211</td>\n",
       "    </tr>\n",
       "    <tr>\n",
       "      <th>25</th>\n",
       "      <td>A. A. Shpiganovich</td>\n",
       "      <td>circuit_lcvco_switchedcapacitor</td>\n",
       "      <td>0.014706</td>\n",
       "      <td>0.047619</td>\n",
       "      <td>0.018519</td>\n",
       "      <td>0.0</td>\n",
       "      <td>0.020211</td>\n",
       "    </tr>\n",
       "    <tr>\n",
       "      <th>34</th>\n",
       "      <td>A. Abdul Khadar</td>\n",
       "      <td>scheduling_qos_routing</td>\n",
       "      <td>0.014706</td>\n",
       "      <td>0.047619</td>\n",
       "      <td>0.018519</td>\n",
       "      <td>0.0</td>\n",
       "      <td>0.020211</td>\n",
       "    </tr>\n",
       "    <tr>\n",
       "      <th>35</th>\n",
       "      <td>A. Abdul Rahim</td>\n",
       "      <td>educational_elearning_education</td>\n",
       "      <td>0.014706</td>\n",
       "      <td>0.047619</td>\n",
       "      <td>0.018519</td>\n",
       "      <td>0.0</td>\n",
       "      <td>0.020211</td>\n",
       "    </tr>\n",
       "  </tbody>\n",
       "</table>\n",
       "</div>"
      ],
      "text/plain": [
       "                mentee                          cluster  num_pubs  pub_rate  \\\n",
       "0     (David) Jing Dai     budapest_conference_workshop  0.014706  0.047619   \n",
       "20    A. A. Louis Beex   whitening_prewhitening_subband  0.014706  0.047619   \n",
       "25  A. A. Shpiganovich  circuit_lcvco_switchedcapacitor  0.014706  0.047619   \n",
       "34     A. Abdul Khadar           scheduling_qos_routing  0.014706  0.047619   \n",
       "35      A. Abdul Rahim  educational_elearning_education  0.014706  0.047619   \n",
       "\n",
       "    years_exp  cite_rank  cluster_pref  \n",
       "0    0.018519        0.0      0.020211  \n",
       "20   0.018519        0.0      0.020211  \n",
       "25   0.018519        0.0      0.020211  \n",
       "34   0.018519        0.0      0.020211  \n",
       "35   0.018519        0.0      0.020211  "
      ]
     },
     "execution_count": 61,
     "metadata": {},
     "output_type": "execute_result"
    }
   ],
   "source": [
    "# For convenience, we assume the mentees' cluster_pref score is the average score among their kpis.\n",
    "df_mentee_ranks[lbl_cluster_pref] = df_mentee_ranks[[lbl_num_pubs,\n",
    "                                                     lbl_pub_rate,\n",
    "                                                     lbl_years_exp,\n",
    "                                                     lbl_rank]].mean(axis=1)\n",
    "df_mentee_ranks.head()"
   ]
  },
  {
   "cell_type": "markdown",
   "metadata": {},
   "source": [
    "Delete unused kpi columns (measuring the expertise of mentees) and assign the ones that capture their preferences."
   ]
  },
  {
   "cell_type": "code",
   "execution_count": 17,
   "metadata": {
    "collapsed": false
   },
   "outputs": [
    {
     "data": {
      "text/html": [
       "<div>\n",
       "<table border=\"1\" class=\"dataframe\">\n",
       "  <thead>\n",
       "    <tr style=\"text-align: right;\">\n",
       "      <th></th>\n",
       "      <th>mentee</th>\n",
       "      <th>cluster</th>\n",
       "      <th>cluster_pref</th>\n",
       "    </tr>\n",
       "  </thead>\n",
       "  <tbody>\n",
       "    <tr>\n",
       "      <th>0</th>\n",
       "      <td>(David) Jing Dai</td>\n",
       "      <td>budapest_conference_workshop</td>\n",
       "      <td>0.020211</td>\n",
       "    </tr>\n",
       "    <tr>\n",
       "      <th>20</th>\n",
       "      <td>A. A. Louis Beex</td>\n",
       "      <td>whitening_prewhitening_subband</td>\n",
       "      <td>0.020211</td>\n",
       "    </tr>\n",
       "    <tr>\n",
       "      <th>25</th>\n",
       "      <td>A. A. Shpiganovich</td>\n",
       "      <td>circuit_lcvco_switchedcapacitor</td>\n",
       "      <td>0.020211</td>\n",
       "    </tr>\n",
       "    <tr>\n",
       "      <th>34</th>\n",
       "      <td>A. Abdul Khadar</td>\n",
       "      <td>scheduling_qos_routing</td>\n",
       "      <td>0.020211</td>\n",
       "    </tr>\n",
       "    <tr>\n",
       "      <th>35</th>\n",
       "      <td>A. Abdul Rahim</td>\n",
       "      <td>educational_elearning_education</td>\n",
       "      <td>0.020211</td>\n",
       "    </tr>\n",
       "  </tbody>\n",
       "</table>\n",
       "</div>"
      ],
      "text/plain": [
       "                mentee                          cluster  cluster_pref\n",
       "0     (David) Jing Dai     budapest_conference_workshop      0.020211\n",
       "20    A. A. Louis Beex   whitening_prewhitening_subband      0.020211\n",
       "25  A. A. Shpiganovich  circuit_lcvco_switchedcapacitor      0.020211\n",
       "34     A. Abdul Khadar           scheduling_qos_routing      0.020211\n",
       "35      A. Abdul Rahim  educational_elearning_education      0.020211"
      ]
     },
     "execution_count": 62,
     "metadata": {},
     "output_type": "execute_result"
    }
   ],
   "source": [
    "df_mentee_ranks.drop([lbl_num_pubs,\n",
    "                      lbl_pub_rate,\n",
    "                      lbl_years_exp,\n",
    "                      lbl_rank], axis=1, inplace=True)\n",
    "df_mentee_ranks.head()"
   ]
  },
  {
   "cell_type": "markdown",
   "metadata": {},
   "source": [
    "As a convention, for the simulation we generate random preferences."
   ]
  },
  {
   "cell_type": "code",
   "execution_count": 18,
   "metadata": {
    "collapsed": false
   },
   "outputs": [
    {
     "data": {
      "text/html": [
       "<div>\n",
       "<table border=\"1\" class=\"dataframe\">\n",
       "  <thead>\n",
       "    <tr style=\"text-align: right;\">\n",
       "      <th></th>\n",
       "      <th>mentee</th>\n",
       "      <th>num_pubs_pref</th>\n",
       "      <th>pub_rate_pref</th>\n",
       "      <th>years_exp_pref</th>\n",
       "      <th>cite_rank_pref</th>\n",
       "    </tr>\n",
       "  </thead>\n",
       "  <tbody>\n",
       "    <tr>\n",
       "      <th>0</th>\n",
       "      <td>(David) Jing Dai</td>\n",
       "      <td>0.117496</td>\n",
       "      <td>0.777833</td>\n",
       "      <td>0.529473</td>\n",
       "      <td>0.711975</td>\n",
       "    </tr>\n",
       "    <tr>\n",
       "      <th>20</th>\n",
       "      <td>A. A. Louis Beex</td>\n",
       "      <td>0.428107</td>\n",
       "      <td>0.493248</td>\n",
       "      <td>0.332515</td>\n",
       "      <td>0.586327</td>\n",
       "    </tr>\n",
       "    <tr>\n",
       "      <th>25</th>\n",
       "      <td>A. A. Shpiganovich</td>\n",
       "      <td>0.182939</td>\n",
       "      <td>0.314040</td>\n",
       "      <td>0.985632</td>\n",
       "      <td>0.088795</td>\n",
       "    </tr>\n",
       "    <tr>\n",
       "      <th>34</th>\n",
       "      <td>A. Abdul Khadar</td>\n",
       "      <td>0.898308</td>\n",
       "      <td>0.397429</td>\n",
       "      <td>0.322616</td>\n",
       "      <td>0.109706</td>\n",
       "    </tr>\n",
       "    <tr>\n",
       "      <th>35</th>\n",
       "      <td>A. Abdul Rahim</td>\n",
       "      <td>0.814334</td>\n",
       "      <td>0.070570</td>\n",
       "      <td>0.109393</td>\n",
       "      <td>0.110909</td>\n",
       "    </tr>\n",
       "  </tbody>\n",
       "</table>\n",
       "</div>"
      ],
      "text/plain": [
       "                mentee  num_pubs_pref  pub_rate_pref  years_exp_pref  \\\n",
       "0     (David) Jing Dai       0.117496       0.777833        0.529473   \n",
       "20    A. A. Louis Beex       0.428107       0.493248        0.332515   \n",
       "25  A. A. Shpiganovich       0.182939       0.314040        0.985632   \n",
       "34     A. Abdul Khadar       0.898308       0.397429        0.322616   \n",
       "35      A. Abdul Rahim       0.814334       0.070570        0.109393   \n",
       "\n",
       "    cite_rank_pref  \n",
       "0         0.711975  \n",
       "20        0.586327  \n",
       "25        0.088795  \n",
       "34        0.109706  \n",
       "35        0.110909  "
      ]
     },
     "execution_count": 63,
     "metadata": {},
     "output_type": "execute_result"
    }
   ],
   "source": [
    "df_mentee_prefs = df_mentee_ranks[[lbl_mentee]].drop_duplicates()\n",
    "df_mentee_prefs[lbl_num_pubs_pref] = np.random.rand(len(df_mentee_prefs))\n",
    "df_mentee_prefs[lbl_pub_rate_pref] = np.random.rand(len(df_mentee_prefs))\n",
    "df_mentee_prefs[lbl_years_exp_pref] = np.random.rand(len(df_mentee_prefs))\n",
    "df_mentee_prefs[lbl_rank_pref] = np.random.rand(len(df_mentee_prefs))\n",
    "df_mentee_prefs.head()"
   ]
  },
  {
   "cell_type": "markdown",
   "metadata": {},
   "source": [
    "Write down dataframes as CSV files to be read in the next notebook"
   ]
  },
  {
   "cell_type": "code",
   "execution_count": 19,
   "metadata": {
    "collapsed": true
   },
   "outputs": [],
   "source": [
    "df_mentee_prefs.to_csv(f_mentee_prefs_dblp_data, sep=',', index=False, encoding='utf-8')\n",
    "df_mentee_ranks.to_csv(f_mentee_topic_prefs_dblp_data, sep=',', index=False, encoding='utf-8')"
   ]
  }
 ],
 "metadata": {
  "kernelspec": {
   "display_name": "Python [default]",
   "language": "python",
   "name": "python2"
  },
  "language_info": {
   "codemirror_mode": {
    "name": "ipython",
    "version": 2
   },
   "file_extension": ".py",
   "mimetype": "text/x-python",
   "name": "python",
   "nbconvert_exporter": "python",
   "pygments_lexer": "ipython2",
   "version": "2.7.13"
  }
 },
 "nbformat": 4,
 "nbformat_minor": 2
}
