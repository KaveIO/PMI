{
 "cells": [
  {
   "cell_type": "markdown",
   "metadata": {},
   "source": [
    "# 1. Inizialize and import libraries"
   ]
  },
  {
   "cell_type": "code",
   "execution_count": 1,
   "metadata": {
    "collapsed": false
   },
   "outputs": [],
   "source": [
    "import pandas as pd\n",
    "import numpy as np\n",
    "import os\n",
    "import sys\n",
    "import string\n",
    "import nltk\n",
    "import pickle\n",
    "from time import time\n",
    "import networkx as nx\n",
    "from sklearn.preprocessing import MinMaxScaler\n",
    "\n",
    "import warnings\n",
    "warnings.filterwarnings(action='ignore')\n",
    "\n",
    "from gensim.models import Word2Vec"
   ]
  },
  {
   "cell_type": "code",
   "execution_count": 2,
   "metadata": {
    "collapsed": true
   },
   "outputs": [],
   "source": [
    "sys.path.insert(0, 'pmi_utils')"
   ]
  },
  {
   "cell_type": "code",
   "execution_count": 3,
   "metadata": {
    "collapsed": true
   },
   "outputs": [],
   "source": [
    "import shared_variables\n",
    "from shared_variables import *"
   ]
  },
  {
   "cell_type": "code",
   "execution_count": 4,
   "metadata": {
    "collapsed": true
   },
   "outputs": [],
   "source": [
    "shared_variables = reload(shared_variables)"
   ]
  },
  {
   "cell_type": "code",
   "execution_count": 5,
   "metadata": {
    "collapsed": false
   },
   "outputs": [],
   "source": [
    "# read the serialized sample\n",
    "df_sample_dblp = pd.read_json(f_sample_dblp)\n",
    "# read the whole dblp file\n",
    "df_json_dblp = pd.read_json(f_json_dblp)\n",
    "df_json_dblp.columns = columns\n",
    "# read the whole dblp file unpacked by author\n",
    "df_json_by_author = pd.read_csv(f_json_by_author)"
   ]
  },
  {
   "cell_type": "code",
   "execution_count": 6,
   "metadata": {
    "collapsed": true
   },
   "outputs": [],
   "source": [
    "df_json_dblp.columns = columns"
   ]
  },
  {
   "cell_type": "code",
   "execution_count": 7,
   "metadata": {
    "collapsed": false
   },
   "outputs": [
    {
     "data": {
      "text/plain": [
       "(614193, 9)"
      ]
     },
     "execution_count": 8,
     "metadata": {},
     "output_type": "execute_result"
    }
   ],
   "source": [
    "df_sample_dblp.shape"
   ]
  },
  {
   "cell_type": "code",
   "execution_count": 8,
   "metadata": {
    "collapsed": false
   },
   "outputs": [
    {
     "data": {
      "text/plain": [
       "(6141934, 9)"
      ]
     },
     "execution_count": 9,
     "metadata": {},
     "output_type": "execute_result"
    }
   ],
   "source": [
    "df_json_dblp.shape"
   ]
  },
  {
   "cell_type": "code",
   "execution_count": 9,
   "metadata": {
    "collapsed": false
   },
   "outputs": [
    {
     "data": {
      "text/plain": [
       "(13855925, 2)"
      ]
     },
     "execution_count": 10,
     "metadata": {},
     "output_type": "execute_result"
    }
   ],
   "source": [
    "df_json_by_author.shape"
   ]
  },
  {
   "cell_type": "code",
   "execution_count": 10,
   "metadata": {
    "collapsed": false
   },
   "outputs": [],
   "source": [
    "# Remove paper ids used for training the models\n",
    "paper_id_train = set(df_sample_dblp[lbl_paper_id])\n",
    "df_json_dblp = df_json_dblp[~df_json_dblp[lbl_paper_id].isin(paper_id_train)]\n",
    "df_json_by_author = df_json_by_author[~df_json_by_author[lbl_paper_id].isin(paper_id_train)]"
   ]
  },
  {
   "cell_type": "code",
   "execution_count": 11,
   "metadata": {
    "collapsed": false
   },
   "outputs": [
    {
     "data": {
      "text/plain": [
       "(5527741, 9)"
      ]
     },
     "execution_count": 12,
     "metadata": {},
     "output_type": "execute_result"
    }
   ],
   "source": [
    "df_json_dblp.shape"
   ]
  },
  {
   "cell_type": "code",
   "execution_count": 12,
   "metadata": {
    "collapsed": false
   },
   "outputs": [
    {
     "data": {
      "text/plain": [
       "(12469567, 2)"
      ]
     },
     "execution_count": 13,
     "metadata": {},
     "output_type": "execute_result"
    }
   ],
   "source": [
    "df_json_by_author.shape"
   ]
  },
  {
   "cell_type": "code",
   "execution_count": 13,
   "metadata": {
    "collapsed": false
   },
   "outputs": [],
   "source": [
    "df_dblp_by_author = pd.merge(df_json_dblp, df_json_by_author, on=lbl_paper_id)"
   ]
  },
  {
   "cell_type": "markdown",
   "metadata": {},
   "source": [
    "# 2. Generate test set"
   ]
  },
  {
   "cell_type": "markdown",
   "metadata": {},
   "source": [
    "Now calculate top publishing authors on a sample of 10% of the dataset (for running time efficiency)."
   ]
  },
  {
   "cell_type": "code",
   "execution_count": 15,
   "metadata": {
    "collapsed": false
   },
   "outputs": [
    {
     "data": {
      "text/plain": [
       "(1246957, 10)"
      ]
     },
     "execution_count": 16,
     "metadata": {},
     "output_type": "execute_result"
    }
   ],
   "source": [
    "df_sample_json_dblp_by_author = df_dblp_by_author.sample(frac=0.1)\n",
    "df_sample_json_dblp_by_author.shape"
   ]
  },
  {
   "cell_type": "code",
   "execution_count": 16,
   "metadata": {
    "collapsed": false
   },
   "outputs": [
    {
     "data": {
      "text/plain": [
       "count    12817.000000\n",
       "mean        16.238979\n",
       "std          8.715565\n",
       "min         10.000000\n",
       "25%         11.000000\n",
       "50%         13.000000\n",
       "75%         18.000000\n",
       "max        137.000000\n",
       "Name: paper_id, dtype: float64"
      ]
     },
     "execution_count": 112,
     "metadata": {},
     "output_type": "execute_result"
    }
   ],
   "source": [
    "pubs_per_author = df_sample_json_dblp_by_author.groupby(lbl_author)[lbl_paper_id].count()\n",
    "pubs_per_author = pubs_per_author[pubs_per_author >= 10]\n",
    "pubs_per_author.describe()"
   ]
  },
  {
   "cell_type": "code",
   "execution_count": 17,
   "metadata": {
    "collapsed": false
   },
   "outputs": [
    {
     "data": {
      "text/plain": [
       "(1636, 10)"
      ]
     },
     "execution_count": 113,
     "metadata": {},
     "output_type": "execute_result"
    }
   ],
   "source": [
    "# Only get their names\n",
    "top_publishing_authors = pubs_per_author.sample(n=100).index.tolist()\n",
    "# Filter dataset on them\n",
    "df_test = df_sample_json_dblp_by_author[df_sample_json_dblp_by_author[lbl_author].isin(top_publishing_authors)]\n",
    "df_test.shape"
   ]
  },
  {
   "cell_type": "markdown",
   "metadata": {},
   "source": [
    "For each author take a sample of 20 (if possible) publications and predict their cluster, based on the pre-trained kmeans"
   ]
  },
  {
   "cell_type": "code",
   "execution_count": 18,
   "metadata": {
    "collapsed": false
   },
   "outputs": [
    {
     "data": {
      "text/plain": [
       "1376"
      ]
     },
     "execution_count": 114,
     "metadata": {},
     "output_type": "execute_result"
    }
   ],
   "source": [
    "selected_pubs = set()\n",
    "for author, author_indices in df_test.groupby(lbl_author).groups.iteritems():\n",
    "    df_test_author = df_test.loc[author_indices]\n",
    "    sample_size = min(20, len(df_test_author))\n",
    "    sampled_pubs = set(df_test_author[lbl_paper_id].sample(n=sample_size))\n",
    "    selected_pubs = selected_pubs.union(sampled_pubs)\n",
    "len(selected_pubs)"
   ]
  },
  {
   "cell_type": "code",
   "execution_count": 19,
   "metadata": {
    "collapsed": false
   },
   "outputs": [
    {
     "data": {
      "text/plain": [
       "(1376, 10)"
      ]
     },
     "execution_count": 115,
     "metadata": {},
     "output_type": "execute_result"
    }
   ],
   "source": [
    "# Filter df_test on selected pubs\n",
    "df_test = df_test[df_test[lbl_paper_id].isin(selected_pubs)]\n",
    "df_test.shape"
   ]
  },
  {
   "cell_type": "code",
   "execution_count": 20,
   "metadata": {
    "collapsed": false
   },
   "outputs": [
    {
     "data": {
      "text/plain": [
       "12397553    Conceptual Development of Mental Health Ontolo...\n",
       "2962586     A multi-objective memetic algorithm based on d...\n",
       "10313131    Privacy intrusion detection using dynamic Baye...\n",
       "7507111     A fast IP classification algorithm applying to...\n",
       "5201197     A framework for quality-based biometric classi...\n",
       "Name: title, dtype: object"
      ]
     },
     "execution_count": 116,
     "metadata": {},
     "output_type": "execute_result"
    }
   ],
   "source": [
    "df_test[lbl_title].head()"
   ]
  },
  {
   "cell_type": "markdown",
   "metadata": {},
   "source": [
    "# 3. Testing assigned topics"
   ]
  },
  {
   "cell_type": "markdown",
   "metadata": {},
   "source": [
    "Clean and preprocess text for word2vec"
   ]
  },
  {
   "cell_type": "code",
   "execution_count": 21,
   "metadata": {
    "collapsed": true
   },
   "outputs": [],
   "source": [
    "# Clean text function\n",
    "def clean_text(text):\n",
    "    def replace_punctuation(sentence):\n",
    "        if(pd.isnull(sentence)):\n",
    "            return \"\"\n",
    "        punctuation = string.punctuation\n",
    "        for p in punctuation:\n",
    "            sentence = sentence.replace(p, '')\n",
    "        return sentence\n",
    "    # Remove punctuation\n",
    "    text = text.apply(replace_punctuation)\n",
    "    # Remove numbers\n",
    "    text = text.apply(lambda x: ''.join([c for c in x if not c.isdigit()]))\n",
    "    # Remove words of length <= 1\n",
    "    text = text.apply(lambda x: ' '.join([word for word in x.split() if len(word) > 1]))\n",
    "    # Convert to lower case\n",
    "    text = text.apply(lambda x: x.lower() if pd.notnull(x) else '')\n",
    "    # Remove stopwords\n",
    "    text = text.apply(lambda x: ' '.join([xi for xi in x.split() if xi not in stopw]))\n",
    "    \n",
    "    return text"
   ]
  },
  {
   "cell_type": "code",
   "execution_count": 22,
   "metadata": {
    "collapsed": false
   },
   "outputs": [],
   "source": [
    "words_test = clean_text(df_test[lbl_title]) \\\n",
    "                .apply(lambda line: line.split() if pd.notnull(line) else [])"
   ]
  },
  {
   "cell_type": "code",
   "execution_count": 23,
   "metadata": {
    "collapsed": true
   },
   "outputs": [],
   "source": [
    "#the parameter for this function are the path where the models are stored, the prefix used for the models\n",
    "#With this parameter is possible to load model saved by other simply indicating the path and the prefix of \n",
    "#that model.\n",
    "#We assume that a timestamp is concatenated to the model name, e.g. model_1520587779\n",
    "def load_most_recent_model(dir_word2vec_models, model_prefix='model_'):\n",
    "    #listing the file located in the path\n",
    "    ser_models = os.listdir(dir_word2vec_models)\n",
    "    #define an empty array that will be populated by timestamps\n",
    "    times = []\n",
    "    #for each file into the directory\n",
    "    for f in ser_models:\n",
    "        #if the prefix match the filename \n",
    "        if f.startswith(model_prefix) and not f.endswith('.npy'):\n",
    "            #strip the name of the file. the lstrip take the last part of the filename that is the timestamp.\n",
    "            #add this timestamp to the araay\n",
    "            times.append(int(f.lstrip(model_prefix)))\n",
    "    try:\n",
    "        #try to load the most recent file, that have the max values of timestamp\n",
    "        model1 = Word2Vec.load('%s%s%d' %(dir_word2vec_models, model_prefix, max(times)))\n",
    "        #return that model\n",
    "        return model1\n",
    "    except:\n",
    "        #in case of exception return None\n",
    "        return None"
   ]
  },
  {
   "cell_type": "code",
   "execution_count": 24,
   "metadata": {
    "collapsed": false
   },
   "outputs": [],
   "source": [
    "model = load_most_recent_model(dir_word2vec_models, model_prefix='abstract_model_')"
   ]
  },
  {
   "cell_type": "code",
   "execution_count": 25,
   "metadata": {
    "collapsed": false
   },
   "outputs": [
    {
     "data": {
      "text/plain": [
       "<gensim.models.word2vec.Word2Vec at 0x1fc4d50b8>"
      ]
     },
     "execution_count": 121,
     "metadata": {},
     "output_type": "execute_result"
    }
   ],
   "source": [
    "model"
   ]
  },
  {
   "cell_type": "code",
   "execution_count": 26,
   "metadata": {
    "collapsed": false
   },
   "outputs": [
    {
     "data": {
      "text/plain": [
       "200"
      ]
     },
     "execution_count": 122,
     "metadata": {},
     "output_type": "execute_result"
    }
   ],
   "source": [
    "vec_len = model.vector_size\n",
    "vec_len"
   ]
  },
  {
   "cell_type": "code",
   "execution_count": 27,
   "metadata": {
    "collapsed": false
   },
   "outputs": [
    {
     "data": {
      "text/plain": [
       "[(u'networks', 0.8393702507019043),\n",
       " (u'subnetwork', 0.5993532538414001),\n",
       " (u'subnet', 0.5914520025253296),\n",
       " (u'internetwork', 0.5871062874794006),\n",
       " (u'network\\u2019s', 0.5801593065261841),\n",
       " (u'endhosts', 0.5662047863006592),\n",
       " (u'subnets', 0.5600781440734863),\n",
       " (u'network\\u201d', 0.5502232313156128),\n",
       " (u'networking', 0.5386593341827393),\n",
       " (u'backbone', 0.5377504825592041)]"
      ]
     },
     "execution_count": 123,
     "metadata": {},
     "output_type": "execute_result"
    }
   ],
   "source": [
    "model.wv.most_similar('network')"
   ]
  },
  {
   "cell_type": "code",
   "execution_count": 28,
   "metadata": {
    "collapsed": true
   },
   "outputs": [],
   "source": [
    "#the input is an array of words representing the title of the article\n",
    "def avg_vector_by_words(words):\n",
    "    try:\n",
    "        #check if there is elements\n",
    "        if len(words) > 0:\n",
    "            vec_words = []\n",
    "            for word in words:\n",
    "                try:\n",
    "                    #for each word, append to an array its associated vector\n",
    "                    vec_words.append(model.wv[word])\n",
    "                except:\n",
    "                    pass\n",
    "            if len(vec_words) > 0:\n",
    "                #return the mean values of the vectors associated to the titles word\n",
    "                return np.mean(vec_words, axis=0)\n",
    "            return np.zeros(vec_len)\n",
    "        return np.zeros(vec_len)\n",
    "    except:\n",
    "        return np.zeros(vec_len)"
   ]
  },
  {
   "cell_type": "code",
   "execution_count": 29,
   "metadata": {
    "collapsed": false
   },
   "outputs": [],
   "source": [
    "titles_test = words_test.apply(avg_vector_by_words)\n",
    "X_test = np.asmatrix(titles_test.tolist())"
   ]
  },
  {
   "cell_type": "code",
   "execution_count": 30,
   "metadata": {
    "collapsed": false
   },
   "outputs": [
    {
     "data": {
      "text/plain": [
       "KMeans(algorithm='auto', copy_x=True, init='k-means++', max_iter=300,\n",
       "    n_clusters=30, n_init=10, n_jobs=-1, precompute_distances='auto',\n",
       "    random_state=None, tol=0.0001, verbose=0)"
      ]
     },
     "execution_count": 126,
     "metadata": {},
     "output_type": "execute_result"
    }
   ],
   "source": [
    "kmeans = pickle.load(open(f_kmeans, 'r'))\n",
    "kmeans"
   ]
  },
  {
   "cell_type": "code",
   "execution_count": 31,
   "metadata": {
    "collapsed": true
   },
   "outputs": [],
   "source": [
    "k = kmeans.n_clusters"
   ]
  },
  {
   "cell_type": "code",
   "execution_count": 32,
   "metadata": {
    "collapsed": false
   },
   "outputs": [
    {
     "data": {
      "text/plain": [
       "array([16, 14, 29, ..., 21, 29,  1])"
      ]
     },
     "execution_count": 128,
     "metadata": {},
     "output_type": "execute_result"
    }
   ],
   "source": [
    "y_test = kmeans.predict(X_test)\n",
    "y_test"
   ]
  },
  {
   "cell_type": "code",
   "execution_count": 33,
   "metadata": {
    "collapsed": false
   },
   "outputs": [],
   "source": [
    "# Retrieve cluster names\n",
    "cluster_id_name = pd.read_csv(f_cluster_id_name, sep=',', index_col=0)"
   ]
  },
  {
   "cell_type": "code",
   "execution_count": 34,
   "metadata": {
    "collapsed": false
   },
   "outputs": [
    {
     "data": {
      "text/html": [
       "<div>\n",
       "<table border=\"1\" class=\"dataframe\">\n",
       "  <thead>\n",
       "    <tr style=\"text-align: right;\">\n",
       "      <th></th>\n",
       "      <th>cluster</th>\n",
       "    </tr>\n",
       "  </thead>\n",
       "  <tbody>\n",
       "    <tr>\n",
       "      <th>0</th>\n",
       "      <td>robot_robotic_endeffectors</td>\n",
       "    </tr>\n",
       "    <tr>\n",
       "      <th>1</th>\n",
       "      <td>specification_declarative_abstractions</td>\n",
       "    </tr>\n",
       "    <tr>\n",
       "      <th>2</th>\n",
       "      <td>software_componentbased_enterprise</td>\n",
       "    </tr>\n",
       "    <tr>\n",
       "      <th>3</th>\n",
       "      <td>recognition_classification_segmentation</td>\n",
       "    </tr>\n",
       "    <tr>\n",
       "      <th>4</th>\n",
       "      <td>learning_learner_metalearning</td>\n",
       "    </tr>\n",
       "  </tbody>\n",
       "</table>\n",
       "</div>"
      ],
      "text/plain": [
       "                                   cluster\n",
       "0               robot_robotic_endeffectors\n",
       "1   specification_declarative_abstractions\n",
       "2       software_componentbased_enterprise\n",
       "3  recognition_classification_segmentation\n",
       "4            learning_learner_metalearning"
      ]
     },
     "execution_count": 130,
     "metadata": {},
     "output_type": "execute_result"
    }
   ],
   "source": [
    "cluster_id_name.head()"
   ]
  },
  {
   "cell_type": "code",
   "execution_count": 35,
   "metadata": {
    "collapsed": false
   },
   "outputs": [
    {
     "data": {
      "text/html": [
       "<div>\n",
       "<table border=\"1\" class=\"dataframe\">\n",
       "  <thead>\n",
       "    <tr style=\"text-align: right;\">\n",
       "      <th></th>\n",
       "      <th>author</th>\n",
       "      <th>title</th>\n",
       "      <th>cluster</th>\n",
       "    </tr>\n",
       "  </thead>\n",
       "  <tbody>\n",
       "    <tr>\n",
       "      <th>12397553</th>\n",
       "      <td>Jitender S. Deogun</td>\n",
       "      <td>Conceptual Development of Mental Health Ontolo...</td>\n",
       "      <td>educational_elearning_education</td>\n",
       "    </tr>\n",
       "    <tr>\n",
       "      <th>2962586</th>\n",
       "      <td>Jing Liu</td>\n",
       "      <td>A multi-objective memetic algorithm based on d...</td>\n",
       "      <td>heuristic_algorithm_algorithms</td>\n",
       "    </tr>\n",
       "    <tr>\n",
       "      <th>10313131</th>\n",
       "      <td>Nick Cercone</td>\n",
       "      <td>Privacy intrusion detection using dynamic Baye...</td>\n",
       "      <td>clustering_classifier_classification</td>\n",
       "    </tr>\n",
       "    <tr>\n",
       "      <th>7507111</th>\n",
       "      <td>Jianping Wu</td>\n",
       "      <td>A fast IP classification algorithm applying to...</td>\n",
       "      <td>clustering_classifier_classification</td>\n",
       "    </tr>\n",
       "    <tr>\n",
       "      <th>5201197</th>\n",
       "      <td>Richa Singh</td>\n",
       "      <td>A framework for quality-based biometric classi...</td>\n",
       "      <td>recognition_classification_segmentation</td>\n",
       "    </tr>\n",
       "  </tbody>\n",
       "</table>\n",
       "</div>"
      ],
      "text/plain": [
       "                      author  \\\n",
       "12397553  Jitender S. Deogun   \n",
       "2962586             Jing Liu   \n",
       "10313131        Nick Cercone   \n",
       "7507111          Jianping Wu   \n",
       "5201197          Richa Singh   \n",
       "\n",
       "                                                      title  \\\n",
       "12397553  Conceptual Development of Mental Health Ontolo...   \n",
       "2962586   A multi-objective memetic algorithm based on d...   \n",
       "10313131  Privacy intrusion detection using dynamic Baye...   \n",
       "7507111   A fast IP classification algorithm applying to...   \n",
       "5201197   A framework for quality-based biometric classi...   \n",
       "\n",
       "                                          cluster  \n",
       "12397553          educational_elearning_education  \n",
       "2962586            heuristic_algorithm_algorithms  \n",
       "10313131     clustering_classifier_classification  \n",
       "7507111      clustering_classifier_classification  \n",
       "5201197   recognition_classification_segmentation  "
      ]
     },
     "execution_count": 131,
     "metadata": {},
     "output_type": "execute_result"
    }
   ],
   "source": [
    "# Assign cluster names to test papers\n",
    "df_test[lbl_cluster] = [cluster_id_name.loc[x][0] for x in y_test]\n",
    "df_test[[lbl_author, lbl_title, lbl_cluster]].head()"
   ]
  },
  {
   "cell_type": "code",
   "execution_count": 36,
   "metadata": {
    "collapsed": false
   },
   "outputs": [
    {
     "data": {
      "text/html": [
       "<div>\n",
       "<table border=\"1\" class=\"dataframe\">\n",
       "  <thead>\n",
       "    <tr style=\"text-align: right;\">\n",
       "      <th></th>\n",
       "      <th>author</th>\n",
       "      <th>cluster</th>\n",
       "    </tr>\n",
       "  </thead>\n",
       "  <tbody>\n",
       "    <tr>\n",
       "      <th>12397553</th>\n",
       "      <td>Jitender S. Deogun</td>\n",
       "      <td>educational_elearning_education</td>\n",
       "    </tr>\n",
       "    <tr>\n",
       "      <th>2962586</th>\n",
       "      <td>Jing Liu</td>\n",
       "      <td>heuristic_algorithm_algorithms</td>\n",
       "    </tr>\n",
       "    <tr>\n",
       "      <th>10313131</th>\n",
       "      <td>Nick Cercone</td>\n",
       "      <td>clustering_classifier_classification</td>\n",
       "    </tr>\n",
       "    <tr>\n",
       "      <th>7507111</th>\n",
       "      <td>Jianping Wu</td>\n",
       "      <td>clustering_classifier_classification</td>\n",
       "    </tr>\n",
       "    <tr>\n",
       "      <th>5201197</th>\n",
       "      <td>Richa Singh</td>\n",
       "      <td>recognition_classification_segmentation</td>\n",
       "    </tr>\n",
       "  </tbody>\n",
       "</table>\n",
       "</div>"
      ],
      "text/plain": [
       "                      author                                  cluster\n",
       "12397553  Jitender S. Deogun          educational_elearning_education\n",
       "2962586             Jing Liu           heuristic_algorithm_algorithms\n",
       "10313131        Nick Cercone     clustering_classifier_classification\n",
       "7507111          Jianping Wu     clustering_classifier_classification\n",
       "5201197          Richa Singh  recognition_classification_segmentation"
      ]
     },
     "execution_count": 132,
     "metadata": {},
     "output_type": "execute_result"
    }
   ],
   "source": [
    "# Assign clusters to authors and compare with the train dataset ones\n",
    "df_author_test = df_test[[lbl_author, lbl_cluster]].drop_duplicates()\n",
    "df_author_test.head()"
   ]
  },
  {
   "cell_type": "code",
   "execution_count": 37,
   "metadata": {
    "collapsed": false
   },
   "outputs": [
    {
     "data": {
      "text/plain": [
       "(714, 2)"
      ]
     },
     "execution_count": 133,
     "metadata": {},
     "output_type": "execute_result"
    }
   ],
   "source": [
    "df_author_test.shape"
   ]
  },
  {
   "cell_type": "code",
   "execution_count": 38,
   "metadata": {
    "collapsed": false
   },
   "outputs": [
    {
     "data": {
      "text/html": [
       "<div>\n",
       "<table border=\"1\" class=\"dataframe\">\n",
       "  <thead>\n",
       "    <tr style=\"text-align: right;\">\n",
       "      <th></th>\n",
       "      <th>author</th>\n",
       "      <th>cluster</th>\n",
       "    </tr>\n",
       "  </thead>\n",
       "  <tbody>\n",
       "    <tr>\n",
       "      <th>0</th>\n",
       "      <td>(David) Jing Dai</td>\n",
       "      <td>budapest_conference_workshop</td>\n",
       "    </tr>\n",
       "    <tr>\n",
       "      <th>1</th>\n",
       "      <td>A Min Tjoa</td>\n",
       "      <td>analysis_methodology_modeling</td>\n",
       "    </tr>\n",
       "    <tr>\n",
       "      <th>2</th>\n",
       "      <td>A Min Tjoa</td>\n",
       "      <td>data_metadata_database</td>\n",
       "    </tr>\n",
       "    <tr>\n",
       "      <th>3</th>\n",
       "      <td>A Min Tjoa</td>\n",
       "      <td>educational_elearning_education</td>\n",
       "    </tr>\n",
       "    <tr>\n",
       "      <th>4</th>\n",
       "      <td>A-Long Jin</td>\n",
       "      <td>channel_multiantenna_mimo</td>\n",
       "    </tr>\n",
       "  </tbody>\n",
       "</table>\n",
       "</div>"
      ],
      "text/plain": [
       "             author                          cluster\n",
       "0  (David) Jing Dai     budapest_conference_workshop\n",
       "1        A Min Tjoa    analysis_methodology_modeling\n",
       "2        A Min Tjoa           data_metadata_database\n",
       "3        A Min Tjoa  educational_elearning_education\n",
       "4        A-Long Jin        channel_multiantenna_mimo"
      ]
     },
     "execution_count": 134,
     "metadata": {},
     "output_type": "execute_result"
    }
   ],
   "source": [
    "df_author_train = pd.read_csv(f_author_ranks, sep=',', usecols=[lbl_author, lbl_cluster])\n",
    "df_author_train.head()"
   ]
  },
  {
   "cell_type": "code",
   "execution_count": 39,
   "metadata": {
    "collapsed": false
   },
   "outputs": [
    {
     "data": {
      "text/plain": [
       "(310144, 2)"
      ]
     },
     "execution_count": 135,
     "metadata": {},
     "output_type": "execute_result"
    }
   ],
   "source": [
    "df_author_train.shape"
   ]
  },
  {
   "cell_type": "code",
   "execution_count": 40,
   "metadata": {
    "collapsed": false
   },
   "outputs": [
    {
     "data": {
      "text/plain": [
       "(321, 2)"
      ]
     },
     "execution_count": 136,
     "metadata": {},
     "output_type": "execute_result"
    }
   ],
   "source": [
    "# Filter training set by authors in test set\n",
    "df_author_train = df_author_train[df_author_train[lbl_author].isin(df_author_test[lbl_author])]\n",
    "df_author_train.shape"
   ]
  },
  {
   "cell_type": "code",
   "execution_count": 41,
   "metadata": {
    "collapsed": false
   },
   "outputs": [
    {
     "data": {
      "text/html": [
       "<div>\n",
       "<table border=\"1\" class=\"dataframe\">\n",
       "  <thead>\n",
       "    <tr style=\"text-align: right;\">\n",
       "      <th></th>\n",
       "      <th>author</th>\n",
       "      <th>cluster</th>\n",
       "    </tr>\n",
       "  </thead>\n",
       "  <tbody>\n",
       "    <tr>\n",
       "      <th>6646</th>\n",
       "      <td>Alessandro E. P. Villa</td>\n",
       "      <td>control_closedloop_controller</td>\n",
       "    </tr>\n",
       "    <tr>\n",
       "      <th>9093</th>\n",
       "      <td>Ali Jadbabaie</td>\n",
       "      <td>control_closedloop_controller</td>\n",
       "    </tr>\n",
       "    <tr>\n",
       "      <th>9094</th>\n",
       "      <td>Ali Jadbabaie</td>\n",
       "      <td>heuristic_algorithm_algorithms</td>\n",
       "    </tr>\n",
       "    <tr>\n",
       "      <th>9095</th>\n",
       "      <td>Ali Jadbabaie</td>\n",
       "      <td>learning_learner_metalearning</td>\n",
       "    </tr>\n",
       "    <tr>\n",
       "      <th>9096</th>\n",
       "      <td>Ali Jadbabaie</td>\n",
       "      <td>network_multihop_wireless</td>\n",
       "    </tr>\n",
       "    <tr>\n",
       "      <th>9097</th>\n",
       "      <td>Ali Jadbabaie</td>\n",
       "      <td>scheduling_qos_routing</td>\n",
       "    </tr>\n",
       "    <tr>\n",
       "      <th>9098</th>\n",
       "      <td>Ali Jadbabaie</td>\n",
       "      <td>services_infrastructure_middleware</td>\n",
       "    </tr>\n",
       "    <tr>\n",
       "      <th>10411</th>\n",
       "      <td>Amar Mitiche</td>\n",
       "      <td>data_metadata_database</td>\n",
       "    </tr>\n",
       "    <tr>\n",
       "      <th>10412</th>\n",
       "      <td>Amar Mitiche</td>\n",
       "      <td>microsphere_transmural_peristalsis</td>\n",
       "    </tr>\n",
       "    <tr>\n",
       "      <th>18038</th>\n",
       "      <td>Antonis A. Argyros</td>\n",
       "      <td>image_texture_images</td>\n",
       "    </tr>\n",
       "  </tbody>\n",
       "</table>\n",
       "</div>"
      ],
      "text/plain": [
       "                       author                             cluster\n",
       "6646   Alessandro E. P. Villa       control_closedloop_controller\n",
       "9093            Ali Jadbabaie       control_closedloop_controller\n",
       "9094            Ali Jadbabaie      heuristic_algorithm_algorithms\n",
       "9095            Ali Jadbabaie       learning_learner_metalearning\n",
       "9096            Ali Jadbabaie           network_multihop_wireless\n",
       "9097            Ali Jadbabaie              scheduling_qos_routing\n",
       "9098            Ali Jadbabaie  services_infrastructure_middleware\n",
       "10411            Amar Mitiche              data_metadata_database\n",
       "10412            Amar Mitiche  microsphere_transmural_peristalsis\n",
       "18038      Antonis A. Argyros                image_texture_images"
      ]
     },
     "execution_count": 137,
     "metadata": {},
     "output_type": "execute_result"
    }
   ],
   "source": [
    "df_author_train.head(10)"
   ]
  },
  {
   "cell_type": "markdown",
   "metadata": {},
   "source": [
    "Check if test set (author, cluster) pairs are contained in the training set"
   ]
  },
  {
   "cell_type": "code",
   "execution_count": 42,
   "metadata": {
    "collapsed": false
   },
   "outputs": [
    {
     "data": {
      "text/plain": [
       "(199, 2)"
      ]
     },
     "execution_count": 140,
     "metadata": {},
     "output_type": "execute_result"
    }
   ],
   "source": [
    "df_author_train_test = pd.merge(df_author_train, df_author_test, on=[lbl_author, lbl_cluster])\n",
    "df_author_train_test.shape"
   ]
  },
  {
   "cell_type": "code",
   "execution_count": 43,
   "metadata": {
    "collapsed": false
   },
   "outputs": [
    {
     "data": {
      "text/html": [
       "<div>\n",
       "<table border=\"1\" class=\"dataframe\">\n",
       "  <thead>\n",
       "    <tr style=\"text-align: right;\">\n",
       "      <th></th>\n",
       "      <th>author</th>\n",
       "      <th>cluster</th>\n",
       "    </tr>\n",
       "  </thead>\n",
       "  <tbody>\n",
       "    <tr>\n",
       "      <th>0</th>\n",
       "      <td>Alessandro E. P. Villa</td>\n",
       "      <td>control_closedloop_controller</td>\n",
       "    </tr>\n",
       "    <tr>\n",
       "      <th>1</th>\n",
       "      <td>Ali Jadbabaie</td>\n",
       "      <td>control_closedloop_controller</td>\n",
       "    </tr>\n",
       "    <tr>\n",
       "      <th>2</th>\n",
       "      <td>Ali Jadbabaie</td>\n",
       "      <td>scheduling_qos_routing</td>\n",
       "    </tr>\n",
       "    <tr>\n",
       "      <th>3</th>\n",
       "      <td>Antonis A. Argyros</td>\n",
       "      <td>image_texture_images</td>\n",
       "    </tr>\n",
       "    <tr>\n",
       "      <th>4</th>\n",
       "      <td>Antonis A. Argyros</td>\n",
       "      <td>interactive_interaction_mixedreality</td>\n",
       "    </tr>\n",
       "  </tbody>\n",
       "</table>\n",
       "</div>"
      ],
      "text/plain": [
       "                   author                               cluster\n",
       "0  Alessandro E. P. Villa         control_closedloop_controller\n",
       "1           Ali Jadbabaie         control_closedloop_controller\n",
       "2           Ali Jadbabaie                scheduling_qos_routing\n",
       "3      Antonis A. Argyros                  image_texture_images\n",
       "4      Antonis A. Argyros  interactive_interaction_mixedreality"
      ]
     },
     "execution_count": 141,
     "metadata": {},
     "output_type": "execute_result"
    }
   ],
   "source": [
    "df_author_train_test.head()"
   ]
  },
  {
   "cell_type": "markdown",
   "metadata": {},
   "source": [
    "Performance could be measured as: *(size of intersection between train and test) / (minimum between train and test sizes)*"
   ]
  },
  {
   "cell_type": "code",
   "execution_count": 44,
   "metadata": {
    "collapsed": false
   },
   "outputs": [
    {
     "data": {
      "text/plain": [
       "0.6199376947040498"
      ]
     },
     "execution_count": 142,
     "metadata": {},
     "output_type": "execute_result"
    }
   ],
   "source": [
    "topic_inference_performance = 1. * len(df_author_train_test) / \\\n",
    "                                min(len(df_author_train), len(df_author_test))\n",
    "topic_inference_performance"
   ]
  },
  {
   "cell_type": "markdown",
   "metadata": {},
   "source": [
    "# 4. Testing recommendation algorithm"
   ]
  },
  {
   "cell_type": "markdown",
   "metadata": {},
   "source": [
    "Now fix an author from the test set, make it a mentee and see to which mentor it is matched to"
   ]
  },
  {
   "cell_type": "code",
   "execution_count": 45,
   "metadata": {
    "collapsed": false
   },
   "outputs": [
    {
     "data": {
      "text/plain": [
       "'Maurice Herlihy'"
      ]
     },
     "execution_count": 144,
     "metadata": {},
     "output_type": "execute_result"
    }
   ],
   "source": [
    "mentee_test = df_author_train_test.sample(n=1)[lbl_author].iloc[0]\n",
    "mentee_test"
   ]
  },
  {
   "cell_type": "code",
   "execution_count": 46,
   "metadata": {
    "collapsed": false
   },
   "outputs": [
    {
     "data": {
      "text/html": [
       "<div>\n",
       "<table border=\"1\" class=\"dataframe\">\n",
       "  <thead>\n",
       "    <tr style=\"text-align: right;\">\n",
       "      <th></th>\n",
       "      <th>author</th>\n",
       "      <th>cluster</th>\n",
       "    </tr>\n",
       "  </thead>\n",
       "  <tbody>\n",
       "    <tr>\n",
       "      <th>89</th>\n",
       "      <td>Maurice Herlihy</td>\n",
       "      <td>hardware_multiprocessor_multicore</td>\n",
       "    </tr>\n",
       "    <tr>\n",
       "      <th>90</th>\n",
       "      <td>Maurice Herlihy</td>\n",
       "      <td>infinitary_finitary_equational</td>\n",
       "    </tr>\n",
       "    <tr>\n",
       "      <th>179</th>\n",
       "      <td>Maurice Herlihy</td>\n",
       "      <td>network_multihop_wireless</td>\n",
       "    </tr>\n",
       "    <tr>\n",
       "      <th>180</th>\n",
       "      <td>Maurice Herlihy</td>\n",
       "      <td>scheduling_qos_routing</td>\n",
       "    </tr>\n",
       "  </tbody>\n",
       "</table>\n",
       "</div>"
      ],
      "text/plain": [
       "              author                            cluster\n",
       "89   Maurice Herlihy  hardware_multiprocessor_multicore\n",
       "90   Maurice Herlihy     infinitary_finitary_equational\n",
       "179  Maurice Herlihy          network_multihop_wireless\n",
       "180  Maurice Herlihy             scheduling_qos_routing"
      ]
     },
     "execution_count": 145,
     "metadata": {},
     "output_type": "execute_result"
    }
   ],
   "source": [
    "df_author_train_test[df_author_train_test[lbl_author] == mentee_test]"
   ]
  },
  {
   "cell_type": "markdown",
   "metadata": {},
   "source": [
    "Load the mentor ranks"
   ]
  },
  {
   "cell_type": "code",
   "execution_count": 47,
   "metadata": {
    "collapsed": false
   },
   "outputs": [
    {
     "data": {
      "text/html": [
       "<div>\n",
       "<table border=\"1\" class=\"dataframe\">\n",
       "  <thead>\n",
       "    <tr style=\"text-align: right;\">\n",
       "      <th></th>\n",
       "      <th>mentor</th>\n",
       "      <th>cluster</th>\n",
       "      <th>num_pubs</th>\n",
       "      <th>pub_rate</th>\n",
       "      <th>years_exp</th>\n",
       "      <th>cite_rank</th>\n",
       "    </tr>\n",
       "  </thead>\n",
       "  <tbody>\n",
       "    <tr>\n",
       "      <th>0</th>\n",
       "      <td>A Min Tjoa</td>\n",
       "      <td>analysis_methodology_modeling</td>\n",
       "      <td>0.014706</td>\n",
       "      <td>0.047619</td>\n",
       "      <td>0.018519</td>\n",
       "      <td>0.000000</td>\n",
       "    </tr>\n",
       "    <tr>\n",
       "      <th>1</th>\n",
       "      <td>A Min Tjoa</td>\n",
       "      <td>data_metadata_database</td>\n",
       "      <td>0.088235</td>\n",
       "      <td>0.047619</td>\n",
       "      <td>0.388889</td>\n",
       "      <td>0.014490</td>\n",
       "    </tr>\n",
       "    <tr>\n",
       "      <th>2</th>\n",
       "      <td>A Min Tjoa</td>\n",
       "      <td>educational_elearning_education</td>\n",
       "      <td>0.029412</td>\n",
       "      <td>0.047619</td>\n",
       "      <td>0.203704</td>\n",
       "      <td>0.000479</td>\n",
       "    </tr>\n",
       "    <tr>\n",
       "      <th>3</th>\n",
       "      <td>A-Long Jin</td>\n",
       "      <td>channel_multiantenna_mimo</td>\n",
       "      <td>0.014706</td>\n",
       "      <td>0.047619</td>\n",
       "      <td>0.018519</td>\n",
       "      <td>0.000000</td>\n",
       "    </tr>\n",
       "    <tr>\n",
       "      <th>4</th>\n",
       "      <td>A-Long Jin</td>\n",
       "      <td>services_infrastructure_middleware</td>\n",
       "      <td>0.014706</td>\n",
       "      <td>0.047619</td>\n",
       "      <td>0.018519</td>\n",
       "      <td>0.000000</td>\n",
       "    </tr>\n",
       "  </tbody>\n",
       "</table>\n",
       "</div>"
      ],
      "text/plain": [
       "       mentor                             cluster  num_pubs  pub_rate  \\\n",
       "0  A Min Tjoa       analysis_methodology_modeling  0.014706  0.047619   \n",
       "1  A Min Tjoa              data_metadata_database  0.088235  0.047619   \n",
       "2  A Min Tjoa     educational_elearning_education  0.029412  0.047619   \n",
       "3  A-Long Jin           channel_multiantenna_mimo  0.014706  0.047619   \n",
       "4  A-Long Jin  services_infrastructure_middleware  0.014706  0.047619   \n",
       "\n",
       "   years_exp  cite_rank  \n",
       "0   0.018519   0.000000  \n",
       "1   0.388889   0.014490  \n",
       "2   0.203704   0.000479  \n",
       "3   0.018519   0.000000  \n",
       "4   0.018519   0.000000  "
      ]
     },
     "execution_count": 151,
     "metadata": {},
     "output_type": "execute_result"
    }
   ],
   "source": [
    "df_mentor_ranks = pd.read_csv(f_mentor_ranks, sep=',')\n",
    "df_mentor_ranks.head()"
   ]
  },
  {
   "cell_type": "code",
   "execution_count": 48,
   "metadata": {
    "collapsed": false
   },
   "outputs": [
    {
     "data": {
      "text/html": [
       "<div>\n",
       "<table border=\"1\" class=\"dataframe\">\n",
       "  <thead>\n",
       "    <tr style=\"text-align: right;\">\n",
       "      <th></th>\n",
       "      <th>mentor</th>\n",
       "      <th>cluster</th>\n",
       "      <th>num_pubs</th>\n",
       "      <th>pub_rate</th>\n",
       "      <th>years_exp</th>\n",
       "      <th>cite_rank</th>\n",
       "    </tr>\n",
       "  </thead>\n",
       "  <tbody>\n",
       "    <tr>\n",
       "      <th>137208</th>\n",
       "      <td>Maurice Herlihy</td>\n",
       "      <td>hardware_multiprocessor_multicore</td>\n",
       "      <td>0.147059</td>\n",
       "      <td>0.047619</td>\n",
       "      <td>0.240741</td>\n",
       "      <td>0.000000</td>\n",
       "    </tr>\n",
       "    <tr>\n",
       "      <th>137209</th>\n",
       "      <td>Maurice Herlihy</td>\n",
       "      <td>infinitary_finitary_equational</td>\n",
       "      <td>0.044118</td>\n",
       "      <td>0.047619</td>\n",
       "      <td>0.481481</td>\n",
       "      <td>0.000287</td>\n",
       "    </tr>\n",
       "    <tr>\n",
       "      <th>137210</th>\n",
       "      <td>Maurice Herlihy</td>\n",
       "      <td>llamada_restent_keinen</td>\n",
       "      <td>0.044118</td>\n",
       "      <td>0.095238</td>\n",
       "      <td>0.351852</td>\n",
       "      <td>0.000000</td>\n",
       "    </tr>\n",
       "    <tr>\n",
       "      <th>273049</th>\n",
       "      <td>Maurice Herlihy</td>\n",
       "      <td>network_multihop_wireless</td>\n",
       "      <td>0.000000</td>\n",
       "      <td>0.000000</td>\n",
       "      <td>0.000000</td>\n",
       "      <td>0.008829</td>\n",
       "    </tr>\n",
       "    <tr>\n",
       "      <th>273050</th>\n",
       "      <td>Maurice Herlihy</td>\n",
       "      <td>scheduling_qos_routing</td>\n",
       "      <td>0.000000</td>\n",
       "      <td>0.000000</td>\n",
       "      <td>0.000000</td>\n",
       "      <td>0.012771</td>\n",
       "    </tr>\n",
       "  </tbody>\n",
       "</table>\n",
       "</div>"
      ],
      "text/plain": [
       "                 mentor                            cluster  num_pubs  \\\n",
       "137208  Maurice Herlihy  hardware_multiprocessor_multicore  0.147059   \n",
       "137209  Maurice Herlihy     infinitary_finitary_equational  0.044118   \n",
       "137210  Maurice Herlihy             llamada_restent_keinen  0.044118   \n",
       "273049  Maurice Herlihy          network_multihop_wireless  0.000000   \n",
       "273050  Maurice Herlihy             scheduling_qos_routing  0.000000   \n",
       "\n",
       "        pub_rate  years_exp  cite_rank  \n",
       "137208  0.047619   0.240741   0.000000  \n",
       "137209  0.047619   0.481481   0.000287  \n",
       "137210  0.095238   0.351852   0.000000  \n",
       "273049  0.000000   0.000000   0.008829  \n",
       "273050  0.000000   0.000000   0.012771  "
      ]
     },
     "execution_count": 153,
     "metadata": {},
     "output_type": "execute_result"
    }
   ],
   "source": [
    "df_mentor_ranks[df_mentor_ranks[lbl_mentor] == mentee_test]"
   ]
  },
  {
   "cell_type": "markdown",
   "metadata": {},
   "source": [
    "Let's construct a mentee preference profile such that it is mostly interested into the topic *infinitary_finitary_equational* and assigns higher weights to the kpi *years_exp*."
   ]
  },
  {
   "cell_type": "code",
   "execution_count": 49,
   "metadata": {
    "collapsed": true
   },
   "outputs": [],
   "source": [
    "# Slighlty change name of mentee_test in order to distinguish it from the mentor\n",
    "mentee_test += '_mentee'"
   ]
  },
  {
   "cell_type": "code",
   "execution_count": 50,
   "metadata": {
    "collapsed": false
   },
   "outputs": [
    {
     "data": {
      "text/html": [
       "<div>\n",
       "<table border=\"1\" class=\"dataframe\">\n",
       "  <thead>\n",
       "    <tr style=\"text-align: right;\">\n",
       "      <th></th>\n",
       "      <th>cite_rank_pref</th>\n",
       "      <th>mentee</th>\n",
       "      <th>num_pubs_pref</th>\n",
       "      <th>pub_rate_pref</th>\n",
       "      <th>years_exp_pref</th>\n",
       "    </tr>\n",
       "  </thead>\n",
       "  <tbody>\n",
       "    <tr>\n",
       "      <th>0</th>\n",
       "      <td>0</td>\n",
       "      <td>Maurice Herlihy_mentee</td>\n",
       "      <td>0.1</td>\n",
       "      <td>0.1</td>\n",
       "      <td>0.8</td>\n",
       "    </tr>\n",
       "  </tbody>\n",
       "</table>\n",
       "</div>"
      ],
      "text/plain": [
       "   cite_rank_pref                  mentee  num_pubs_pref  pub_rate_pref  \\\n",
       "0               0  Maurice Herlihy_mentee            0.1            0.1   \n",
       "\n",
       "   years_exp_pref  \n",
       "0             0.8  "
      ]
     },
     "execution_count": 172,
     "metadata": {},
     "output_type": "execute_result"
    }
   ],
   "source": [
    "df_mentee_test_prefs = pd.DataFrame({lbl_mentee: [mentee_test],\n",
    "                                     lbl_num_pubs_pref: [0.1],\n",
    "                                     lbl_pub_rate_pref: [0.1],\n",
    "                                     lbl_years_exp_pref: [0.8],\n",
    "                                     lbl_rank_pref: [0]})\n",
    "df_mentee_test_prefs.head()"
   ]
  },
  {
   "cell_type": "code",
   "execution_count": 51,
   "metadata": {
    "collapsed": false
   },
   "outputs": [
    {
     "data": {
      "text/html": [
       "<div>\n",
       "<table border=\"1\" class=\"dataframe\">\n",
       "  <thead>\n",
       "    <tr style=\"text-align: right;\">\n",
       "      <th></th>\n",
       "      <th>mentee</th>\n",
       "      <th>cluster</th>\n",
       "      <th>cluster_pref</th>\n",
       "    </tr>\n",
       "  </thead>\n",
       "  <tbody>\n",
       "    <tr>\n",
       "      <th>0</th>\n",
       "      <td>Maurice Herlihy_mentee</td>\n",
       "      <td>infinitary_finitary_equational</td>\n",
       "      <td>7</td>\n",
       "    </tr>\n",
       "    <tr>\n",
       "      <th>1</th>\n",
       "      <td>Maurice Herlihy_mentee</td>\n",
       "      <td>network_multihop_wireless</td>\n",
       "      <td>2</td>\n",
       "    </tr>\n",
       "    <tr>\n",
       "      <th>2</th>\n",
       "      <td>Maurice Herlihy_mentee</td>\n",
       "      <td>llamada_restent_keinen</td>\n",
       "      <td>1</td>\n",
       "    </tr>\n",
       "  </tbody>\n",
       "</table>\n",
       "</div>"
      ],
      "text/plain": [
       "                   mentee                         cluster  cluster_pref\n",
       "0  Maurice Herlihy_mentee  infinitary_finitary_equational             7\n",
       "1  Maurice Herlihy_mentee       network_multihop_wireless             2\n",
       "2  Maurice Herlihy_mentee          llamada_restent_keinen             1"
      ]
     },
     "execution_count": 173,
     "metadata": {},
     "output_type": "execute_result"
    }
   ],
   "source": [
    "df_mentee_test_topic_prefs = pd.DataFrame(\n",
    "                                [[mentee_test, 'infinitary_finitary_equational', 7],\n",
    "                                 [mentee_test, 'network_multihop_wireless', 2],\n",
    "                                 [mentee_test, 'llamada_restent_keinen', 1]],\n",
    "                                columns=[lbl_mentee, lbl_cluster, lbl_cluster_pref])\n",
    "df_mentee_test_topic_prefs.head()"
   ]
  },
  {
   "cell_type": "markdown",
   "metadata": {},
   "source": [
    "Calculate the topic-mentor weight based on mentee_test prefs"
   ]
  },
  {
   "cell_type": "code",
   "execution_count": 52,
   "metadata": {
    "collapsed": false
   },
   "outputs": [
    {
     "data": {
      "text/html": [
       "<div>\n",
       "<table border=\"1\" class=\"dataframe\">\n",
       "  <thead>\n",
       "    <tr style=\"text-align: right;\">\n",
       "      <th></th>\n",
       "      <th>cite_rank_pref</th>\n",
       "      <th>mentee</th>\n",
       "      <th>num_pubs_pref</th>\n",
       "      <th>pub_rate_pref</th>\n",
       "      <th>years_exp_pref</th>\n",
       "    </tr>\n",
       "  </thead>\n",
       "  <tbody>\n",
       "    <tr>\n",
       "      <th>0</th>\n",
       "      <td>0</td>\n",
       "      <td>Maurice Herlihy_mentee</td>\n",
       "      <td>0.1</td>\n",
       "      <td>0.1</td>\n",
       "      <td>0.8</td>\n",
       "    </tr>\n",
       "  </tbody>\n",
       "</table>\n",
       "</div>"
      ],
      "text/plain": [
       "   cite_rank_pref                  mentee  num_pubs_pref  pub_rate_pref  \\\n",
       "0               0  Maurice Herlihy_mentee            0.1            0.1   \n",
       "\n",
       "   years_exp_pref  \n",
       "0             0.8  "
      ]
     },
     "execution_count": 176,
     "metadata": {},
     "output_type": "execute_result"
    }
   ],
   "source": [
    "df_mentee_test_prefs"
   ]
  },
  {
   "cell_type": "code",
   "execution_count": 53,
   "metadata": {
    "collapsed": true
   },
   "outputs": [],
   "source": [
    "def weighted_avg(mentor_row):\n",
    "    mentee_row = df_mentee_test_prefs.iloc[0]\n",
    "    avg = mentee_row[lbl_num_pubs_pref] * mentor_row[lbl_num_pubs]\n",
    "    avg += mentee_row[lbl_pub_rate_pref] * mentor_row[lbl_pub_rate]\n",
    "    avg += mentee_row[lbl_years_exp_pref] * mentor_row[lbl_years_exp]\n",
    "    avg += mentee_row[lbl_rank_pref] * mentor_row[lbl_rank]\n",
    "    return avg"
   ]
  },
  {
   "cell_type": "code",
   "execution_count": 54,
   "metadata": {
    "collapsed": false
   },
   "outputs": [],
   "source": [
    "mentee_clusters = set(df_mentee_test_topic_prefs[lbl_cluster])\n",
    "\n",
    "df_mentee_mentor_ranks = df_mentor_ranks[df_mentor_ranks[lbl_cluster].isin(mentee_clusters)]\n",
    "df_mentee_mentor_ranks[lbl_cluster_mentor_weight] = df_mentee_mentor_ranks.apply(weighted_avg, axis=1)\n",
    "df_mentee_mentor_ranks.drop([lbl_num_pubs,\n",
    "                             lbl_pub_rate,\n",
    "                             lbl_years_exp,\n",
    "                             lbl_rank], axis=1, inplace=True)\n",
    "df_mentee_mentor_ranks.head()\n",
    "\n",
    "# Normalize and reverse the score values since we are going to find shortest paths from mentee to mentors\n",
    "scaler = MinMaxScaler()\n",
    "df_mentee_mentor_ranks[lbl_cluster_mentor_weight] = 1 - scaler.fit_transform(\n",
    "                                                            df_mentee_mentor_ranks[lbl_cluster_mentor_weight])\n",
    "df_mentee_test_topic_prefs[lbl_cluster_pref] = 1 - scaler.fit_transform(\n",
    "                                                            df_mentee_test_topic_prefs[lbl_cluster_pref])\n",
    "# Construct the mentee-topics-mentors graph\n",
    "# Initialize an empty directed graph\n",
    "G = nx.DiGraph()\n",
    "# Link the mentee to the topics based on his preferences\n",
    "# Array of triplets containing (source, destination, weight)\n",
    "mentee_topics = df_mentee_test_topic_prefs[[lbl_mentee, lbl_cluster, lbl_cluster_pref]].values\n",
    "G.add_weighted_edges_from(mentee_topics)\n",
    "# Link topics (clusters) to mentors and assign weight\n",
    "topics_mentors = df_mentee_mentor_ranks[[lbl_cluster,\n",
    "                                         lbl_mentor,\n",
    "                                         lbl_cluster_mentor_weight]].values\n",
    "G.add_weighted_edges_from(topics_mentors)\n",
    "G.add_weighted_edges_from([(mentor, lbl_sink, 0) for mentor in set(df_mentee_mentor_ranks[lbl_mentor])])\n",
    "\n",
    "# Calculate all shortest paths from mentee to super sink\n",
    "shortest_paths = [p for p in nx.all_shortest_paths(G, source=mentee_test, target=lbl_sink, weight='weight')]\n",
    "\n",
    "# In case there are multiple choices of \"best\" mentors, we can select 10 random ones among them.\n",
    "n_mentor_choices = min(10, len(shortest_paths))\n",
    "mentors_indices = np.random.randint(len(shortest_paths), size=n_mentor_choices)\n",
    "mentors_chosen = np.array(shortest_paths, dtype=str)[mentors_indices, 2]"
   ]
  },
  {
   "cell_type": "code",
   "execution_count": 55,
   "metadata": {
    "collapsed": false
   },
   "outputs": [
    {
     "data": {
      "text/plain": [
       "[['Maurice Herlihy_mentee',\n",
       "  'infinitary_finitary_equational',\n",
       "  'Janusz A. Brzozowski',\n",
       "  'sink']]"
      ]
     },
     "execution_count": 179,
     "metadata": {},
     "output_type": "execute_result"
    }
   ],
   "source": [
    "shortest_paths"
   ]
  },
  {
   "cell_type": "markdown",
   "metadata": {},
   "source": [
    "The mentor, who became a mentee for testing purposes, has been assigned to the best expert in *infinitary_finitary_equational* as expected, due to having weighted that the most. He's not been assigned to himself since he's, in the end, less expert than many other guys."
   ]
  },
  {
   "cell_type": "code",
   "execution_count": 56,
   "metadata": {
    "collapsed": false
   },
   "outputs": [
    {
     "data": {
      "text/html": [
       "<div>\n",
       "<table border=\"1\" class=\"dataframe\">\n",
       "  <thead>\n",
       "    <tr style=\"text-align: right;\">\n",
       "      <th></th>\n",
       "      <th>mentor</th>\n",
       "      <th>cluster</th>\n",
       "      <th>cluster_mentor_weight</th>\n",
       "    </tr>\n",
       "  </thead>\n",
       "  <tbody>\n",
       "    <tr>\n",
       "      <th>89655</th>\n",
       "      <td>Janusz A. Brzozowski</td>\n",
       "      <td>infinitary_finitary_equational</td>\n",
       "      <td>0.000000</td>\n",
       "    </tr>\n",
       "    <tr>\n",
       "      <th>218248</th>\n",
       "      <td>Werner Kuich</td>\n",
       "      <td>infinitary_finitary_equational</td>\n",
       "      <td>0.030650</td>\n",
       "    </tr>\n",
       "    <tr>\n",
       "      <th>18436</th>\n",
       "      <td>Arto Salomaa</td>\n",
       "      <td>infinitary_finitary_equational</td>\n",
       "      <td>0.031076</td>\n",
       "    </tr>\n",
       "    <tr>\n",
       "      <th>157441</th>\n",
       "      <td>Oscar H. Ibarra</td>\n",
       "      <td>infinitary_finitary_equational</td>\n",
       "      <td>0.081520</td>\n",
       "    </tr>\n",
       "    <tr>\n",
       "      <th>103432</th>\n",
       "      <td>Jozef Gruska</td>\n",
       "      <td>infinitary_finitary_equational</td>\n",
       "      <td>0.176781</td>\n",
       "    </tr>\n",
       "  </tbody>\n",
       "</table>\n",
       "</div>"
      ],
      "text/plain": [
       "                      mentor                         cluster  \\\n",
       "89655   Janusz A. Brzozowski  infinitary_finitary_equational   \n",
       "218248          Werner Kuich  infinitary_finitary_equational   \n",
       "18436           Arto Salomaa  infinitary_finitary_equational   \n",
       "157441       Oscar H. Ibarra  infinitary_finitary_equational   \n",
       "103432          Jozef Gruska  infinitary_finitary_equational   \n",
       "\n",
       "        cluster_mentor_weight  \n",
       "89655                0.000000  \n",
       "218248               0.030650  \n",
       "18436                0.031076  \n",
       "157441               0.081520  \n",
       "103432               0.176781  "
      ]
     },
     "execution_count": 183,
     "metadata": {},
     "output_type": "execute_result"
    }
   ],
   "source": [
    "df_mentee_mentor_ranks[\n",
    "    df_mentee_mentor_ranks[lbl_cluster] == shortest_paths[0][1]] \\\n",
    "    .sort_values(by=lbl_cluster_mentor_weight).head()"
   ]
  },
  {
   "cell_type": "code",
   "execution_count": 57,
   "metadata": {
    "collapsed": false,
    "scrolled": true
   },
   "outputs": [
    {
     "data": {
      "text/html": [
       "<div>\n",
       "<table border=\"1\" class=\"dataframe\">\n",
       "  <thead>\n",
       "    <tr style=\"text-align: right;\">\n",
       "      <th></th>\n",
       "      <th>mentor</th>\n",
       "      <th>cluster</th>\n",
       "      <th>cluster_mentor_weight</th>\n",
       "    </tr>\n",
       "  </thead>\n",
       "  <tbody>\n",
       "    <tr>\n",
       "      <th>137209</th>\n",
       "      <td>Maurice Herlihy</td>\n",
       "      <td>infinitary_finitary_equational</td>\n",
       "      <td>0.520687</td>\n",
       "    </tr>\n",
       "    <tr>\n",
       "      <th>137210</th>\n",
       "      <td>Maurice Herlihy</td>\n",
       "      <td>llamada_restent_keinen</td>\n",
       "      <td>0.640943</td>\n",
       "    </tr>\n",
       "    <tr>\n",
       "      <th>273049</th>\n",
       "      <td>Maurice Herlihy</td>\n",
       "      <td>network_multihop_wireless</td>\n",
       "      <td>1.000000</td>\n",
       "    </tr>\n",
       "  </tbody>\n",
       "</table>\n",
       "</div>"
      ],
      "text/plain": [
       "                 mentor                         cluster  cluster_mentor_weight\n",
       "137209  Maurice Herlihy  infinitary_finitary_equational               0.520687\n",
       "137210  Maurice Herlihy          llamada_restent_keinen               0.640943\n",
       "273049  Maurice Herlihy       network_multihop_wireless               1.000000"
      ]
     },
     "execution_count": 184,
     "metadata": {},
     "output_type": "execute_result"
    }
   ],
   "source": [
    "df_mentee_mentor_ranks[df_mentee_mentor_ranks[lbl_mentor] == 'Maurice Herlihy']"
   ]
  }
 ],
 "metadata": {
  "kernelspec": {
   "display_name": "Python [default]",
   "language": "python",
   "name": "python2"
  },
  "language_info": {
   "codemirror_mode": {
    "name": "ipython",
    "version": 2
   },
   "file_extension": ".py",
   "mimetype": "text/x-python",
   "name": "python",
   "nbconvert_exporter": "python",
   "pygments_lexer": "ipython2",
   "version": "2.7.13"
  }
 },
 "nbformat": 4,
 "nbformat_minor": 2
}
