{
 "cells": [
  {
   "cell_type": "markdown",
   "metadata": {},
   "source": [
    "# 1. Initialize and import libraries"
   ]
  },
  {
   "cell_type": "code",
   "execution_count": 1,
   "metadata": {
    "collapsed": true
   },
   "outputs": [],
   "source": [
    "%matplotlib inline\n",
    "import sys\n",
    "import pandas as pd\n",
    "import numpy as np\n",
    "import string\n",
    "import networkx as nx\n",
    "import pickle\n",
    "from sklearn.preprocessing import MinMaxScaler"
   ]
  },
  {
   "cell_type": "code",
   "execution_count": 2,
   "metadata": {
    "collapsed": true
   },
   "outputs": [],
   "source": [
    "#From within a python file, you can add pathto the default path by adding the following lines. Now the pmi_utils is added to the library path\n",
    "sys.path.insert(0, 'pmi_utils')"
   ]
  },
  {
   "cell_type": "code",
   "execution_count": 3,
   "metadata": {
    "collapsed": true
   },
   "outputs": [],
   "source": [
    "import shared_variables\n",
    "from shared_variables import *"
   ]
  },
  {
   "cell_type": "code",
   "execution_count": 4,
   "metadata": {
    "collapsed": true
   },
   "outputs": [],
   "source": [
    "shared_variables = reload(shared_variables)"
   ]
  },
  {
   "cell_type": "code",
   "execution_count": 5,
   "metadata": {
    "collapsed": false
   },
   "outputs": [
    {
     "data": {
      "text/plain": [
       "(6141934, 9)"
      ]
     },
     "execution_count": 24,
     "metadata": {},
     "output_type": "execute_result"
    }
   ],
   "source": [
    "#read the preprocessed dblp json file into a numpy dataframe\n",
    "df_json_dblp = pd.read_json(f_json_dblp)\n",
    "# the rows represent the number of articles\n",
    "# the columns represent the features. Feature/column names are added later\n",
    "df_json_dblp.shape"
   ]
  },
  {
   "cell_type": "code",
   "execution_count": 6,
   "metadata": {
    "collapsed": true
   },
   "outputs": [],
   "source": [
    "#The dataframe is without column names.\n",
    "#For the sake of order columns are given proper names\n",
    "# The variable columns resides in shared_variables.py\n",
    "df_json_dblp.columns = columns"
   ]
  },
  {
   "cell_type": "markdown",
   "metadata": {},
   "source": [
    "# 2. Unpack Authors\n",
    "- The set of authors is included in one feature of the dataframe.\n",
    "- In order to assign a value to one author, the author string needs to be splitted.\n",
    "- The function _unpack__authors_ is doing this"
   ]
  },
  {
   "cell_type": "code",
   "execution_count": 7,
   "metadata": {
    "collapsed": true
   },
   "outputs": [],
   "source": [
    "def unpack_authors(df):\n",
    "    df_dblp_paper_author = []\n",
    "    for idx, row in df.iterrows():\n",
    "        authors = row[lbl_authors]\n",
    "        for a in authors:\n",
    "            a = a.strip()\n",
    "            df_dblp_paper_author.append([row[lbl_paper_id], a])\n",
    "    return pd.DataFrame(df_dblp_paper_author, columns=[lbl_paper_id, lbl_author])"
   ]
  },
  {
   "cell_type": "code",
   "execution_count": 8,
   "metadata": {
    "collapsed": true
   },
   "outputs": [],
   "source": [
    "#If the preprocessed file exists, take the file\n",
    "# Otherwise unpack the authors from the original dataset\n",
    "try:\n",
    "    with open(f_json_by_author, 'r') as f:\n",
    "        pass\n",
    "    df_json_by_author = pd.read_csv(f_json_by_author)\n",
    "except:\n",
    "    df_json_by_author = unpack_authors(df_json_dblp)\n",
    "    df_json_by_author.to_csv(f_json_by_author, sep=',', index=False, encoding='utf-8')"
   ]
  },
  {
   "cell_type": "code",
   "execution_count": 9,
   "metadata": {
    "collapsed": false
   },
   "outputs": [
    {
     "data": {
      "text/html": [
       "<div>\n",
       "<table border=\"1\" class=\"dataframe\">\n",
       "  <thead>\n",
       "    <tr style=\"text-align: right;\">\n",
       "      <th></th>\n",
       "      <th>paper_id</th>\n",
       "      <th>author</th>\n",
       "    </tr>\n",
       "  </thead>\n",
       "  <tbody>\n",
       "    <tr>\n",
       "      <th>0</th>\n",
       "      <td>journals/acta/Saxena96</td>\n",
       "      <td>Sanjeev Saxena</td>\n",
       "    </tr>\n",
       "    <tr>\n",
       "      <th>1</th>\n",
       "      <td>journals/acta/Simon83</td>\n",
       "      <td>Hans Ulrich Simon</td>\n",
       "    </tr>\n",
       "    <tr>\n",
       "      <th>2</th>\n",
       "      <td>journals/acta/GoodmanS83</td>\n",
       "      <td>Nathan Goodman</td>\n",
       "    </tr>\n",
       "    <tr>\n",
       "      <th>3</th>\n",
       "      <td>journals/acta/GoodmanS83</td>\n",
       "      <td>Oded Shmueli</td>\n",
       "    </tr>\n",
       "    <tr>\n",
       "      <th>4</th>\n",
       "      <td>journals/acta/Blum82</td>\n",
       "      <td>Norbert Blum</td>\n",
       "    </tr>\n",
       "  </tbody>\n",
       "</table>\n",
       "</div>"
      ],
      "text/plain": [
       "                   paper_id             author\n",
       "0    journals/acta/Saxena96     Sanjeev Saxena\n",
       "1     journals/acta/Simon83  Hans Ulrich Simon\n",
       "2  journals/acta/GoodmanS83     Nathan Goodman\n",
       "3  journals/acta/GoodmanS83       Oded Shmueli\n",
       "4      journals/acta/Blum82       Norbert Blum"
      ]
     },
     "execution_count": 9,
     "metadata": {},
     "output_type": "execute_result"
    }
   ],
   "source": [
    "#The structure of the json by author. Please be advised that several authors for one paper result in several lines.\n",
    "df_json_by_author.head()"
   ]
  },
  {
   "cell_type": "code",
   "execution_count": 10,
   "metadata": {
    "collapsed": false
   },
   "outputs": [
    {
     "data": {
      "text/plain": [
       "(13855925, 2)"
      ]
     },
     "execution_count": 10,
     "metadata": {},
     "output_type": "execute_result"
    }
   ],
   "source": [
    "#The first number represent the number of article-author pairs\n",
    "df_json_by_author.shape"
   ]
  },
  {
   "cell_type": "code",
   "execution_count": 11,
   "metadata": {
    "collapsed": false
   },
   "outputs": [
    {
     "data": {
      "text/html": [
       "<div>\n",
       "<table border=\"1\" class=\"dataframe\">\n",
       "  <thead>\n",
       "    <tr style=\"text-align: right;\">\n",
       "      <th></th>\n",
       "      <th>paper_id</th>\n",
       "      <th>papertype</th>\n",
       "      <th>title</th>\n",
       "      <th>authors</th>\n",
       "      <th>journal</th>\n",
       "      <th>booktitle</th>\n",
       "      <th>year</th>\n",
       "      <th>ee</th>\n",
       "      <th>url</th>\n",
       "      <th>author</th>\n",
       "    </tr>\n",
       "  </thead>\n",
       "  <tbody>\n",
       "    <tr>\n",
       "      <th>5039065</th>\n",
       "      <td>books/acm/0082477</td>\n",
       "      <td>book</td>\n",
       "      <td>The no-nonsense guide to computing careers.</td>\n",
       "      <td>[Marc Rettig]</td>\n",
       "      <td>None</td>\n",
       "      <td>None</td>\n",
       "      <td>1992.0</td>\n",
       "      <td>None</td>\n",
       "      <td>None</td>\n",
       "      <td>Marc Rettig</td>\n",
       "    </tr>\n",
       "    <tr>\n",
       "      <th>5039033</th>\n",
       "      <td>books/acm/kim95/AnnevelinkACFHK95</td>\n",
       "      <td>incollection</td>\n",
       "      <td>Object SQL - A Language for the Design and Imp...</td>\n",
       "      <td>[Jurgen Annevelink, Rafiul Ahad, Amelia Carlso...</td>\n",
       "      <td>None</td>\n",
       "      <td>Modern Database Systems</td>\n",
       "      <td>1995.0</td>\n",
       "      <td>None</td>\n",
       "      <td>db/books/collections/kim95.html#AnnevelinkACFHK95</td>\n",
       "      <td>Amelia Carlson</td>\n",
       "    </tr>\n",
       "    <tr>\n",
       "      <th>5039036</th>\n",
       "      <td>books/acm/kim95/AnnevelinkACFHK95</td>\n",
       "      <td>incollection</td>\n",
       "      <td>Object SQL - A Language for the Design and Imp...</td>\n",
       "      <td>[Jurgen Annevelink, Rafiul Ahad, Amelia Carlso...</td>\n",
       "      <td>None</td>\n",
       "      <td>Modern Database Systems</td>\n",
       "      <td>1995.0</td>\n",
       "      <td>None</td>\n",
       "      <td>db/books/collections/kim95.html#AnnevelinkACFHK95</td>\n",
       "      <td>William Kent</td>\n",
       "    </tr>\n",
       "    <tr>\n",
       "      <th>5039035</th>\n",
       "      <td>books/acm/kim95/AnnevelinkACFHK95</td>\n",
       "      <td>incollection</td>\n",
       "      <td>Object SQL - A Language for the Design and Imp...</td>\n",
       "      <td>[Jurgen Annevelink, Rafiul Ahad, Amelia Carlso...</td>\n",
       "      <td>None</td>\n",
       "      <td>Modern Database Systems</td>\n",
       "      <td>1995.0</td>\n",
       "      <td>None</td>\n",
       "      <td>db/books/collections/kim95.html#AnnevelinkACFHK95</td>\n",
       "      <td>Michael L. Heytens</td>\n",
       "    </tr>\n",
       "    <tr>\n",
       "      <th>5039034</th>\n",
       "      <td>books/acm/kim95/AnnevelinkACFHK95</td>\n",
       "      <td>incollection</td>\n",
       "      <td>Object SQL - A Language for the Design and Imp...</td>\n",
       "      <td>[Jurgen Annevelink, Rafiul Ahad, Amelia Carlso...</td>\n",
       "      <td>None</td>\n",
       "      <td>Modern Database Systems</td>\n",
       "      <td>1995.0</td>\n",
       "      <td>None</td>\n",
       "      <td>db/books/collections/kim95.html#AnnevelinkACFHK95</td>\n",
       "      <td>Daniel H. Fishman</td>\n",
       "    </tr>\n",
       "  </tbody>\n",
       "</table>\n",
       "</div>"
      ],
      "text/plain": [
       "                                  paper_id     papertype  \\\n",
       "5039065                  books/acm/0082477          book   \n",
       "5039033  books/acm/kim95/AnnevelinkACFHK95  incollection   \n",
       "5039036  books/acm/kim95/AnnevelinkACFHK95  incollection   \n",
       "5039035  books/acm/kim95/AnnevelinkACFHK95  incollection   \n",
       "5039034  books/acm/kim95/AnnevelinkACFHK95  incollection   \n",
       "\n",
       "                                                     title  \\\n",
       "5039065        The no-nonsense guide to computing careers.   \n",
       "5039033  Object SQL - A Language for the Design and Imp...   \n",
       "5039036  Object SQL - A Language for the Design and Imp...   \n",
       "5039035  Object SQL - A Language for the Design and Imp...   \n",
       "5039034  Object SQL - A Language for the Design and Imp...   \n",
       "\n",
       "                                                   authors journal  \\\n",
       "5039065                                      [Marc Rettig]    None   \n",
       "5039033  [Jurgen Annevelink, Rafiul Ahad, Amelia Carlso...    None   \n",
       "5039036  [Jurgen Annevelink, Rafiul Ahad, Amelia Carlso...    None   \n",
       "5039035  [Jurgen Annevelink, Rafiul Ahad, Amelia Carlso...    None   \n",
       "5039034  [Jurgen Annevelink, Rafiul Ahad, Amelia Carlso...    None   \n",
       "\n",
       "                       booktitle    year    ee  \\\n",
       "5039065                     None  1992.0  None   \n",
       "5039033  Modern Database Systems  1995.0  None   \n",
       "5039036  Modern Database Systems  1995.0  None   \n",
       "5039035  Modern Database Systems  1995.0  None   \n",
       "5039034  Modern Database Systems  1995.0  None   \n",
       "\n",
       "                                                       url              author  \n",
       "5039065                                               None         Marc Rettig  \n",
       "5039033  db/books/collections/kim95.html#AnnevelinkACFHK95      Amelia Carlson  \n",
       "5039036  db/books/collections/kim95.html#AnnevelinkACFHK95        William Kent  \n",
       "5039035  db/books/collections/kim95.html#AnnevelinkACFHK95  Michael L. Heytens  \n",
       "5039034  db/books/collections/kim95.html#AnnevelinkACFHK95   Daniel H. Fishman  "
      ]
     },
     "execution_count": 26,
     "metadata": {},
     "output_type": "execute_result"
    }
   ],
   "source": [
    "#Merge the full article set with the article-author pairs.\n",
    "#Every line represents one article with one author.\n",
    "#Articles with several authors are represented by several lines, for which only the author field is different\n",
    "df_json_dblp_by_author = pd.merge(df_json_dblp, df_json_by_author, on=lbl_paper_id)\n",
    "df_json_dblp_by_author.sort_values(by=lbl_paper_id).head()"
   ]
  },
  {
   "cell_type": "markdown",
   "metadata": {},
   "source": [
    "pickle.dump(df_json_dblp_by_author, open(f_dblp_by_author, 'w'))"
   ]
  },
  {
   "cell_type": "markdown",
   "metadata": {},
   "source": [
    "# 3. Authors' level of expertise by topic\n",
    "- In order to assess the author's level of expertise per topic, the following KPIs are calculated for an author on a specific cluster\n",
    " 1. Number of publications\n",
    " 1. The average number of recent publications per year (for the last 3 years)\n",
    " 1. Total years of experience\n",
    "- *paper_clusters.csv* includes the mapping of which paper (on paper_id) is assigned which cluster"
   ]
  },
  {
   "cell_type": "code",
   "execution_count": 12,
   "metadata": {
    "collapsed": false
   },
   "outputs": [
    {
     "data": {
      "text/html": [
       "<div>\n",
       "<table border=\"1\" class=\"dataframe\">\n",
       "  <thead>\n",
       "    <tr style=\"text-align: right;\">\n",
       "      <th></th>\n",
       "      <th>paper_id</th>\n",
       "      <th>cluster</th>\n",
       "    </tr>\n",
       "  </thead>\n",
       "  <tbody>\n",
       "    <tr>\n",
       "      <th>0</th>\n",
       "      <td>journals/corr/abs-1101-0906</td>\n",
       "      <td>network_multihop_wireless</td>\n",
       "    </tr>\n",
       "    <tr>\n",
       "      <th>1</th>\n",
       "      <td>journals/corr/SpithourakisPR16</td>\n",
       "      <td>semantic_textual_document</td>\n",
       "    </tr>\n",
       "    <tr>\n",
       "      <th>2</th>\n",
       "      <td>journals/corr/PromayonFBDFHLPSSSVCT13</td>\n",
       "      <td>interactive_interaction_mixedreality</td>\n",
       "    </tr>\n",
       "    <tr>\n",
       "      <th>3</th>\n",
       "      <td>journals/corr/abs-1711-08963</td>\n",
       "      <td>antichains_graphs_multigraphs</td>\n",
       "    </tr>\n",
       "    <tr>\n",
       "      <th>4</th>\n",
       "      <td>journals/corr/ChaliseSZK17</td>\n",
       "      <td>channel_multiantenna_mimo</td>\n",
       "    </tr>\n",
       "  </tbody>\n",
       "</table>\n",
       "</div>"
      ],
      "text/plain": [
       "                                paper_id                               cluster\n",
       "0            journals/corr/abs-1101-0906             network_multihop_wireless\n",
       "1         journals/corr/SpithourakisPR16             semantic_textual_document\n",
       "2  journals/corr/PromayonFBDFHLPSSSVCT13  interactive_interaction_mixedreality\n",
       "3           journals/corr/abs-1711-08963         antichains_graphs_multigraphs\n",
       "4             journals/corr/ChaliseSZK17             channel_multiantenna_mimo"
      ]
     },
     "execution_count": 12,
     "metadata": {},
     "output_type": "execute_result"
    }
   ],
   "source": [
    "df_paper_clusters = pd.read_csv(f_paper_clusters, sep=',')\n",
    "df_paper_clusters.head()"
   ]
  },
  {
   "cell_type": "code",
   "execution_count": 13,
   "metadata": {
    "collapsed": false
   },
   "outputs": [
    {
     "data": {
      "text/html": [
       "<div>\n",
       "<table border=\"1\" class=\"dataframe\">\n",
       "  <thead>\n",
       "    <tr style=\"text-align: right;\">\n",
       "      <th></th>\n",
       "      <th>paper_id</th>\n",
       "      <th>papertype</th>\n",
       "      <th>title</th>\n",
       "      <th>authors</th>\n",
       "      <th>journal</th>\n",
       "      <th>booktitle</th>\n",
       "      <th>year</th>\n",
       "      <th>ee</th>\n",
       "      <th>url</th>\n",
       "      <th>author</th>\n",
       "      <th>cluster</th>\n",
       "    </tr>\n",
       "  </thead>\n",
       "  <tbody>\n",
       "    <tr>\n",
       "      <th>0</th>\n",
       "      <td>journals/acta/HuangL87</td>\n",
       "      <td>article</td>\n",
       "      <td>The Derivation of Systolic Implementations of ...</td>\n",
       "      <td>[Chua-Huang Huang, Christian Lengauer]</td>\n",
       "      <td>Acta Inf.</td>\n",
       "      <td>None</td>\n",
       "      <td>1987.0</td>\n",
       "      <td>https://doi.org/10.1007/BF00282618</td>\n",
       "      <td>db/journals/acta/acta24.html#HuangL87</td>\n",
       "      <td>Chua-Huang Huang</td>\n",
       "      <td>hardware_multiprocessor_multicore</td>\n",
       "    </tr>\n",
       "    <tr>\n",
       "      <th>1</th>\n",
       "      <td>journals/acta/HuangL87</td>\n",
       "      <td>article</td>\n",
       "      <td>The Derivation of Systolic Implementations of ...</td>\n",
       "      <td>[Chua-Huang Huang, Christian Lengauer]</td>\n",
       "      <td>Acta Inf.</td>\n",
       "      <td>None</td>\n",
       "      <td>1987.0</td>\n",
       "      <td>https://doi.org/10.1007/BF00282618</td>\n",
       "      <td>db/journals/acta/acta24.html#HuangL87</td>\n",
       "      <td>Christian Lengauer</td>\n",
       "      <td>hardware_multiprocessor_multicore</td>\n",
       "    </tr>\n",
       "    <tr>\n",
       "      <th>2</th>\n",
       "      <td>journals/acta/FinkelC87</td>\n",
       "      <td>article</td>\n",
       "      <td>Fifo Nets Without Order Deadlock.</td>\n",
       "      <td>[Alain Finkel, Annie Choquet]</td>\n",
       "      <td>Acta Inf.</td>\n",
       "      <td>None</td>\n",
       "      <td>1988.0</td>\n",
       "      <td>https://doi.org/10.1007/BF00268843</td>\n",
       "      <td>db/journals/acta/acta25.html#FinkelC87</td>\n",
       "      <td>Alain Finkel</td>\n",
       "      <td>scheduling_qos_routing</td>\n",
       "    </tr>\n",
       "    <tr>\n",
       "      <th>3</th>\n",
       "      <td>journals/acta/FinkelC87</td>\n",
       "      <td>article</td>\n",
       "      <td>Fifo Nets Without Order Deadlock.</td>\n",
       "      <td>[Alain Finkel, Annie Choquet]</td>\n",
       "      <td>Acta Inf.</td>\n",
       "      <td>None</td>\n",
       "      <td>1988.0</td>\n",
       "      <td>https://doi.org/10.1007/BF00268843</td>\n",
       "      <td>db/journals/acta/acta25.html#FinkelC87</td>\n",
       "      <td>Annie Choquet</td>\n",
       "      <td>scheduling_qos_routing</td>\n",
       "    </tr>\n",
       "    <tr>\n",
       "      <th>4</th>\n",
       "      <td>journals/acta/Hesselink13</td>\n",
       "      <td>article</td>\n",
       "      <td>Verifying a simplification of mutual exclusion...</td>\n",
       "      <td>[Wim H. Hesselink]</td>\n",
       "      <td>Acta Inf.</td>\n",
       "      <td>None</td>\n",
       "      <td>2013.0</td>\n",
       "      <td>https://doi.org/10.1007/s00236-013-0178-2</td>\n",
       "      <td>db/journals/acta/acta50.html#Hesselink13</td>\n",
       "      <td>Wim H. Hesselink</td>\n",
       "      <td>infinitary_finitary_equational</td>\n",
       "    </tr>\n",
       "  </tbody>\n",
       "</table>\n",
       "</div>"
      ],
      "text/plain": [
       "                    paper_id papertype  \\\n",
       "0     journals/acta/HuangL87   article   \n",
       "1     journals/acta/HuangL87   article   \n",
       "2    journals/acta/FinkelC87   article   \n",
       "3    journals/acta/FinkelC87   article   \n",
       "4  journals/acta/Hesselink13   article   \n",
       "\n",
       "                                               title  \\\n",
       "0  The Derivation of Systolic Implementations of ...   \n",
       "1  The Derivation of Systolic Implementations of ...   \n",
       "2                  Fifo Nets Without Order Deadlock.   \n",
       "3                  Fifo Nets Without Order Deadlock.   \n",
       "4  Verifying a simplification of mutual exclusion...   \n",
       "\n",
       "                                  authors    journal booktitle    year  \\\n",
       "0  [Chua-Huang Huang, Christian Lengauer]  Acta Inf.      None  1987.0   \n",
       "1  [Chua-Huang Huang, Christian Lengauer]  Acta Inf.      None  1987.0   \n",
       "2           [Alain Finkel, Annie Choquet]  Acta Inf.      None  1988.0   \n",
       "3           [Alain Finkel, Annie Choquet]  Acta Inf.      None  1988.0   \n",
       "4                      [Wim H. Hesselink]  Acta Inf.      None  2013.0   \n",
       "\n",
       "                                          ee  \\\n",
       "0         https://doi.org/10.1007/BF00282618   \n",
       "1         https://doi.org/10.1007/BF00282618   \n",
       "2         https://doi.org/10.1007/BF00268843   \n",
       "3         https://doi.org/10.1007/BF00268843   \n",
       "4  https://doi.org/10.1007/s00236-013-0178-2   \n",
       "\n",
       "                                        url              author  \\\n",
       "0     db/journals/acta/acta24.html#HuangL87    Chua-Huang Huang   \n",
       "1     db/journals/acta/acta24.html#HuangL87  Christian Lengauer   \n",
       "2    db/journals/acta/acta25.html#FinkelC87        Alain Finkel   \n",
       "3    db/journals/acta/acta25.html#FinkelC87       Annie Choquet   \n",
       "4  db/journals/acta/acta50.html#Hesselink13    Wim H. Hesselink   \n",
       "\n",
       "                             cluster  \n",
       "0  hardware_multiprocessor_multicore  \n",
       "1  hardware_multiprocessor_multicore  \n",
       "2             scheduling_qos_routing  \n",
       "3             scheduling_qos_routing  \n",
       "4     infinitary_finitary_equational  "
      ]
     },
     "execution_count": 13,
     "metadata": {},
     "output_type": "execute_result"
    }
   ],
   "source": [
    "# The assigned cluster is added to the general dataframe, of article-author pairs\n",
    "df_json_dblp_by_author = pd.merge(df_json_dblp_by_author, df_paper_clusters, on=lbl_paper_id)\n",
    "df_json_dblp_by_author.head()"
   ]
  },
  {
   "cell_type": "code",
   "execution_count": 14,
   "metadata": {
    "collapsed": false
   },
   "outputs": [
    {
     "data": {
      "text/html": [
       "<div>\n",
       "<table border=\"1\" class=\"dataframe\">\n",
       "  <thead>\n",
       "    <tr style=\"text-align: right;\">\n",
       "      <th></th>\n",
       "      <th>author</th>\n",
       "      <th>cluster</th>\n",
       "      <th>num_pubs</th>\n",
       "    </tr>\n",
       "  </thead>\n",
       "  <tbody>\n",
       "    <tr>\n",
       "      <th>0</th>\n",
       "      <td>(David) Jing Dai</td>\n",
       "      <td>budapest_conference_workshop</td>\n",
       "      <td>1</td>\n",
       "    </tr>\n",
       "    <tr>\n",
       "      <th>1</th>\n",
       "      <td>A Lun</td>\n",
       "      <td>llamada_restent_keinen</td>\n",
       "      <td>1</td>\n",
       "    </tr>\n",
       "    <tr>\n",
       "      <th>2</th>\n",
       "      <td>A Min Tjoa</td>\n",
       "      <td>analysis_methodology_modeling</td>\n",
       "      <td>1</td>\n",
       "    </tr>\n",
       "    <tr>\n",
       "      <th>3</th>\n",
       "      <td>A Min Tjoa</td>\n",
       "      <td>data_metadata_database</td>\n",
       "      <td>6</td>\n",
       "    </tr>\n",
       "    <tr>\n",
       "      <th>4</th>\n",
       "      <td>A Min Tjoa</td>\n",
       "      <td>educational_elearning_education</td>\n",
       "      <td>2</td>\n",
       "    </tr>\n",
       "  </tbody>\n",
       "</table>\n",
       "</div>"
      ],
      "text/plain": [
       "             author                          cluster  num_pubs\n",
       "0  (David) Jing Dai     budapest_conference_workshop         1\n",
       "1             A Lun           llamada_restent_keinen         1\n",
       "2        A Min Tjoa    analysis_methodology_modeling         1\n",
       "3        A Min Tjoa           data_metadata_database         6\n",
       "4        A Min Tjoa  educational_elearning_education         2"
      ]
     },
     "execution_count": 14,
     "metadata": {},
     "output_type": "execute_result"
    }
   ],
   "source": [
    "# num_pubs includes the number of publication per author in a certain cluster\n",
    "num_pubs = df_json_dblp_by_author.groupby([lbl_author, lbl_cluster], as_index=False)[lbl_paper_id].count()\n",
    "num_pubs.rename(columns={lbl_paper_id: 'num_pubs'}, inplace=True)\n",
    "num_pubs.head()"
   ]
  },
  {
   "cell_type": "code",
   "execution_count": 15,
   "metadata": {
    "collapsed": false
   },
   "outputs": [
    {
     "data": {
      "text/html": [
       "<div>\n",
       "<table border=\"1\" class=\"dataframe\">\n",
       "  <thead>\n",
       "    <tr style=\"text-align: right;\">\n",
       "      <th></th>\n",
       "      <th>author</th>\n",
       "      <th>cluster</th>\n",
       "      <th>pub_rate</th>\n",
       "    </tr>\n",
       "  </thead>\n",
       "  <tbody>\n",
       "    <tr>\n",
       "      <th>0</th>\n",
       "      <td>(David) Jing Dai</td>\n",
       "      <td>budapest_conference_workshop</td>\n",
       "      <td>0.333333</td>\n",
       "    </tr>\n",
       "    <tr>\n",
       "      <th>1</th>\n",
       "      <td>A Min Tjoa</td>\n",
       "      <td>analysis_methodology_modeling</td>\n",
       "      <td>0.333333</td>\n",
       "    </tr>\n",
       "    <tr>\n",
       "      <th>2</th>\n",
       "      <td>A Min Tjoa</td>\n",
       "      <td>data_metadata_database</td>\n",
       "      <td>0.333333</td>\n",
       "    </tr>\n",
       "    <tr>\n",
       "      <th>3</th>\n",
       "      <td>A Min Tjoa</td>\n",
       "      <td>educational_elearning_education</td>\n",
       "      <td>0.333333</td>\n",
       "    </tr>\n",
       "    <tr>\n",
       "      <th>4</th>\n",
       "      <td>A-Long Jin</td>\n",
       "      <td>channel_multiantenna_mimo</td>\n",
       "      <td>0.333333</td>\n",
       "    </tr>\n",
       "  </tbody>\n",
       "</table>\n",
       "</div>"
      ],
      "text/plain": [
       "             author                          cluster  pub_rate\n",
       "0  (David) Jing Dai     budapest_conference_workshop  0.333333\n",
       "1        A Min Tjoa    analysis_methodology_modeling  0.333333\n",
       "2        A Min Tjoa           data_metadata_database  0.333333\n",
       "3        A Min Tjoa  educational_elearning_education  0.333333\n",
       "4        A-Long Jin        channel_multiantenna_mimo  0.333333"
      ]
     },
     "execution_count": 15,
     "metadata": {},
     "output_type": "execute_result"
    }
   ],
   "source": [
    "# Average year publication rate in the last 3 years\n",
    "pub_rate = df_json_dblp_by_author.query('year >= 2015')\\\n",
    "                .groupby([lbl_author, lbl_cluster, lbl_year], as_index=False)[lbl_paper_id].count() \\\n",
    "                .groupby([lbl_author, lbl_cluster], as_index=False)[lbl_paper_id].sum()\n",
    "pub_rate[lbl_paper_id] /= 3.\n",
    "pub_rate.rename(columns={lbl_paper_id: 'pub_rate'}, inplace=True)\n",
    "pub_rate.head()"
   ]
  },
  {
   "cell_type": "code",
   "execution_count": 16,
   "metadata": {
    "collapsed": false
   },
   "outputs": [
    {
     "data": {
      "text/html": [
       "<div>\n",
       "<table border=\"1\" class=\"dataframe\">\n",
       "  <thead>\n",
       "    <tr style=\"text-align: right;\">\n",
       "      <th></th>\n",
       "      <th>author</th>\n",
       "      <th>cluster</th>\n",
       "      <th>years_exp</th>\n",
       "    </tr>\n",
       "  </thead>\n",
       "  <tbody>\n",
       "    <tr>\n",
       "      <th>0</th>\n",
       "      <td>(David) Jing Dai</td>\n",
       "      <td>budapest_conference_workshop</td>\n",
       "      <td>1.0</td>\n",
       "    </tr>\n",
       "    <tr>\n",
       "      <th>1</th>\n",
       "      <td>A Lun</td>\n",
       "      <td>llamada_restent_keinen</td>\n",
       "      <td>1.0</td>\n",
       "    </tr>\n",
       "    <tr>\n",
       "      <th>2</th>\n",
       "      <td>A Min Tjoa</td>\n",
       "      <td>analysis_methodology_modeling</td>\n",
       "      <td>1.0</td>\n",
       "    </tr>\n",
       "    <tr>\n",
       "      <th>3</th>\n",
       "      <td>A Min Tjoa</td>\n",
       "      <td>data_metadata_database</td>\n",
       "      <td>21.0</td>\n",
       "    </tr>\n",
       "    <tr>\n",
       "      <th>4</th>\n",
       "      <td>A Min Tjoa</td>\n",
       "      <td>educational_elearning_education</td>\n",
       "      <td>11.0</td>\n",
       "    </tr>\n",
       "  </tbody>\n",
       "</table>\n",
       "</div>"
      ],
      "text/plain": [
       "             author                          cluster  years_exp\n",
       "0  (David) Jing Dai     budapest_conference_workshop        1.0\n",
       "1             A Lun           llamada_restent_keinen        1.0\n",
       "2        A Min Tjoa    analysis_methodology_modeling        1.0\n",
       "3        A Min Tjoa           data_metadata_database       21.0\n",
       "4        A Min Tjoa  educational_elearning_education       11.0"
      ]
     },
     "execution_count": 16,
     "metadata": {},
     "output_type": "execute_result"
    }
   ],
   "source": [
    "# Years of experience\n",
    "df_years_exp = df_json_dblp_by_author.groupby([lbl_author, lbl_cluster], as_index=False)[lbl_year].agg([min, max])\n",
    "# Plus 1 because if used as factor then it annihilates the product\n",
    "years_exp = (df_years_exp['max'] - df_years_exp['min'] + 1)\n",
    "del df_years_exp\n",
    "years_exp = years_exp.reset_index().rename(columns={0: lbl_paper_id})\n",
    "years_exp.rename(columns={lbl_paper_id: 'years_exp'}, inplace=True)\n",
    "years_exp.head()"
   ]
  },
  {
   "cell_type": "markdown",
   "metadata": {},
   "source": [
    "Now merge the above calculated KPIs into a unique DataFrame"
   ]
  },
  {
   "cell_type": "code",
   "execution_count": 17,
   "metadata": {
    "collapsed": false
   },
   "outputs": [
    {
     "data": {
      "text/html": [
       "<div>\n",
       "<table border=\"1\" class=\"dataframe\">\n",
       "  <thead>\n",
       "    <tr style=\"text-align: right;\">\n",
       "      <th></th>\n",
       "      <th>author</th>\n",
       "      <th>cluster</th>\n",
       "      <th>num_pubs</th>\n",
       "      <th>pub_rate</th>\n",
       "    </tr>\n",
       "  </thead>\n",
       "  <tbody>\n",
       "    <tr>\n",
       "      <th>0</th>\n",
       "      <td>(David) Jing Dai</td>\n",
       "      <td>budapest_conference_workshop</td>\n",
       "      <td>1</td>\n",
       "      <td>0.333333</td>\n",
       "    </tr>\n",
       "    <tr>\n",
       "      <th>1</th>\n",
       "      <td>A Min Tjoa</td>\n",
       "      <td>analysis_methodology_modeling</td>\n",
       "      <td>1</td>\n",
       "      <td>0.333333</td>\n",
       "    </tr>\n",
       "    <tr>\n",
       "      <th>2</th>\n",
       "      <td>A Min Tjoa</td>\n",
       "      <td>data_metadata_database</td>\n",
       "      <td>6</td>\n",
       "      <td>0.333333</td>\n",
       "    </tr>\n",
       "    <tr>\n",
       "      <th>3</th>\n",
       "      <td>A Min Tjoa</td>\n",
       "      <td>educational_elearning_education</td>\n",
       "      <td>2</td>\n",
       "      <td>0.333333</td>\n",
       "    </tr>\n",
       "    <tr>\n",
       "      <th>4</th>\n",
       "      <td>A-Long Jin</td>\n",
       "      <td>channel_multiantenna_mimo</td>\n",
       "      <td>1</td>\n",
       "      <td>0.333333</td>\n",
       "    </tr>\n",
       "  </tbody>\n",
       "</table>\n",
       "</div>"
      ],
      "text/plain": [
       "             author                          cluster  num_pubs  pub_rate\n",
       "0  (David) Jing Dai     budapest_conference_workshop         1  0.333333\n",
       "1        A Min Tjoa    analysis_methodology_modeling         1  0.333333\n",
       "2        A Min Tjoa           data_metadata_database         6  0.333333\n",
       "3        A Min Tjoa  educational_elearning_education         2  0.333333\n",
       "4        A-Long Jin        channel_multiantenna_mimo         1  0.333333"
      ]
     },
     "execution_count": 17,
     "metadata": {},
     "output_type": "execute_result"
    }
   ],
   "source": [
    "aut_kpis = pd.merge(num_pubs, pub_rate, on=[lbl_author, lbl_cluster])\n",
    "aut_kpis.head()"
   ]
  },
  {
   "cell_type": "code",
   "execution_count": 18,
   "metadata": {
    "collapsed": false
   },
   "outputs": [
    {
     "data": {
      "text/html": [
       "<div>\n",
       "<table border=\"1\" class=\"dataframe\">\n",
       "  <thead>\n",
       "    <tr style=\"text-align: right;\">\n",
       "      <th></th>\n",
       "      <th>author</th>\n",
       "      <th>cluster</th>\n",
       "      <th>num_pubs</th>\n",
       "      <th>pub_rate</th>\n",
       "      <th>years_exp</th>\n",
       "    </tr>\n",
       "  </thead>\n",
       "  <tbody>\n",
       "    <tr>\n",
       "      <th>0</th>\n",
       "      <td>(David) Jing Dai</td>\n",
       "      <td>budapest_conference_workshop</td>\n",
       "      <td>1</td>\n",
       "      <td>0.333333</td>\n",
       "      <td>1.0</td>\n",
       "    </tr>\n",
       "    <tr>\n",
       "      <th>1</th>\n",
       "      <td>A Min Tjoa</td>\n",
       "      <td>analysis_methodology_modeling</td>\n",
       "      <td>1</td>\n",
       "      <td>0.333333</td>\n",
       "      <td>1.0</td>\n",
       "    </tr>\n",
       "    <tr>\n",
       "      <th>2</th>\n",
       "      <td>A Min Tjoa</td>\n",
       "      <td>data_metadata_database</td>\n",
       "      <td>6</td>\n",
       "      <td>0.333333</td>\n",
       "      <td>21.0</td>\n",
       "    </tr>\n",
       "    <tr>\n",
       "      <th>3</th>\n",
       "      <td>A Min Tjoa</td>\n",
       "      <td>educational_elearning_education</td>\n",
       "      <td>2</td>\n",
       "      <td>0.333333</td>\n",
       "      <td>11.0</td>\n",
       "    </tr>\n",
       "    <tr>\n",
       "      <th>4</th>\n",
       "      <td>A-Long Jin</td>\n",
       "      <td>channel_multiantenna_mimo</td>\n",
       "      <td>1</td>\n",
       "      <td>0.333333</td>\n",
       "      <td>1.0</td>\n",
       "    </tr>\n",
       "  </tbody>\n",
       "</table>\n",
       "</div>"
      ],
      "text/plain": [
       "             author                          cluster  num_pubs  pub_rate  \\\n",
       "0  (David) Jing Dai     budapest_conference_workshop         1  0.333333   \n",
       "1        A Min Tjoa    analysis_methodology_modeling         1  0.333333   \n",
       "2        A Min Tjoa           data_metadata_database         6  0.333333   \n",
       "3        A Min Tjoa  educational_elearning_education         2  0.333333   \n",
       "4        A-Long Jin        channel_multiantenna_mimo         1  0.333333   \n",
       "\n",
       "   years_exp  \n",
       "0        1.0  \n",
       "1        1.0  \n",
       "2       21.0  \n",
       "3       11.0  \n",
       "4        1.0  "
      ]
     },
     "execution_count": 18,
     "metadata": {},
     "output_type": "execute_result"
    }
   ],
   "source": [
    "aut_kpis = pd.merge(aut_kpis, years_exp, on=[lbl_author, lbl_cluster])\n",
    "aut_kpis.head()"
   ]
  },
  {
   "cell_type": "markdown",
   "metadata": {},
   "source": [
    "Now all the three KPIs are included in the aut_kpi dataframe\n",
    "\n",
    "This has to be added to the pagerank result, which is calculated next."
   ]
  },
  {
   "cell_type": "markdown",
   "metadata": {},
   "source": [
    "# 4. Data Augmentation with data from Citation Network\n",
    "- The idea is to create a directed network of papers that cite other papers.\n",
    "- A network centrality could be applied in order to assess the importance of a paper.\n",
    "- This paper importance could then be added to an author to have another KPI of an author.\n",
    "- The chosen centrality is called PageRank (developed by Google to assess importance of a website, that refers to other websites)."
   ]
  },
  {
   "cell_type": "code",
   "execution_count": 19,
   "metadata": {
    "collapsed": true
   },
   "outputs": [],
   "source": [
    "json_cit_parts = range(4)\n",
    "df_json_cit = pd.DataFrame()\n",
    "for i in json_cit_parts:\n",
    "    f_json_cit = path + f_dblp_ref  % i\n",
    "    df_json_cit = pd.concat([df_json_cit,\n",
    "                             pd.read_json(f_json_cit, lines=True)])"
   ]
  },
  {
   "cell_type": "code",
   "execution_count": 20,
   "metadata": {
    "collapsed": false
   },
   "outputs": [
    {
     "data": {
      "text/plain": [
       "(3079007, 7)"
      ]
     },
     "execution_count": 20,
     "metadata": {},
     "output_type": "execute_result"
    }
   ],
   "source": [
    "# the total number of citations are\n",
    "df_json_cit.shape"
   ]
  },
  {
   "cell_type": "code",
   "execution_count": 21,
   "metadata": {
    "collapsed": false
   },
   "outputs": [
    {
     "data": {
      "text/html": [
       "<div>\n",
       "<table border=\"1\" class=\"dataframe\">\n",
       "  <thead>\n",
       "    <tr style=\"text-align: right;\">\n",
       "      <th></th>\n",
       "      <th>abstract</th>\n",
       "      <th>authors</th>\n",
       "      <th>id</th>\n",
       "      <th>references</th>\n",
       "      <th>title</th>\n",
       "      <th>venue</th>\n",
       "      <th>year</th>\n",
       "    </tr>\n",
       "  </thead>\n",
       "  <tbody>\n",
       "    <tr>\n",
       "      <th>0</th>\n",
       "      <td>The purpose of this study is to develop a lear...</td>\n",
       "      <td>[Makoto Satoh, Ryo Muramatsu, Mizue Kayama, Ka...</td>\n",
       "      <td>00127ee2-cb05-48ce-bc49-9de556b93346</td>\n",
       "      <td>[51c7e02e-f5ed-431a-8cf5-f761f266d4be, 69b625b...</td>\n",
       "      <td>Preliminary Design of a Network Protocol Learn...</td>\n",
       "      <td>international conference on human-computer int...</td>\n",
       "      <td>2013</td>\n",
       "    </tr>\n",
       "    <tr>\n",
       "      <th>1</th>\n",
       "      <td>This paper describes the design and implementa...</td>\n",
       "      <td>[Gareth Beale, Graeme Earl]</td>\n",
       "      <td>001c58d3-26ad-46b3-ab3a-c1e557d16821</td>\n",
       "      <td>[10482dd3-4642-4193-842f-85f3b70fcf65, 3133714...</td>\n",
       "      <td>A methodology for the physically accurate visu...</td>\n",
       "      <td>visual analytics science and technology</td>\n",
       "      <td>2011</td>\n",
       "    </tr>\n",
       "    <tr>\n",
       "      <th>2</th>\n",
       "      <td>This article applied GARCH model instead AR or...</td>\n",
       "      <td>[Altaf Hossain, Faisal Zaman, Mohammed Nasser,...</td>\n",
       "      <td>001c8744-73c4-4b04-9364-22d31a10dbf1</td>\n",
       "      <td>[2d84c0f2-e656-4ce7-b018-90eda1c132fe, a083a1b...</td>\n",
       "      <td>Comparison of GARCH, Neural Network and Suppor...</td>\n",
       "      <td>pattern recognition and machine intelligence</td>\n",
       "      <td>2009</td>\n",
       "    </tr>\n",
       "    <tr>\n",
       "      <th>3</th>\n",
       "      <td>NaN</td>\n",
       "      <td>[Jea-Bum Park, Byungmok Kim, Jian Shen, Sun-Yo...</td>\n",
       "      <td>00338203-9eb3-40c5-9f31-cbac73a519ec</td>\n",
       "      <td>[8c78e4b0-632b-4293-b491-85b1976675e6, 9cdc54f...</td>\n",
       "      <td>Development of Remote Monitoring and Control D...</td>\n",
       "      <td></td>\n",
       "      <td>2011</td>\n",
       "    </tr>\n",
       "    <tr>\n",
       "      <th>4</th>\n",
       "      <td>NaN</td>\n",
       "      <td>[Giovanna Guerrini, Isabella Merlo]</td>\n",
       "      <td>0040b022-1472-4f70-a753-74832df65266</td>\n",
       "      <td>NaN</td>\n",
       "      <td>Reasonig about Set-Oriented Methods in Object ...</td>\n",
       "      <td></td>\n",
       "      <td>1998</td>\n",
       "    </tr>\n",
       "  </tbody>\n",
       "</table>\n",
       "</div>"
      ],
      "text/plain": [
       "                                            abstract  \\\n",
       "0  The purpose of this study is to develop a lear...   \n",
       "1  This paper describes the design and implementa...   \n",
       "2  This article applied GARCH model instead AR or...   \n",
       "3                                                NaN   \n",
       "4                                                NaN   \n",
       "\n",
       "                                             authors  \\\n",
       "0  [Makoto Satoh, Ryo Muramatsu, Mizue Kayama, Ka...   \n",
       "1                        [Gareth Beale, Graeme Earl]   \n",
       "2  [Altaf Hossain, Faisal Zaman, Mohammed Nasser,...   \n",
       "3  [Jea-Bum Park, Byungmok Kim, Jian Shen, Sun-Yo...   \n",
       "4                [Giovanna Guerrini, Isabella Merlo]   \n",
       "\n",
       "                                     id  \\\n",
       "0  00127ee2-cb05-48ce-bc49-9de556b93346   \n",
       "1  001c58d3-26ad-46b3-ab3a-c1e557d16821   \n",
       "2  001c8744-73c4-4b04-9364-22d31a10dbf1   \n",
       "3  00338203-9eb3-40c5-9f31-cbac73a519ec   \n",
       "4  0040b022-1472-4f70-a753-74832df65266   \n",
       "\n",
       "                                          references  \\\n",
       "0  [51c7e02e-f5ed-431a-8cf5-f761f266d4be, 69b625b...   \n",
       "1  [10482dd3-4642-4193-842f-85f3b70fcf65, 3133714...   \n",
       "2  [2d84c0f2-e656-4ce7-b018-90eda1c132fe, a083a1b...   \n",
       "3  [8c78e4b0-632b-4293-b491-85b1976675e6, 9cdc54f...   \n",
       "4                                                NaN   \n",
       "\n",
       "                                               title  \\\n",
       "0  Preliminary Design of a Network Protocol Learn...   \n",
       "1  A methodology for the physically accurate visu...   \n",
       "2  Comparison of GARCH, Neural Network and Suppor...   \n",
       "3  Development of Remote Monitoring and Control D...   \n",
       "4  Reasonig about Set-Oriented Methods in Object ...   \n",
       "\n",
       "                                               venue  year  \n",
       "0  international conference on human-computer int...  2013  \n",
       "1            visual analytics science and technology  2011  \n",
       "2       pattern recognition and machine intelligence  2009  \n",
       "3                                                     2011  \n",
       "4                                                     1998  "
      ]
     },
     "execution_count": 21,
     "metadata": {},
     "output_type": "execute_result"
    }
   ],
   "source": [
    "#important columns here are the title, id and references\n",
    "# a reference is when the id of another paper is mentioned in the reference column of one paper\n",
    "df_json_cit.head()"
   ]
  },
  {
   "cell_type": "markdown",
   "metadata": {},
   "source": [
    "Filter by matching the title exactly with our dblp dataset"
   ]
  },
  {
   "cell_type": "code",
   "execution_count": 22,
   "metadata": {
    "collapsed": false
   },
   "outputs": [
    {
     "data": {
      "text/html": [
       "<div>\n",
       "<table border=\"1\" class=\"dataframe\">\n",
       "  <thead>\n",
       "    <tr style=\"text-align: right;\">\n",
       "      <th></th>\n",
       "      <th>abstract</th>\n",
       "      <th>authors_x</th>\n",
       "      <th>id</th>\n",
       "      <th>references</th>\n",
       "      <th>title</th>\n",
       "      <th>venue</th>\n",
       "      <th>year_x</th>\n",
       "      <th>paper_id</th>\n",
       "      <th>papertype</th>\n",
       "      <th>authors_y</th>\n",
       "      <th>journal</th>\n",
       "      <th>booktitle</th>\n",
       "      <th>year_y</th>\n",
       "      <th>ee</th>\n",
       "      <th>url</th>\n",
       "      <th>author</th>\n",
       "    </tr>\n",
       "  </thead>\n",
       "  <tbody>\n",
       "    <tr>\n",
       "      <th>0</th>\n",
       "      <td>NaN</td>\n",
       "      <td>[Giovanna Guerrini, Isabella Merlo]</td>\n",
       "      <td>0040b022-1472-4f70-a753-74832df65266</td>\n",
       "      <td>NaN</td>\n",
       "      <td>Reasonig about Set-Oriented Methods in Object ...</td>\n",
       "      <td></td>\n",
       "      <td>1998</td>\n",
       "      <td>conf/sebd/GuerriniM98</td>\n",
       "      <td>inproceedings</td>\n",
       "      <td>[Giovanna Guerrini, Isabella Merlo]</td>\n",
       "      <td>None</td>\n",
       "      <td>SEBD</td>\n",
       "      <td>1998.0</td>\n",
       "      <td>None</td>\n",
       "      <td>db/conf/sebd/sebd1998.html#GuerriniM98</td>\n",
       "      <td>Giovanna Guerrini</td>\n",
       "    </tr>\n",
       "    <tr>\n",
       "      <th>1</th>\n",
       "      <td>NaN</td>\n",
       "      <td>[Giovanna Guerrini, Isabella Merlo]</td>\n",
       "      <td>0040b022-1472-4f70-a753-74832df65266</td>\n",
       "      <td>NaN</td>\n",
       "      <td>Reasonig about Set-Oriented Methods in Object ...</td>\n",
       "      <td></td>\n",
       "      <td>1998</td>\n",
       "      <td>conf/sebd/GuerriniM98</td>\n",
       "      <td>inproceedings</td>\n",
       "      <td>[Giovanna Guerrini, Isabella Merlo]</td>\n",
       "      <td>None</td>\n",
       "      <td>SEBD</td>\n",
       "      <td>1998.0</td>\n",
       "      <td>None</td>\n",
       "      <td>db/conf/sebd/sebd1998.html#GuerriniM98</td>\n",
       "      <td>Isabella Merlo</td>\n",
       "    </tr>\n",
       "    <tr>\n",
       "      <th>2</th>\n",
       "      <td>NaN</td>\n",
       "      <td>[Jovan Dj. Golic, Guglielmo Morgari]</td>\n",
       "      <td>00638a94-23bf-4fa6-b5ce-40d799c65da7</td>\n",
       "      <td>NaN</td>\n",
       "      <td>Vectorial fast correlation attacks.</td>\n",
       "      <td></td>\n",
       "      <td>2004</td>\n",
       "      <td>journals/iacr/GolicM04</td>\n",
       "      <td>article</td>\n",
       "      <td>[Jovan Dj. Golic, Guglielmo Morgari]</td>\n",
       "      <td>IACR Cryptology ePrint Archive</td>\n",
       "      <td>None</td>\n",
       "      <td>2004.0</td>\n",
       "      <td>http://eprint.iacr.org/2004/247</td>\n",
       "      <td>db/journals/iacr/iacr2004.html#GolicM04</td>\n",
       "      <td>Jovan Dj. Golic</td>\n",
       "    </tr>\n",
       "    <tr>\n",
       "      <th>3</th>\n",
       "      <td>NaN</td>\n",
       "      <td>[Jovan Dj. Golic, Guglielmo Morgari]</td>\n",
       "      <td>00638a94-23bf-4fa6-b5ce-40d799c65da7</td>\n",
       "      <td>NaN</td>\n",
       "      <td>Vectorial fast correlation attacks.</td>\n",
       "      <td></td>\n",
       "      <td>2004</td>\n",
       "      <td>journals/iacr/GolicM04</td>\n",
       "      <td>article</td>\n",
       "      <td>[Jovan Dj. Golic, Guglielmo Morgari]</td>\n",
       "      <td>IACR Cryptology ePrint Archive</td>\n",
       "      <td>None</td>\n",
       "      <td>2004.0</td>\n",
       "      <td>http://eprint.iacr.org/2004/247</td>\n",
       "      <td>db/journals/iacr/iacr2004.html#GolicM04</td>\n",
       "      <td>Guglielmo Morgari</td>\n",
       "    </tr>\n",
       "    <tr>\n",
       "      <th>4</th>\n",
       "      <td>NaN</td>\n",
       "      <td>[Pranay Chaudhuri, Hussein Thompson]</td>\n",
       "      <td>00745041-3636-4d18-bbec-783c4278c40d</td>\n",
       "      <td>NaN</td>\n",
       "      <td>A Self-Stabilizing Algorithm for Finding the C...</td>\n",
       "      <td>parallel and distributed processing techniques...</td>\n",
       "      <td>2003</td>\n",
       "      <td>conf/pdpta/ChaudhuriT03</td>\n",
       "      <td>inproceedings</td>\n",
       "      <td>[Pranay Chaudhuri, Hussein Thompson]</td>\n",
       "      <td>None</td>\n",
       "      <td>PDPTA</td>\n",
       "      <td>2003.0</td>\n",
       "      <td>None</td>\n",
       "      <td>db/conf/pdpta/pdpta2003-3.html#ChaudhuriT03</td>\n",
       "      <td>Pranay Chaudhuri</td>\n",
       "    </tr>\n",
       "  </tbody>\n",
       "</table>\n",
       "</div>"
      ],
      "text/plain": [
       "  abstract                             authors_x  \\\n",
       "0      NaN   [Giovanna Guerrini, Isabella Merlo]   \n",
       "1      NaN   [Giovanna Guerrini, Isabella Merlo]   \n",
       "2      NaN  [Jovan Dj. Golic, Guglielmo Morgari]   \n",
       "3      NaN  [Jovan Dj. Golic, Guglielmo Morgari]   \n",
       "4      NaN  [Pranay Chaudhuri, Hussein Thompson]   \n",
       "\n",
       "                                     id references  \\\n",
       "0  0040b022-1472-4f70-a753-74832df65266        NaN   \n",
       "1  0040b022-1472-4f70-a753-74832df65266        NaN   \n",
       "2  00638a94-23bf-4fa6-b5ce-40d799c65da7        NaN   \n",
       "3  00638a94-23bf-4fa6-b5ce-40d799c65da7        NaN   \n",
       "4  00745041-3636-4d18-bbec-783c4278c40d        NaN   \n",
       "\n",
       "                                               title  \\\n",
       "0  Reasonig about Set-Oriented Methods in Object ...   \n",
       "1  Reasonig about Set-Oriented Methods in Object ...   \n",
       "2                Vectorial fast correlation attacks.   \n",
       "3                Vectorial fast correlation attacks.   \n",
       "4  A Self-Stabilizing Algorithm for Finding the C...   \n",
       "\n",
       "                                               venue  year_x  \\\n",
       "0                                                       1998   \n",
       "1                                                       1998   \n",
       "2                                                       2004   \n",
       "3                                                       2004   \n",
       "4  parallel and distributed processing techniques...    2003   \n",
       "\n",
       "                  paper_id      papertype  \\\n",
       "0    conf/sebd/GuerriniM98  inproceedings   \n",
       "1    conf/sebd/GuerriniM98  inproceedings   \n",
       "2   journals/iacr/GolicM04        article   \n",
       "3   journals/iacr/GolicM04        article   \n",
       "4  conf/pdpta/ChaudhuriT03  inproceedings   \n",
       "\n",
       "                              authors_y                         journal  \\\n",
       "0   [Giovanna Guerrini, Isabella Merlo]                            None   \n",
       "1   [Giovanna Guerrini, Isabella Merlo]                            None   \n",
       "2  [Jovan Dj. Golic, Guglielmo Morgari]  IACR Cryptology ePrint Archive   \n",
       "3  [Jovan Dj. Golic, Guglielmo Morgari]  IACR Cryptology ePrint Archive   \n",
       "4  [Pranay Chaudhuri, Hussein Thompson]                            None   \n",
       "\n",
       "  booktitle  year_y                               ee  \\\n",
       "0      SEBD  1998.0                             None   \n",
       "1      SEBD  1998.0                             None   \n",
       "2      None  2004.0  http://eprint.iacr.org/2004/247   \n",
       "3      None  2004.0  http://eprint.iacr.org/2004/247   \n",
       "4     PDPTA  2003.0                             None   \n",
       "\n",
       "                                           url             author  \n",
       "0       db/conf/sebd/sebd1998.html#GuerriniM98  Giovanna Guerrini  \n",
       "1       db/conf/sebd/sebd1998.html#GuerriniM98     Isabella Merlo  \n",
       "2      db/journals/iacr/iacr2004.html#GolicM04    Jovan Dj. Golic  \n",
       "3      db/journals/iacr/iacr2004.html#GolicM04  Guglielmo Morgari  \n",
       "4  db/conf/pdpta/pdpta2003-3.html#ChaudhuriT03   Pranay Chaudhuri  "
      ]
     },
     "execution_count": 27,
     "metadata": {},
     "output_type": "execute_result"
    }
   ],
   "source": [
    "df_merged = pd.merge(df_json_cit, df_json_dblp_by_author, on='title')\n",
    "df_merged.shape\n",
    "df_merged.head()"
   ]
  },
  {
   "cell_type": "markdown",
   "metadata": {},
   "source": [
    "# 5. Construct the citation network\n",
    "- In order to calculate the Pagerank Centrality for every author (=node in network), we need the edges between them (=citations)\n",
    "- For that, we first create an adjacency list.\n",
    "    - The adjacency list exists of paper ID's, constructed from the rows in our dataframe.\n",
    "    - If there is a citation from paper A to paper B, the adjacency list looks as follows: (id_A , id_B)\n",
    "    - If there is a paper without citation, there is only its id, (id_A)"
   ]
  },
  {
   "cell_type": "code",
   "execution_count": 23,
   "metadata": {
    "collapsed": true
   },
   "outputs": [],
   "source": [
    "#if there are references, the adjacency list element is a tuple like (id_A, id_B)\n",
    "#if there are no references, the adjacency list element is a sinlge value (id_A)\n",
    "def adjacency_list(row):\n",
    "    try:\n",
    "        return row[lbl_id] + ',' + ','.join(row[lbl_references])\n",
    "    except:\n",
    "        return row[lbl_id]"
   ]
  },
  {
   "cell_type": "code",
   "execution_count": 24,
   "metadata": {
    "collapsed": false
   },
   "outputs": [
    {
     "data": {
      "text/plain": [
       "0    0040b022-1472-4f70-a753-74832df65266\n",
       "1    0040b022-1472-4f70-a753-74832df65266\n",
       "2    00638a94-23bf-4fa6-b5ce-40d799c65da7\n",
       "3    00638a94-23bf-4fa6-b5ce-40d799c65da7\n",
       "4    00745041-3636-4d18-bbec-783c4278c40d\n",
       "5    00745041-3636-4d18-bbec-783c4278c40d\n",
       "6    00dc2bba-3237-4d4e-b541-1205b97df981\n",
       "7    00dc2bba-3237-4d4e-b541-1205b97df981\n",
       "8    00dc2bba-3237-4d4e-b541-1205b97df981\n",
       "9    00e02aeb-b424-4ca8-b3ca-6e18e322f79e\n",
       "dtype: object"
      ]
     },
     "execution_count": 29,
     "metadata": {},
     "output_type": "execute_result"
    }
   ],
   "source": [
    "adj_list = df_merged.apply(adjacency_list, axis=1)\n",
    "adj_list[:10]"
   ]
  },
  {
   "cell_type": "code",
   "execution_count": 25,
   "metadata": {
    "collapsed": true,
    "scrolled": true
   },
   "outputs": [],
   "source": [
    "#transform the adjacency list to a network\n",
    "G = nx.parse_adjlist(adj_list.values, nodetype=str, delimiter=',')"
   ]
  },
  {
   "cell_type": "code",
   "execution_count": 26,
   "metadata": {
    "collapsed": false
   },
   "outputs": [
    {
     "data": {
      "text/plain": [
       "599340"
      ]
     },
     "execution_count": 31,
     "metadata": {},
     "output_type": "execute_result"
    }
   ],
   "source": [
    "# The number of authors in the network\n",
    "len(G.nodes())"
   ]
  },
  {
   "cell_type": "code",
   "execution_count": 27,
   "metadata": {
    "collapsed": false
   },
   "outputs": [
    {
     "data": {
      "text/plain": [
       "927016"
      ]
     },
     "execution_count": 32,
     "metadata": {},
     "output_type": "execute_result"
    }
   ],
   "source": [
    "# The number of edges in the network\n",
    "len(G.edges())"
   ]
  },
  {
   "cell_type": "code",
   "execution_count": 28,
   "metadata": {
    "collapsed": true
   },
   "outputs": [],
   "source": [
    "# Calculate the pagerank centrality for every node (author)\n",
    "pr = nx.pagerank(G, alpha=0.9, max_iter=10)"
   ]
  },
  {
   "cell_type": "code",
   "execution_count": 29,
   "metadata": {
    "collapsed": false
   },
   "outputs": [
    {
     "data": {
      "text/plain": [
       "count    5.993400e+05\n",
       "mean     1.668502e-06\n",
       "std      1.646517e-05\n",
       "min      2.067470e-07\n",
       "25%      4.665886e-07\n",
       "50%      6.368175e-07\n",
       "75%      1.282507e-06\n",
       "max      1.247568e-02\n",
       "dtype: float64"
      ]
     },
     "execution_count": 34,
     "metadata": {},
     "output_type": "execute_result"
    }
   ],
   "source": [
    "# Pagerank is a value between 1e-6 and 1e-2\n",
    "pd.Series(pr).describe()"
   ]
  },
  {
   "cell_type": "code",
   "execution_count": 30,
   "metadata": {
    "collapsed": false
   },
   "outputs": [
    {
     "data": {
      "text/html": [
       "<div>\n",
       "<table border=\"1\" class=\"dataframe\">\n",
       "  <thead>\n",
       "    <tr style=\"text-align: right;\">\n",
       "      <th></th>\n",
       "      <th>id</th>\n",
       "      <th>cite_rank</th>\n",
       "    </tr>\n",
       "  </thead>\n",
       "  <tbody>\n",
       "    <tr>\n",
       "      <th>0</th>\n",
       "      <td></td>\n",
       "      <td>1.247568e-02</td>\n",
       "    </tr>\n",
       "    <tr>\n",
       "      <th>1</th>\n",
       "      <td>00001301-0e56-4c9d-94aa-f776580aed87</td>\n",
       "      <td>5.632725e-07</td>\n",
       "    </tr>\n",
       "    <tr>\n",
       "      <th>2</th>\n",
       "      <td>00001d52-f2bd-4137-8d6b-b34e65a972bf</td>\n",
       "      <td>2.067470e-07</td>\n",
       "    </tr>\n",
       "    <tr>\n",
       "      <th>3</th>\n",
       "      <td>000020ae-0106-46dd-a3c9-610e3bd9e4e4</td>\n",
       "      <td>2.067470e-07</td>\n",
       "    </tr>\n",
       "    <tr>\n",
       "      <th>4</th>\n",
       "      <td>000024b3-0d71-41ff-a66d-12a72e47af9b</td>\n",
       "      <td>2.067470e-07</td>\n",
       "    </tr>\n",
       "  </tbody>\n",
       "</table>\n",
       "</div>"
      ],
      "text/plain": [
       "                                     id     cite_rank\n",
       "0                                        1.247568e-02\n",
       "1  00001301-0e56-4c9d-94aa-f776580aed87  5.632725e-07\n",
       "2  00001d52-f2bd-4137-8d6b-b34e65a972bf  2.067470e-07\n",
       "3  000020ae-0106-46dd-a3c9-610e3bd9e4e4  2.067470e-07\n",
       "4  000024b3-0d71-41ff-a66d-12a72e47af9b  2.067470e-07"
      ]
     },
     "execution_count": 35,
     "metadata": {},
     "output_type": "execute_result"
    }
   ],
   "source": [
    "# reset the index\n",
    "# give the columns a name\n",
    "df_ranks = pd.DataFrame(pd.Series(pr))\n",
    "df_ranks.reset_index(inplace=True)\n",
    "df_ranks.columns = [lbl_id, lbl_rank]\n",
    "df_ranks.head()"
   ]
  },
  {
   "cell_type": "code",
   "execution_count": 31,
   "metadata": {
    "collapsed": false
   },
   "outputs": [
    {
     "data": {
      "text/html": [
       "<div>\n",
       "<table border=\"1\" class=\"dataframe\">\n",
       "  <thead>\n",
       "    <tr style=\"text-align: right;\">\n",
       "      <th></th>\n",
       "      <th>abstract</th>\n",
       "      <th>authors_x</th>\n",
       "      <th>id</th>\n",
       "      <th>references</th>\n",
       "      <th>title</th>\n",
       "      <th>venue</th>\n",
       "      <th>year_x</th>\n",
       "      <th>paper_id</th>\n",
       "      <th>papertype</th>\n",
       "      <th>authors_y</th>\n",
       "      <th>journal</th>\n",
       "      <th>booktitle</th>\n",
       "      <th>year_y</th>\n",
       "      <th>ee</th>\n",
       "      <th>url</th>\n",
       "      <th>author</th>\n",
       "      <th>cite_rank</th>\n",
       "    </tr>\n",
       "  </thead>\n",
       "  <tbody>\n",
       "    <tr>\n",
       "      <th>604230</th>\n",
       "      <td>NaN</td>\n",
       "      <td>[Geoffroy Peeters]</td>\n",
       "      <td>ea40186d-fa9e-4b37-b221-7c8643cf9a2f</td>\n",
       "      <td>[04653811-8458-4ae1-b3fb-ca3fdae90216, 1a52008...</td>\n",
       "      <td>Sequence Representation of Music Structure Usi...</td>\n",
       "      <td>international symposium/conference on music in...</td>\n",
       "      <td>2007</td>\n",
       "      <td>conf/ismir/Peeters07</td>\n",
       "      <td>inproceedings</td>\n",
       "      <td>[Geoffroy Peeters]</td>\n",
       "      <td>None</td>\n",
       "      <td>ISMIR</td>\n",
       "      <td>2007.0</td>\n",
       "      <td>http://ismir2007.ismir.net/proceedings/ISMIR20...</td>\n",
       "      <td>db/conf/ismir/ismir2007.html#Peeters07</td>\n",
       "      <td>Geoffroy Peeters</td>\n",
       "      <td>4.215206e-06</td>\n",
       "    </tr>\n",
       "    <tr>\n",
       "      <th>598911</th>\n",
       "      <td>NaN</td>\n",
       "      <td>[Gábor Korchmáros, Angelo Sonnino]</td>\n",
       "      <td>e1b37c62-fcc1-4533-9a94-ca785b95c4be</td>\n",
       "      <td>NaN</td>\n",
       "      <td>Doubly transitive parabolic ovals in affine pl...</td>\n",
       "      <td>Ars Combinatoria</td>\n",
       "      <td>2012</td>\n",
       "      <td>journals/arscom/KorchmarosS12</td>\n",
       "      <td>article</td>\n",
       "      <td>[Gábor Korchmáros, Angelo Sonnino]</td>\n",
       "      <td>Ars Comb.</td>\n",
       "      <td>None</td>\n",
       "      <td>2012.0</td>\n",
       "      <td>None</td>\n",
       "      <td>db/journals/arscom/arscom105.html#KorchmarosS12</td>\n",
       "      <td>Angelo Sonnino</td>\n",
       "      <td>2.067470e-07</td>\n",
       "    </tr>\n",
       "    <tr>\n",
       "      <th>191444</th>\n",
       "      <td>NaN</td>\n",
       "      <td>[Martin E. Hellman, Ehud D. Karnin, Justin M. ...</td>\n",
       "      <td>8164deb5-8262-4426-bdb3-55c6fd900c3d</td>\n",
       "      <td>NaN</td>\n",
       "      <td>On the Necessity of Exhaustive Search for Syst...</td>\n",
       "      <td>international cryptology conference</td>\n",
       "      <td>1981</td>\n",
       "      <td>conf/crypto/HellmanKR81</td>\n",
       "      <td>inproceedings</td>\n",
       "      <td>[Martin E. Hellman, Ehud D. Karnin, Justin M. ...</td>\n",
       "      <td>None</td>\n",
       "      <td>CRYPTO</td>\n",
       "      <td>1981.0</td>\n",
       "      <td>None</td>\n",
       "      <td>db/conf/crypto/crypto81.html#HellmanKR81</td>\n",
       "      <td>Justin M. Reyneri</td>\n",
       "      <td>2.067470e-07</td>\n",
       "    </tr>\n",
       "    <tr>\n",
       "      <th>688708</th>\n",
       "      <td>NaN</td>\n",
       "      <td>[Manfred Ueberall, Christoph Dorsch, Stefan Pf...</td>\n",
       "      <td>c0a203fa-3264-4f5f-8999-3647b29ce109</td>\n",
       "      <td>[860b0199-14c9-4634-9b66-b35a3ee1d523]</td>\n",
       "      <td>E2E-Prozessverbesserung auf Betriebsmodellebene.</td>\n",
       "      <td></td>\n",
       "      <td>2015</td>\n",
       "      <td>journals/wm/UeberallDPRW15</td>\n",
       "      <td>article</td>\n",
       "      <td>[Manfred Ueberall, Christoph Dorsch, Stefan Pf...</td>\n",
       "      <td>Wirtschaftsinformatik &amp; Management</td>\n",
       "      <td>None</td>\n",
       "      <td>2015.0</td>\n",
       "      <td>https://doi.org/10.1007/s35764-015-0520-2</td>\n",
       "      <td>db/journals/wm/wm7.html#UeberallDPRW15</td>\n",
       "      <td>Christoph Dorsch</td>\n",
       "      <td>1.998885e-06</td>\n",
       "    </tr>\n",
       "    <tr>\n",
       "      <th>285708</th>\n",
       "      <td>Obtaining a good load balance is a significant...</td>\n",
       "      <td>[Derek Groen, David Abou Chacra, Rupert W. Nas...</td>\n",
       "      <td>7331bb35-945b-4cea-87cb-453b00c46c9f</td>\n",
       "      <td>[0cf8b89b-1372-4f75-b3c9-471f888c079e, 5830947...</td>\n",
       "      <td>Weighted Decomposition in High-Performance Lat...</td>\n",
       "      <td>arXiv: Distributed, Parallel, and Cluster Comp...</td>\n",
       "      <td>2014</td>\n",
       "      <td>conf/easc/GroenCNJBC14</td>\n",
       "      <td>inproceedings</td>\n",
       "      <td>[Derek Groen, David Abou Chacra, Rupert W. Nas...</td>\n",
       "      <td>None</td>\n",
       "      <td>EASC</td>\n",
       "      <td>2014.0</td>\n",
       "      <td>https://doi.org/10.1007/978-3-319-15976-8_2</td>\n",
       "      <td>db/conf/easc/easc2014.html#GroenCNJBC14</td>\n",
       "      <td>Derek Groen</td>\n",
       "      <td>7.554480e-06</td>\n",
       "    </tr>\n",
       "  </tbody>\n",
       "</table>\n",
       "</div>"
      ],
      "text/plain": [
       "                                                 abstract  \\\n",
       "604230                                                NaN   \n",
       "598911                                                NaN   \n",
       "191444                                                NaN   \n",
       "688708                                                NaN   \n",
       "285708  Obtaining a good load balance is a significant...   \n",
       "\n",
       "                                                authors_x  \\\n",
       "604230                                 [Geoffroy Peeters]   \n",
       "598911                 [Gábor Korchmáros, Angelo Sonnino]   \n",
       "191444  [Martin E. Hellman, Ehud D. Karnin, Justin M. ...   \n",
       "688708  [Manfred Ueberall, Christoph Dorsch, Stefan Pf...   \n",
       "285708  [Derek Groen, David Abou Chacra, Rupert W. Nas...   \n",
       "\n",
       "                                          id  \\\n",
       "604230  ea40186d-fa9e-4b37-b221-7c8643cf9a2f   \n",
       "598911  e1b37c62-fcc1-4533-9a94-ca785b95c4be   \n",
       "191444  8164deb5-8262-4426-bdb3-55c6fd900c3d   \n",
       "688708  c0a203fa-3264-4f5f-8999-3647b29ce109   \n",
       "285708  7331bb35-945b-4cea-87cb-453b00c46c9f   \n",
       "\n",
       "                                               references  \\\n",
       "604230  [04653811-8458-4ae1-b3fb-ca3fdae90216, 1a52008...   \n",
       "598911                                                NaN   \n",
       "191444                                                NaN   \n",
       "688708             [860b0199-14c9-4634-9b66-b35a3ee1d523]   \n",
       "285708  [0cf8b89b-1372-4f75-b3c9-471f888c079e, 5830947...   \n",
       "\n",
       "                                                    title  \\\n",
       "604230  Sequence Representation of Music Structure Usi...   \n",
       "598911  Doubly transitive parabolic ovals in affine pl...   \n",
       "191444  On the Necessity of Exhaustive Search for Syst...   \n",
       "688708   E2E-Prozessverbesserung auf Betriebsmodellebene.   \n",
       "285708  Weighted Decomposition in High-Performance Lat...   \n",
       "\n",
       "                                                    venue  year_x  \\\n",
       "604230  international symposium/conference on music in...    2007   \n",
       "598911                                   Ars Combinatoria    2012   \n",
       "191444                international cryptology conference    1981   \n",
       "688708                                                       2015   \n",
       "285708  arXiv: Distributed, Parallel, and Cluster Comp...    2014   \n",
       "\n",
       "                             paper_id      papertype  \\\n",
       "604230           conf/ismir/Peeters07  inproceedings   \n",
       "598911  journals/arscom/KorchmarosS12        article   \n",
       "191444        conf/crypto/HellmanKR81  inproceedings   \n",
       "688708     journals/wm/UeberallDPRW15        article   \n",
       "285708         conf/easc/GroenCNJBC14  inproceedings   \n",
       "\n",
       "                                                authors_y  \\\n",
       "604230                                 [Geoffroy Peeters]   \n",
       "598911                 [Gábor Korchmáros, Angelo Sonnino]   \n",
       "191444  [Martin E. Hellman, Ehud D. Karnin, Justin M. ...   \n",
       "688708  [Manfred Ueberall, Christoph Dorsch, Stefan Pf...   \n",
       "285708  [Derek Groen, David Abou Chacra, Rupert W. Nas...   \n",
       "\n",
       "                                   journal booktitle  year_y  \\\n",
       "604230                                None     ISMIR  2007.0   \n",
       "598911                           Ars Comb.      None  2012.0   \n",
       "191444                                None    CRYPTO  1981.0   \n",
       "688708  Wirtschaftsinformatik & Management      None  2015.0   \n",
       "285708                                None      EASC  2014.0   \n",
       "\n",
       "                                                       ee  \\\n",
       "604230  http://ismir2007.ismir.net/proceedings/ISMIR20...   \n",
       "598911                                               None   \n",
       "191444                                               None   \n",
       "688708          https://doi.org/10.1007/s35764-015-0520-2   \n",
       "285708        https://doi.org/10.1007/978-3-319-15976-8_2   \n",
       "\n",
       "                                                    url             author  \\\n",
       "604230           db/conf/ismir/ismir2007.html#Peeters07   Geoffroy Peeters   \n",
       "598911  db/journals/arscom/arscom105.html#KorchmarosS12     Angelo Sonnino   \n",
       "191444         db/conf/crypto/crypto81.html#HellmanKR81  Justin M. Reyneri   \n",
       "688708           db/journals/wm/wm7.html#UeberallDPRW15   Christoph Dorsch   \n",
       "285708          db/conf/easc/easc2014.html#GroenCNJBC14        Derek Groen   \n",
       "\n",
       "           cite_rank  \n",
       "604230  4.215206e-06  \n",
       "598911  2.067470e-07  \n",
       "191444  2.067470e-07  \n",
       "688708  1.998885e-06  \n",
       "285708  7.554480e-06  "
      ]
     },
     "execution_count": 36,
     "metadata": {},
     "output_type": "execute_result"
    }
   ],
   "source": [
    "# merge this pagerank (or citerank) into our paper dataframe\n",
    "df_merged_pr = pd.merge(df_merged, df_ranks, on=lbl_id)\n",
    "df_merged_pr.sample(n=5)"
   ]
  },
  {
   "cell_type": "code",
   "execution_count": 32,
   "metadata": {
    "collapsed": false
   },
   "outputs": [
    {
     "data": {
      "text/plain": [
       "count    7.411400e+05\n",
       "mean     2.830532e-06\n",
       "std      5.048981e-06\n",
       "min      2.067470e-07\n",
       "25%      2.067470e-07\n",
       "50%      5.632725e-07\n",
       "75%      3.819895e-06\n",
       "max      2.881912e-04\n",
       "Name: cite_rank, dtype: float64"
      ]
     },
     "execution_count": 37,
     "metadata": {},
     "output_type": "execute_result"
    }
   ],
   "source": [
    "# because not all papers from arxiv where in our dataset\n",
    "# the distribution of citerank is slightly different\n",
    "df_merged_pr[lbl_rank].describe()"
   ]
  },
  {
   "cell_type": "code",
   "execution_count": 33,
   "metadata": {
    "collapsed": true
   },
   "outputs": [],
   "source": [
    "#save paper ranks to a file\n",
    "df_paper_ranks = df_merged_pr[[lbl_paper_id, lbl_rank]]\n",
    "df_paper_ranks.to_csv(f_paper_ranks, sep=',', index=False)"
   ]
  },
  {
   "cell_type": "markdown",
   "metadata": {},
   "source": [
    "Merge paper ranks with their inferred topics from clusters."
   ]
  },
  {
   "cell_type": "code",
   "execution_count": 34,
   "metadata": {
    "collapsed": false
   },
   "outputs": [
    {
     "data": {
      "text/html": [
       "<div>\n",
       "<table border=\"1\" class=\"dataframe\">\n",
       "  <thead>\n",
       "    <tr style=\"text-align: right;\">\n",
       "      <th></th>\n",
       "      <th>paper_id</th>\n",
       "      <th>cite_rank</th>\n",
       "      <th>cluster</th>\n",
       "    </tr>\n",
       "  </thead>\n",
       "  <tbody>\n",
       "    <tr>\n",
       "      <th>0</th>\n",
       "      <td>conf/interspeech/PorteleGEKTV03</td>\n",
       "      <td>0.000002</td>\n",
       "      <td>interactive_interaction_mixedreality</td>\n",
       "    </tr>\n",
       "    <tr>\n",
       "      <th>1</th>\n",
       "      <td>conf/interspeech/PorteleGEKTV03</td>\n",
       "      <td>0.000002</td>\n",
       "      <td>interactive_interaction_mixedreality</td>\n",
       "    </tr>\n",
       "    <tr>\n",
       "      <th>2</th>\n",
       "      <td>conf/interspeech/PorteleGEKTV03</td>\n",
       "      <td>0.000002</td>\n",
       "      <td>interactive_interaction_mixedreality</td>\n",
       "    </tr>\n",
       "    <tr>\n",
       "      <th>3</th>\n",
       "      <td>conf/interspeech/PorteleGEKTV03</td>\n",
       "      <td>0.000002</td>\n",
       "      <td>interactive_interaction_mixedreality</td>\n",
       "    </tr>\n",
       "    <tr>\n",
       "      <th>4</th>\n",
       "      <td>conf/interspeech/PorteleGEKTV03</td>\n",
       "      <td>0.000002</td>\n",
       "      <td>interactive_interaction_mixedreality</td>\n",
       "    </tr>\n",
       "  </tbody>\n",
       "</table>\n",
       "</div>"
      ],
      "text/plain": [
       "                          paper_id  cite_rank  \\\n",
       "0  conf/interspeech/PorteleGEKTV03   0.000002   \n",
       "1  conf/interspeech/PorteleGEKTV03   0.000002   \n",
       "2  conf/interspeech/PorteleGEKTV03   0.000002   \n",
       "3  conf/interspeech/PorteleGEKTV03   0.000002   \n",
       "4  conf/interspeech/PorteleGEKTV03   0.000002   \n",
       "\n",
       "                                cluster  \n",
       "0  interactive_interaction_mixedreality  \n",
       "1  interactive_interaction_mixedreality  \n",
       "2  interactive_interaction_mixedreality  \n",
       "3  interactive_interaction_mixedreality  \n",
       "4  interactive_interaction_mixedreality  "
      ]
     },
     "execution_count": 39,
     "metadata": {},
     "output_type": "execute_result"
    }
   ],
   "source": [
    "df_paper_ranks_clusters = pd.merge(df_paper_ranks, df_paper_clusters, on=lbl_paper_id)\n",
    "df_paper_ranks_clusters.head()"
   ]
  },
  {
   "cell_type": "markdown",
   "metadata": {},
   "source": [
    "Now merge with unpacked authors in order to have authors' ranks."
   ]
  },
  {
   "cell_type": "code",
   "execution_count": 35,
   "metadata": {
    "collapsed": false
   },
   "outputs": [
    {
     "data": {
      "text/html": [
       "<div>\n",
       "<table border=\"1\" class=\"dataframe\">\n",
       "  <thead>\n",
       "    <tr style=\"text-align: right;\">\n",
       "      <th></th>\n",
       "      <th>paper_id</th>\n",
       "      <th>author</th>\n",
       "    </tr>\n",
       "  </thead>\n",
       "  <tbody>\n",
       "    <tr>\n",
       "      <th>0</th>\n",
       "      <td>journals/acta/Saxena96</td>\n",
       "      <td>Sanjeev Saxena</td>\n",
       "    </tr>\n",
       "    <tr>\n",
       "      <th>1</th>\n",
       "      <td>journals/acta/Simon83</td>\n",
       "      <td>Hans Ulrich Simon</td>\n",
       "    </tr>\n",
       "    <tr>\n",
       "      <th>2</th>\n",
       "      <td>journals/acta/GoodmanS83</td>\n",
       "      <td>Nathan Goodman</td>\n",
       "    </tr>\n",
       "    <tr>\n",
       "      <th>3</th>\n",
       "      <td>journals/acta/GoodmanS83</td>\n",
       "      <td>Oded Shmueli</td>\n",
       "    </tr>\n",
       "    <tr>\n",
       "      <th>4</th>\n",
       "      <td>journals/acta/Blum82</td>\n",
       "      <td>Norbert Blum</td>\n",
       "    </tr>\n",
       "  </tbody>\n",
       "</table>\n",
       "</div>"
      ],
      "text/plain": [
       "                   paper_id             author\n",
       "0    journals/acta/Saxena96     Sanjeev Saxena\n",
       "1     journals/acta/Simon83  Hans Ulrich Simon\n",
       "2  journals/acta/GoodmanS83     Nathan Goodman\n",
       "3  journals/acta/GoodmanS83       Oded Shmueli\n",
       "4      journals/acta/Blum82       Norbert Blum"
      ]
     },
     "execution_count": 40,
     "metadata": {},
     "output_type": "execute_result"
    }
   ],
   "source": [
    "df_json_by_author.head()"
   ]
  },
  {
   "cell_type": "code",
   "execution_count": 36,
   "metadata": {
    "collapsed": true
   },
   "outputs": [],
   "source": [
    "df_authors_ranks = pd.merge(df_json_by_author, df_paper_ranks_clusters, on=lbl_paper_id)"
   ]
  },
  {
   "cell_type": "code",
   "execution_count": 37,
   "metadata": {
    "collapsed": false
   },
   "outputs": [
    {
     "data": {
      "text/plain": [
       "(310148, 4)"
      ]
     },
     "execution_count": 42,
     "metadata": {},
     "output_type": "execute_result"
    }
   ],
   "source": [
    "df_authors_ranks.shape"
   ]
  },
  {
   "cell_type": "code",
   "execution_count": 38,
   "metadata": {
    "collapsed": false
   },
   "outputs": [
    {
     "data": {
      "text/html": [
       "<div>\n",
       "<table border=\"1\" class=\"dataframe\">\n",
       "  <thead>\n",
       "    <tr style=\"text-align: right;\">\n",
       "      <th></th>\n",
       "      <th>paper_id</th>\n",
       "      <th>author</th>\n",
       "      <th>cite_rank</th>\n",
       "      <th>cluster</th>\n",
       "    </tr>\n",
       "  </thead>\n",
       "  <tbody>\n",
       "    <tr>\n",
       "      <th>0</th>\n",
       "      <td>journals/acta/Mahmoud04a</td>\n",
       "      <td>Hosam M. Mahmoud</td>\n",
       "      <td>0.000002</td>\n",
       "      <td>antichains_graphs_multigraphs</td>\n",
       "    </tr>\n",
       "    <tr>\n",
       "      <th>1</th>\n",
       "      <td>journals/acta/BoassonCN73</td>\n",
       "      <td>Luc Boasson</td>\n",
       "      <td>0.000005</td>\n",
       "      <td>llamada_restent_keinen</td>\n",
       "    </tr>\n",
       "    <tr>\n",
       "      <th>2</th>\n",
       "      <td>journals/acta/BoassonCN73</td>\n",
       "      <td>Luc Boasson</td>\n",
       "      <td>0.000005</td>\n",
       "      <td>llamada_restent_keinen</td>\n",
       "    </tr>\n",
       "    <tr>\n",
       "      <th>3</th>\n",
       "      <td>journals/acta/BoassonCN73</td>\n",
       "      <td>Luc Boasson</td>\n",
       "      <td>0.000005</td>\n",
       "      <td>llamada_restent_keinen</td>\n",
       "    </tr>\n",
       "    <tr>\n",
       "      <th>4</th>\n",
       "      <td>journals/acta/BoassonCN73</td>\n",
       "      <td>J. P. Crestin</td>\n",
       "      <td>0.000005</td>\n",
       "      <td>llamada_restent_keinen</td>\n",
       "    </tr>\n",
       "  </tbody>\n",
       "</table>\n",
       "</div>"
      ],
      "text/plain": [
       "                    paper_id            author  cite_rank  \\\n",
       "0   journals/acta/Mahmoud04a  Hosam M. Mahmoud   0.000002   \n",
       "1  journals/acta/BoassonCN73       Luc Boasson   0.000005   \n",
       "2  journals/acta/BoassonCN73       Luc Boasson   0.000005   \n",
       "3  journals/acta/BoassonCN73       Luc Boasson   0.000005   \n",
       "4  journals/acta/BoassonCN73     J. P. Crestin   0.000005   \n",
       "\n",
       "                         cluster  \n",
       "0  antichains_graphs_multigraphs  \n",
       "1         llamada_restent_keinen  \n",
       "2         llamada_restent_keinen  \n",
       "3         llamada_restent_keinen  \n",
       "4         llamada_restent_keinen  "
      ]
     },
     "execution_count": 43,
     "metadata": {},
     "output_type": "execute_result"
    }
   ],
   "source": [
    "df_authors_ranks.head()"
   ]
  },
  {
   "cell_type": "code",
   "execution_count": 39,
   "metadata": {
    "collapsed": false
   },
   "outputs": [
    {
     "data": {
      "text/html": [
       "<div>\n",
       "<table border=\"1\" class=\"dataframe\">\n",
       "  <thead>\n",
       "    <tr style=\"text-align: right;\">\n",
       "      <th></th>\n",
       "      <th>cite_rank</th>\n",
       "    </tr>\n",
       "  </thead>\n",
       "  <tbody>\n",
       "    <tr>\n",
       "      <th>count</th>\n",
       "      <td>6.949000e+04</td>\n",
       "    </tr>\n",
       "    <tr>\n",
       "      <th>mean</th>\n",
       "      <td>1.461818e-05</td>\n",
       "    </tr>\n",
       "    <tr>\n",
       "      <th>std</th>\n",
       "      <td>6.184222e-05</td>\n",
       "    </tr>\n",
       "    <tr>\n",
       "      <th>min</th>\n",
       "      <td>2.067470e-07</td>\n",
       "    </tr>\n",
       "    <tr>\n",
       "      <th>25%</th>\n",
       "      <td>8.269881e-07</td>\n",
       "    </tr>\n",
       "    <tr>\n",
       "      <th>50%</th>\n",
       "      <td>2.269895e-06</td>\n",
       "    </tr>\n",
       "    <tr>\n",
       "      <th>75%</th>\n",
       "      <td>1.486213e-05</td>\n",
       "    </tr>\n",
       "    <tr>\n",
       "      <th>max</th>\n",
       "      <td>2.158726e-03</td>\n",
       "    </tr>\n",
       "  </tbody>\n",
       "</table>\n",
       "</div>"
      ],
      "text/plain": [
       "          cite_rank\n",
       "count  6.949000e+04\n",
       "mean   1.461818e-05\n",
       "std    6.184222e-05\n",
       "min    2.067470e-07\n",
       "25%    8.269881e-07\n",
       "50%    2.269895e-06\n",
       "75%    1.486213e-05\n",
       "max    2.158726e-03"
      ]
     },
     "execution_count": 44,
     "metadata": {},
     "output_type": "execute_result"
    }
   ],
   "source": [
    "# sum of the citeranks to have a total per author per cluster\n",
    "df_authors_ranks = df_authors_ranks.groupby([lbl_author, lbl_cluster],\n",
    "                                            as_index=False)[lbl_rank].sum()\n",
    "df_authors_ranks.describe()"
   ]
  },
  {
   "cell_type": "code",
   "execution_count": 40,
   "metadata": {
    "collapsed": false
   },
   "outputs": [
    {
     "data": {
      "text/html": [
       "<div>\n",
       "<table border=\"1\" class=\"dataframe\">\n",
       "  <thead>\n",
       "    <tr style=\"text-align: right;\">\n",
       "      <th></th>\n",
       "      <th>author</th>\n",
       "      <th>cluster</th>\n",
       "      <th>cite_rank</th>\n",
       "    </tr>\n",
       "  </thead>\n",
       "  <tbody>\n",
       "    <tr>\n",
       "      <th>0</th>\n",
       "      <td>A Min Tjoa</td>\n",
       "      <td>data_metadata_database</td>\n",
       "      <td>0.000031</td>\n",
       "    </tr>\n",
       "    <tr>\n",
       "      <th>1</th>\n",
       "      <td>A Min Tjoa</td>\n",
       "      <td>educational_elearning_education</td>\n",
       "      <td>0.000001</td>\n",
       "    </tr>\n",
       "    <tr>\n",
       "      <th>2</th>\n",
       "      <td>A Min Tjoa</td>\n",
       "      <td>interactive_interaction_mixedreality</td>\n",
       "      <td>0.000006</td>\n",
       "    </tr>\n",
       "    <tr>\n",
       "      <th>3</th>\n",
       "      <td>A. A. Kuandykov</td>\n",
       "      <td>software_componentbased_enterprise</td>\n",
       "      <td>0.000027</td>\n",
       "    </tr>\n",
       "    <tr>\n",
       "      <th>4</th>\n",
       "      <td>A. A. Maidabino</td>\n",
       "      <td>educational_elearning_education</td>\n",
       "      <td>0.000004</td>\n",
       "    </tr>\n",
       "  </tbody>\n",
       "</table>\n",
       "</div>"
      ],
      "text/plain": [
       "            author                               cluster  cite_rank\n",
       "0       A Min Tjoa                data_metadata_database   0.000031\n",
       "1       A Min Tjoa       educational_elearning_education   0.000001\n",
       "2       A Min Tjoa  interactive_interaction_mixedreality   0.000006\n",
       "3  A. A. Kuandykov    software_componentbased_enterprise   0.000027\n",
       "4  A. A. Maidabino       educational_elearning_education   0.000004"
      ]
     },
     "execution_count": 45,
     "metadata": {},
     "output_type": "execute_result"
    }
   ],
   "source": [
    "df_authors_ranks.head()"
   ]
  },
  {
   "cell_type": "markdown",
   "metadata": {},
   "source": [
    "Merge with aut_kpis"
   ]
  },
  {
   "cell_type": "code",
   "execution_count": 41,
   "metadata": {
    "collapsed": false
   },
   "outputs": [
    {
     "data": {
      "text/html": [
       "<div>\n",
       "<table border=\"1\" class=\"dataframe\">\n",
       "  <thead>\n",
       "    <tr style=\"text-align: right;\">\n",
       "      <th></th>\n",
       "      <th>author</th>\n",
       "      <th>cluster</th>\n",
       "      <th>num_pubs</th>\n",
       "      <th>pub_rate</th>\n",
       "      <th>years_exp</th>\n",
       "      <th>cite_rank</th>\n",
       "    </tr>\n",
       "  </thead>\n",
       "  <tbody>\n",
       "    <tr>\n",
       "      <th>0</th>\n",
       "      <td>(David) Jing Dai</td>\n",
       "      <td>budapest_conference_workshop</td>\n",
       "      <td>1.0</td>\n",
       "      <td>0.333333</td>\n",
       "      <td>1.0</td>\n",
       "      <td>NaN</td>\n",
       "    </tr>\n",
       "    <tr>\n",
       "      <th>1</th>\n",
       "      <td>A Min Tjoa</td>\n",
       "      <td>analysis_methodology_modeling</td>\n",
       "      <td>1.0</td>\n",
       "      <td>0.333333</td>\n",
       "      <td>1.0</td>\n",
       "      <td>NaN</td>\n",
       "    </tr>\n",
       "    <tr>\n",
       "      <th>2</th>\n",
       "      <td>A Min Tjoa</td>\n",
       "      <td>data_metadata_database</td>\n",
       "      <td>6.0</td>\n",
       "      <td>0.333333</td>\n",
       "      <td>21.0</td>\n",
       "      <td>0.000031</td>\n",
       "    </tr>\n",
       "    <tr>\n",
       "      <th>3</th>\n",
       "      <td>A Min Tjoa</td>\n",
       "      <td>educational_elearning_education</td>\n",
       "      <td>2.0</td>\n",
       "      <td>0.333333</td>\n",
       "      <td>11.0</td>\n",
       "      <td>0.000001</td>\n",
       "    </tr>\n",
       "    <tr>\n",
       "      <th>4</th>\n",
       "      <td>A-Long Jin</td>\n",
       "      <td>channel_multiantenna_mimo</td>\n",
       "      <td>1.0</td>\n",
       "      <td>0.333333</td>\n",
       "      <td>1.0</td>\n",
       "      <td>NaN</td>\n",
       "    </tr>\n",
       "  </tbody>\n",
       "</table>\n",
       "</div>"
      ],
      "text/plain": [
       "             author                          cluster  num_pubs  pub_rate  \\\n",
       "0  (David) Jing Dai     budapest_conference_workshop       1.0  0.333333   \n",
       "1        A Min Tjoa    analysis_methodology_modeling       1.0  0.333333   \n",
       "2        A Min Tjoa           data_metadata_database       6.0  0.333333   \n",
       "3        A Min Tjoa  educational_elearning_education       2.0  0.333333   \n",
       "4        A-Long Jin        channel_multiantenna_mimo       1.0  0.333333   \n",
       "\n",
       "   years_exp  cite_rank  \n",
       "0        1.0        NaN  \n",
       "1        1.0        NaN  \n",
       "2       21.0   0.000031  \n",
       "3       11.0   0.000001  \n",
       "4        1.0        NaN  "
      ]
     },
     "execution_count": 46,
     "metadata": {},
     "output_type": "execute_result"
    }
   ],
   "source": [
    "aut_kpis = pd.merge(aut_kpis, df_authors_ranks, how='outer', on=[lbl_author, lbl_cluster])\n",
    "aut_kpis.head()"
   ]
  },
  {
   "cell_type": "code",
   "execution_count": 42,
   "metadata": {
    "collapsed": false
   },
   "outputs": [
    {
     "data": {
      "text/plain": [
       "(310144, 6)"
      ]
     },
     "execution_count": 47,
     "metadata": {},
     "output_type": "execute_result"
    }
   ],
   "source": [
    "aut_kpis.shape"
   ]
  },
  {
   "cell_type": "markdown",
   "metadata": {},
   "source": [
    "Fill null values with zero as they have zero score."
   ]
  },
  {
   "cell_type": "code",
   "execution_count": 43,
   "metadata": {
    "collapsed": true
   },
   "outputs": [],
   "source": [
    "aut_kpis.fillna(0, inplace=True)"
   ]
  },
  {
   "cell_type": "markdown",
   "metadata": {},
   "source": [
    "Rescale ranks between 0 and 1"
   ]
  },
  {
   "cell_type": "code",
   "execution_count": 44,
   "metadata": {
    "collapsed": false
   },
   "outputs": [
    {
     "data": {
      "text/html": [
       "<div>\n",
       "<table border=\"1\" class=\"dataframe\">\n",
       "  <thead>\n",
       "    <tr style=\"text-align: right;\">\n",
       "      <th></th>\n",
       "      <th>author</th>\n",
       "      <th>cluster</th>\n",
       "      <th>num_pubs</th>\n",
       "      <th>pub_rate</th>\n",
       "      <th>years_exp</th>\n",
       "      <th>cite_rank</th>\n",
       "    </tr>\n",
       "  </thead>\n",
       "  <tbody>\n",
       "    <tr>\n",
       "      <th>0</th>\n",
       "      <td>(David) Jing Dai</td>\n",
       "      <td>budapest_conference_workshop</td>\n",
       "      <td>0.014706</td>\n",
       "      <td>0.047619</td>\n",
       "      <td>0.018519</td>\n",
       "      <td>0.000000</td>\n",
       "    </tr>\n",
       "    <tr>\n",
       "      <th>1</th>\n",
       "      <td>A Min Tjoa</td>\n",
       "      <td>analysis_methodology_modeling</td>\n",
       "      <td>0.014706</td>\n",
       "      <td>0.047619</td>\n",
       "      <td>0.018519</td>\n",
       "      <td>0.000000</td>\n",
       "    </tr>\n",
       "    <tr>\n",
       "      <th>2</th>\n",
       "      <td>A Min Tjoa</td>\n",
       "      <td>data_metadata_database</td>\n",
       "      <td>0.088235</td>\n",
       "      <td>0.047619</td>\n",
       "      <td>0.388889</td>\n",
       "      <td>0.014490</td>\n",
       "    </tr>\n",
       "    <tr>\n",
       "      <th>3</th>\n",
       "      <td>A Min Tjoa</td>\n",
       "      <td>educational_elearning_education</td>\n",
       "      <td>0.029412</td>\n",
       "      <td>0.047619</td>\n",
       "      <td>0.203704</td>\n",
       "      <td>0.000479</td>\n",
       "    </tr>\n",
       "    <tr>\n",
       "      <th>4</th>\n",
       "      <td>A-Long Jin</td>\n",
       "      <td>channel_multiantenna_mimo</td>\n",
       "      <td>0.014706</td>\n",
       "      <td>0.047619</td>\n",
       "      <td>0.018519</td>\n",
       "      <td>0.000000</td>\n",
       "    </tr>\n",
       "  </tbody>\n",
       "</table>\n",
       "</div>"
      ],
      "text/plain": [
       "             author                          cluster  num_pubs  pub_rate  \\\n",
       "0  (David) Jing Dai     budapest_conference_workshop  0.014706  0.047619   \n",
       "1        A Min Tjoa    analysis_methodology_modeling  0.014706  0.047619   \n",
       "2        A Min Tjoa           data_metadata_database  0.088235  0.047619   \n",
       "3        A Min Tjoa  educational_elearning_education  0.029412  0.047619   \n",
       "4        A-Long Jin        channel_multiantenna_mimo  0.014706  0.047619   \n",
       "\n",
       "   years_exp  cite_rank  \n",
       "0   0.018519   0.000000  \n",
       "1   0.018519   0.000000  \n",
       "2   0.388889   0.014490  \n",
       "3   0.203704   0.000479  \n",
       "4   0.018519   0.000000  "
      ]
     },
     "execution_count": 49,
     "metadata": {},
     "output_type": "execute_result"
    }
   ],
   "source": [
    "scaler = MinMaxScaler()\n",
    "columns_to_scale = [col for col in aut_kpis.columns if col not in [lbl_author, lbl_cluster]]\n",
    "aut_kpis[columns_to_scale] = scaler.fit_transform(aut_kpis[columns_to_scale])\n",
    "aut_kpis.head()"
   ]
  },
  {
   "cell_type": "code",
   "execution_count": 45,
   "metadata": {
    "collapsed": false
   },
   "outputs": [
    {
     "data": {
      "text/html": [
       "<div>\n",
       "<table border=\"1\" class=\"dataframe\">\n",
       "  <thead>\n",
       "    <tr style=\"text-align: right;\">\n",
       "      <th></th>\n",
       "      <th>num_pubs</th>\n",
       "      <th>pub_rate</th>\n",
       "      <th>years_exp</th>\n",
       "      <th>cite_rank</th>\n",
       "    </tr>\n",
       "  </thead>\n",
       "  <tbody>\n",
       "    <tr>\n",
       "      <th>count</th>\n",
       "      <td>310144.000000</td>\n",
       "      <td>310144.000000</td>\n",
       "      <td>310144.000000</td>\n",
       "      <td>310144.000000</td>\n",
       "    </tr>\n",
       "    <tr>\n",
       "      <th>mean</th>\n",
       "      <td>0.019449</td>\n",
       "      <td>0.045386</td>\n",
       "      <td>0.042286</td>\n",
       "      <td>0.001517</td>\n",
       "    </tr>\n",
       "    <tr>\n",
       "      <th>std</th>\n",
       "      <td>0.023385</td>\n",
       "      <td>0.029274</td>\n",
       "      <td>0.074980</td>\n",
       "      <td>0.013851</td>\n",
       "    </tr>\n",
       "    <tr>\n",
       "      <th>min</th>\n",
       "      <td>0.000000</td>\n",
       "      <td>0.000000</td>\n",
       "      <td>0.000000</td>\n",
       "      <td>0.000000</td>\n",
       "    </tr>\n",
       "    <tr>\n",
       "      <th>25%</th>\n",
       "      <td>0.014706</td>\n",
       "      <td>0.047619</td>\n",
       "      <td>0.018519</td>\n",
       "      <td>0.000000</td>\n",
       "    </tr>\n",
       "    <tr>\n",
       "      <th>50%</th>\n",
       "      <td>0.014706</td>\n",
       "      <td>0.047619</td>\n",
       "      <td>0.018519</td>\n",
       "      <td>0.000000</td>\n",
       "    </tr>\n",
       "    <tr>\n",
       "      <th>75%</th>\n",
       "      <td>0.014706</td>\n",
       "      <td>0.047619</td>\n",
       "      <td>0.018519</td>\n",
       "      <td>0.000000</td>\n",
       "    </tr>\n",
       "    <tr>\n",
       "      <th>max</th>\n",
       "      <td>1.000000</td>\n",
       "      <td>1.000000</td>\n",
       "      <td>1.000000</td>\n",
       "      <td>1.000000</td>\n",
       "    </tr>\n",
       "  </tbody>\n",
       "</table>\n",
       "</div>"
      ],
      "text/plain": [
       "            num_pubs       pub_rate      years_exp      cite_rank\n",
       "count  310144.000000  310144.000000  310144.000000  310144.000000\n",
       "mean        0.019449       0.045386       0.042286       0.001517\n",
       "std         0.023385       0.029274       0.074980       0.013851\n",
       "min         0.000000       0.000000       0.000000       0.000000\n",
       "25%         0.014706       0.047619       0.018519       0.000000\n",
       "50%         0.014706       0.047619       0.018519       0.000000\n",
       "75%         0.014706       0.047619       0.018519       0.000000\n",
       "max         1.000000       1.000000       1.000000       1.000000"
      ]
     },
     "execution_count": 50,
     "metadata": {},
     "output_type": "execute_result"
    }
   ],
   "source": [
    "aut_kpis.describe()"
   ]
  },
  {
   "cell_type": "code",
   "execution_count": 46,
   "metadata": {
    "collapsed": false
   },
   "outputs": [
    {
     "data": {
      "text/plain": [
       "273278    1.0\n",
       "284529    1.0\n",
       "306144    1.0\n",
       "308445    1.0\n",
       "273186    1.0\n",
       "286723    1.0\n",
       "270395    1.0\n",
       "262474    1.0\n",
       "285288    1.0\n",
       "271750    1.0\n",
       "Name: cite_rank, dtype: float64"
      ]
     },
     "execution_count": 52,
     "metadata": {},
     "output_type": "execute_result"
    }
   ],
   "source": [
    "#Overview of the highest ten cited authors\n",
    "aut_kpis[lbl_rank].sort_values(ascending=False).head(10)"
   ]
  },
  {
   "cell_type": "code",
   "execution_count": 47,
   "metadata": {
    "collapsed": true
   },
   "outputs": [],
   "source": [
    "#save the author ranks to a file\n",
    "f_author_ranks = path + 'author_ranks.csv'\n",
    "aut_kpis.to_csv(f_author_ranks, sep=',', index=False)"
   ]
  }
 ],
 "metadata": {
  "kernelspec": {
   "display_name": "Python [default]",
   "language": "python",
   "name": "python2"
  },
  "language_info": {
   "codemirror_mode": {
    "name": "ipython",
    "version": 2
   },
   "file_extension": ".py",
   "mimetype": "text/x-python",
   "name": "python",
   "nbconvert_exporter": "python",
   "pygments_lexer": "ipython2",
   "version": "2.7.13"
  }
 },
 "nbformat": 4,
 "nbformat_minor": 2
}
