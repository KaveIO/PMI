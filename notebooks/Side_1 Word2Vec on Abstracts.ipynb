{
 "cells": [
  {
   "cell_type": "markdown",
   "metadata": {},
   "source": [
    "# Word2Vec Model on Abstracts from Citation Network Dataset"
   ]
  },
  {
   "cell_type": "code",
   "execution_count": 1,
   "metadata": {
    "collapsed": false
   },
   "outputs": [],
   "source": [
    "from nltk.corpus import stopwords\n",
    "import pandas as pd\n",
    "import string\n",
    "\n",
    "import warnings\n",
    "warnings.filterwarnings(action='ignore', category=UserWarning, module='gensim') #ignoring the gensim warning related to the OS\n",
    "\n",
    "from gensim.models import Word2Vec"
   ]
  },
  {
   "cell_type": "code",
   "execution_count": 2,
   "metadata": {
    "collapsed": true
   },
   "outputs": [],
   "source": [
    "# Clean text function\n",
    "def clean_text(text):\n",
    "    def replace_punctuation(sentence):\n",
    "        if(pd.isnull(sentence)):\n",
    "            return \"\"\n",
    "        punctuation = string.punctuation\n",
    "        for p in punctuation:\n",
    "            sentence = sentence.replace(p, '')\n",
    "        return sentence\n",
    "    # Remove punctuation\n",
    "    text = text.apply(replace_punctuation)\n",
    "    # Remove numbers\n",
    "    text = text.apply(lambda x: ''.join([c for c in x if not c.isdigit()]))\n",
    "    # Remove words of length <= 1\n",
    "    text = text.apply(lambda x: ' '.join([word for word in x.split() if len(word) > 1]))\n",
    "    # Convert to lower case\n",
    "    text = text.apply(lambda x: x.lower() if pd.notnull(x) else '')\n",
    "    # Remove stopwords\n",
    "    text = text.apply(lambda x: ' '.join([xi for xi in x.split() if xi not in stopw]))\n",
    "    \n",
    "    return text"
   ]
  },
  {
   "cell_type": "code",
   "execution_count": 3,
   "metadata": {
    "collapsed": false
   },
   "outputs": [],
   "source": [
    "json_cit_parts = range(4)\n",
    "df_json_cit = pd.DataFrame()\n",
    "for i in json_cit_parts:\n",
    "    f_json_cit = path + 'dblp-ref/dblp-ref-%d.json' % i\n",
    "    df_json_cit = pd.concat([df_json_cit,\n",
    "                             pd.read_json(f_json_cit, lines=True)])"
   ]
  },
  {
   "cell_type": "code",
   "execution_count": 4,
   "metadata": {
    "collapsed": false
   },
   "outputs": [
    {
     "data": {
      "text/plain": [
       "(3079007, 7)"
      ]
     },
     "execution_count": 6,
     "metadata": {},
     "output_type": "execute_result"
    }
   ],
   "source": [
    "df_json_cit.shape"
   ]
  },
  {
   "cell_type": "code",
   "execution_count": 5,
   "metadata": {
    "collapsed": false
   },
   "outputs": [
    {
     "data": {
      "text/html": [
       "<div>\n",
       "<table border=\"1\" class=\"dataframe\">\n",
       "  <thead>\n",
       "    <tr style=\"text-align: right;\">\n",
       "      <th></th>\n",
       "      <th>abstract</th>\n",
       "      <th>authors</th>\n",
       "      <th>id</th>\n",
       "      <th>references</th>\n",
       "      <th>title</th>\n",
       "      <th>venue</th>\n",
       "      <th>year</th>\n",
       "    </tr>\n",
       "  </thead>\n",
       "  <tbody>\n",
       "    <tr>\n",
       "      <th>0</th>\n",
       "      <td>The purpose of this study is to develop a lear...</td>\n",
       "      <td>[Makoto Satoh, Ryo Muramatsu, Mizue Kayama, Ka...</td>\n",
       "      <td>00127ee2-cb05-48ce-bc49-9de556b93346</td>\n",
       "      <td>[51c7e02e-f5ed-431a-8cf5-f761f266d4be, 69b625b...</td>\n",
       "      <td>Preliminary Design of a Network Protocol Learn...</td>\n",
       "      <td>international conference on human-computer int...</td>\n",
       "      <td>2013</td>\n",
       "    </tr>\n",
       "    <tr>\n",
       "      <th>1</th>\n",
       "      <td>This paper describes the design and implementa...</td>\n",
       "      <td>[Gareth Beale, Graeme Earl]</td>\n",
       "      <td>001c58d3-26ad-46b3-ab3a-c1e557d16821</td>\n",
       "      <td>[10482dd3-4642-4193-842f-85f3b70fcf65, 3133714...</td>\n",
       "      <td>A methodology for the physically accurate visu...</td>\n",
       "      <td>visual analytics science and technology</td>\n",
       "      <td>2011</td>\n",
       "    </tr>\n",
       "    <tr>\n",
       "      <th>2</th>\n",
       "      <td>This article applied GARCH model instead AR or...</td>\n",
       "      <td>[Altaf Hossain, Faisal Zaman, Mohammed Nasser,...</td>\n",
       "      <td>001c8744-73c4-4b04-9364-22d31a10dbf1</td>\n",
       "      <td>[2d84c0f2-e656-4ce7-b018-90eda1c132fe, a083a1b...</td>\n",
       "      <td>Comparison of GARCH, Neural Network and Suppor...</td>\n",
       "      <td>pattern recognition and machine intelligence</td>\n",
       "      <td>2009</td>\n",
       "    </tr>\n",
       "    <tr>\n",
       "      <th>3</th>\n",
       "      <td>NaN</td>\n",
       "      <td>[Jea-Bum Park, Byungmok Kim, Jian Shen, Sun-Yo...</td>\n",
       "      <td>00338203-9eb3-40c5-9f31-cbac73a519ec</td>\n",
       "      <td>[8c78e4b0-632b-4293-b491-85b1976675e6, 9cdc54f...</td>\n",
       "      <td>Development of Remote Monitoring and Control D...</td>\n",
       "      <td></td>\n",
       "      <td>2011</td>\n",
       "    </tr>\n",
       "    <tr>\n",
       "      <th>4</th>\n",
       "      <td>NaN</td>\n",
       "      <td>[Giovanna Guerrini, Isabella Merlo]</td>\n",
       "      <td>0040b022-1472-4f70-a753-74832df65266</td>\n",
       "      <td>NaN</td>\n",
       "      <td>Reasonig about Set-Oriented Methods in Object ...</td>\n",
       "      <td></td>\n",
       "      <td>1998</td>\n",
       "    </tr>\n",
       "  </tbody>\n",
       "</table>\n",
       "</div>"
      ],
      "text/plain": [
       "                                            abstract  \\\n",
       "0  The purpose of this study is to develop a lear...   \n",
       "1  This paper describes the design and implementa...   \n",
       "2  This article applied GARCH model instead AR or...   \n",
       "3                                                NaN   \n",
       "4                                                NaN   \n",
       "\n",
       "                                             authors  \\\n",
       "0  [Makoto Satoh, Ryo Muramatsu, Mizue Kayama, Ka...   \n",
       "1                        [Gareth Beale, Graeme Earl]   \n",
       "2  [Altaf Hossain, Faisal Zaman, Mohammed Nasser,...   \n",
       "3  [Jea-Bum Park, Byungmok Kim, Jian Shen, Sun-Yo...   \n",
       "4                [Giovanna Guerrini, Isabella Merlo]   \n",
       "\n",
       "                                     id  \\\n",
       "0  00127ee2-cb05-48ce-bc49-9de556b93346   \n",
       "1  001c58d3-26ad-46b3-ab3a-c1e557d16821   \n",
       "2  001c8744-73c4-4b04-9364-22d31a10dbf1   \n",
       "3  00338203-9eb3-40c5-9f31-cbac73a519ec   \n",
       "4  0040b022-1472-4f70-a753-74832df65266   \n",
       "\n",
       "                                          references  \\\n",
       "0  [51c7e02e-f5ed-431a-8cf5-f761f266d4be, 69b625b...   \n",
       "1  [10482dd3-4642-4193-842f-85f3b70fcf65, 3133714...   \n",
       "2  [2d84c0f2-e656-4ce7-b018-90eda1c132fe, a083a1b...   \n",
       "3  [8c78e4b0-632b-4293-b491-85b1976675e6, 9cdc54f...   \n",
       "4                                                NaN   \n",
       "\n",
       "                                               title  \\\n",
       "0  Preliminary Design of a Network Protocol Learn...   \n",
       "1  A methodology for the physically accurate visu...   \n",
       "2  Comparison of GARCH, Neural Network and Suppor...   \n",
       "3  Development of Remote Monitoring and Control D...   \n",
       "4  Reasonig about Set-Oriented Methods in Object ...   \n",
       "\n",
       "                                               venue  year  \n",
       "0  international conference on human-computer int...  2013  \n",
       "1            visual analytics science and technology  2011  \n",
       "2       pattern recognition and machine intelligence  2009  \n",
       "3                                                     2011  \n",
       "4                                                     1998  "
      ]
     },
     "execution_count": 7,
     "metadata": {},
     "output_type": "execute_result"
    }
   ],
   "source": [
    "df_json_cit.head()"
   ]
  },
  {
   "cell_type": "code",
   "execution_count": 6,
   "metadata": {
    "collapsed": true
   },
   "outputs": [],
   "source": [
    "df_json_cit_sample = df_json_cit.sample(frac=1)"
   ]
  },
  {
   "cell_type": "code",
   "execution_count": 7,
   "metadata": {
    "collapsed": false
   },
   "outputs": [],
   "source": [
    "words_train = clean_text(df_json_cit_sample['abstract']) \\\n",
    "                .apply(lambda line: line.split() if pd.notnull(line) else [])"
   ]
  },
  {
   "cell_type": "code",
   "execution_count": 8,
   "metadata": {
    "collapsed": true
   },
   "outputs": [],
   "source": [
    "vec_len = 200"
   ]
  },
  {
   "cell_type": "code",
   "execution_count": 9,
   "metadata": {
    "collapsed": true
   },
   "outputs": [],
   "source": [
    "model = Word2Vec(words_train.values, workers=8, size=vec_len)"
   ]
  },
  {
   "cell_type": "code",
   "execution_count": 10,
   "metadata": {
    "collapsed": false
   },
   "outputs": [
    {
     "data": {
      "text/plain": [
       "[(u'networks', 0.8393702507019043),\n",
       " (u'subnetwork', 0.5993532538414001),\n",
       " (u'subnet', 0.5914520025253296),\n",
       " (u'internetwork', 0.5871062874794006),\n",
       " (u'network\\u2019s', 0.5801593065261841),\n",
       " (u'endhosts', 0.5662047863006592),\n",
       " (u'subnets', 0.5600781440734863),\n",
       " (u'network\\u201d', 0.5502232313156128),\n",
       " (u'networking', 0.5386593341827393),\n",
       " (u'backbone', 0.5377504825592041)]"
      ]
     },
     "execution_count": 12,
     "metadata": {},
     "output_type": "execute_result"
    }
   ],
   "source": [
    "model.wv.most_similar('network', topn=10)"
   ]
  },
  {
   "cell_type": "code",
   "execution_count": 11,
   "metadata": {
    "collapsed": false
   },
   "outputs": [
    {
     "data": {
      "text/plain": [
       "[(u'method', 0.8145387172698975),\n",
       " (u'algorithms', 0.7467148303985596),\n",
       " (u'technique', 0.744985818862915),\n",
       " (u'scheme', 0.736602783203125),\n",
       " (u'procedure', 0.7336603403091431),\n",
       " (u'approach', 0.6784576177597046),\n",
       " (u'strategy', 0.6749469041824341),\n",
       " (u'algorithmthe', 0.6109606623649597),\n",
       " (u'algorithmwe', 0.5741111636161804),\n",
       " (u'algorithm\\u201d', 0.5737768411636353)]"
      ]
     },
     "execution_count": 13,
     "metadata": {},
     "output_type": "execute_result"
    }
   ],
   "source": [
    "model.wv.most_similar('algorithm', topn=10)"
   ]
  },
  {
   "cell_type": "code",
   "execution_count": 12,
   "metadata": {
    "collapsed": false
   },
   "outputs": [
    {
     "data": {
      "text/plain": [
       "[(u'operate', 0.5807948708534241),\n",
       " (u'unixlike', 0.5556555986404419),\n",
       " (u'operated', 0.5468459129333496),\n",
       " (u'oses', 0.5337443351745605),\n",
       " (u'unixbased', 0.5104660987854004),\n",
       " (u'operation', 0.5023017525672913),\n",
       " (u'solaris', 0.5005874633789062),\n",
       " (u'operational', 0.4986445903778076),\n",
       " (u'os', 0.4885430932044983),\n",
       " (u'rtai', 0.48448365926742554)]"
      ]
     },
     "execution_count": 14,
     "metadata": {},
     "output_type": "execute_result"
    }
   ],
   "source": [
    "model.wv.most_similar('operating', topn=10)"
   ]
  },
  {
   "cell_type": "code",
   "execution_count": 13,
   "metadata": {
    "collapsed": false
   },
   "outputs": [
    {
     "data": {
      "text/plain": [
       "[(u'sciences', 0.8066760897636414),\n",
       " (u'science\\u201d', 0.7324774265289307),\n",
       " (u'scientists', 0.6917772889137268),\n",
       " (u'informatics', 0.6285247802734375),\n",
       " (u'scienceengineering', 0.6193199157714844),\n",
       " (u'scientist', 0.6017591953277588),\n",
       " (u'scientific', 0.5988705158233643),\n",
       " (u'anthropology', 0.593280553817749),\n",
       " (u'clubhouse', 0.5872084498405457),\n",
       " (u'olympiad', 0.5853327512741089)]"
      ]
     },
     "execution_count": 15,
     "metadata": {},
     "output_type": "execute_result"
    }
   ],
   "source": [
    "model.wv.most_similar('science', topn=10)"
   ]
  },
  {
   "cell_type": "code",
   "execution_count": 14,
   "metadata": {
    "collapsed": false
   },
   "outputs": [
    {
     "data": {
      "text/plain": [
       "[(u'paper', 0.9212037324905396),\n",
       " (u'chapter', 0.7979187965393066),\n",
       " (u'thispaper', 0.7398337721824646),\n",
       " (u'manuscript', 0.7245320677757263),\n",
       " (u'poster', 0.6871957182884216),\n",
       " (u'thesis', 0.686647891998291),\n",
       " (u'dissertation', 0.6739978790283203),\n",
       " (u'springerbrief', 0.6531702876091003),\n",
       " (u'work', 0.6530567407608032),\n",
       " (u'essay', 0.6500864028930664)]"
      ]
     },
     "execution_count": 16,
     "metadata": {},
     "output_type": "execute_result"
    }
   ],
   "source": [
    "model.wv.most_similar('article')"
   ]
  },
  {
   "cell_type": "markdown",
   "metadata": {},
   "source": [
    "Serialize trained model"
   ]
  },
  {
   "cell_type": "code",
   "execution_count": 15,
   "metadata": {
    "collapsed": true
   },
   "outputs": [],
   "source": [
    "from time import time"
   ]
  },
  {
   "cell_type": "code",
   "execution_count": 16,
   "metadata": {
    "collapsed": false
   },
   "outputs": [],
   "source": [
    "dir_models = path + 'word2vec_models/'\n",
    "f_last_model = dir_models + 'abstract_model_%d' % time()\n",
    "model.save(f_last_model)"
   ]
  }
 ],
 "metadata": {
  "kernelspec": {
   "display_name": "Python [default]",
   "language": "python",
   "name": "python2"
  },
  "language_info": {
   "codemirror_mode": {
    "name": "ipython",
    "version": 2
   },
   "file_extension": ".py",
   "mimetype": "text/x-python",
   "name": "python",
   "nbconvert_exporter": "python",
   "pygments_lexer": "ipython2",
   "version": "2.7.13"
  }
 },
 "nbformat": 4,
 "nbformat_minor": 2
}
