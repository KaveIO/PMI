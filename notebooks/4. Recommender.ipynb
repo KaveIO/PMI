{
 "cells": [
  {
   "cell_type": "markdown",
   "metadata": {},
   "source": [
    "# 1. Initialize and import libraries"
   ]
  },
  {
   "cell_type": "code",
   "execution_count": 1,
   "metadata": {
    "collapsed": false
   },
   "outputs": [],
   "source": [
    "import pandas as pd\n",
    "import numpy as np\n",
    "import networkx as nx\n",
    "import sys\n",
    "from sklearn.preprocessing import MinMaxScaler\n",
    "\n",
    "import warnings\n",
    "warnings.filterwarnings('ignore') "
   ]
  },
  {
   "cell_type": "code",
   "execution_count": 2,
   "metadata": {
    "collapsed": false
   },
   "outputs": [],
   "source": [
    "sys.path.insert(0, 'pmi_utils')"
   ]
  },
  {
   "cell_type": "code",
   "execution_count": 3,
   "metadata": {
    "collapsed": false
   },
   "outputs": [],
   "source": [
    "import shared_variables\n",
    "from shared_variables import *"
   ]
  },
  {
   "cell_type": "code",
   "execution_count": 4,
   "metadata": {
    "collapsed": false
   },
   "outputs": [],
   "source": [
    "shared_variables = reload(shared_variables)"
   ]
  },
  {
   "cell_type": "markdown",
   "metadata": {},
   "source": [
    "# 2. Load mentor and mentee data"
   ]
  },
  {
   "cell_type": "code",
   "execution_count": 5,
   "metadata": {
    "collapsed": true
   },
   "outputs": [],
   "source": [
    "# Pick a subset of mentees to analyze from the dblp authors\n",
    "def load_from_author_data():\n",
    "    df_mentee_prefs = pd.read_csv(f_mentee_prefs_dblp_data, sep=',')\n",
    "    df_mentee_topic_prefs = pd.read_csv(f_mentee_topic_prefs_dblp_data)\n",
    "    return df_mentee_prefs, df_mentee_topic_prefs"
   ]
  },
  {
   "cell_type": "code",
   "execution_count": 6,
   "metadata": {
    "collapsed": true
   },
   "outputs": [],
   "source": [
    "def load_input_mentees(from_file=True):\n",
    "    if from_file:\n",
    "        try:\n",
    "            # Load mentees preferences over mentors' kpis\n",
    "            df_mentee_prefs = pd.read_excel(f_mentee_prefs_excel, sheetname=[mentee_prefs_page,\n",
    "                                                                             mentee_topic_prefs_page])\n",
    "            df_mentee_topic_prefs = df_mentee_prefs[mentee_topic_prefs_page]\n",
    "            df_mentee_prefs = df_mentee_prefs[mentee_prefs_page]\n",
    "            \n",
    "            return df_mentee_prefs, df_mentee_topic_prefs\n",
    "        except:\n",
    "            return load_from_author_data()\n",
    "    return load_from_author_data()"
   ]
  },
  {
   "cell_type": "code",
   "execution_count": 7,
   "metadata": {
    "collapsed": false,
    "scrolled": true
   },
   "outputs": [],
   "source": [
    "df_mentee_prefs, df_mentee_topic_prefs = load_input_mentees()"
   ]
  },
  {
   "cell_type": "code",
   "execution_count": 8,
   "metadata": {
    "collapsed": false
   },
   "outputs": [
    {
     "data": {
      "text/html": [
       "<div>\n",
       "<table border=\"1\" class=\"dataframe\">\n",
       "  <thead>\n",
       "    <tr style=\"text-align: right;\">\n",
       "      <th></th>\n",
       "      <th>mentee</th>\n",
       "      <th>num_pubs_pref</th>\n",
       "      <th>pub_rate_pref</th>\n",
       "      <th>years_exp_pref</th>\n",
       "      <th>cite_rank_pref</th>\n",
       "    </tr>\n",
       "  </thead>\n",
       "  <tbody>\n",
       "    <tr>\n",
       "      <th>0</th>\n",
       "      <td>A. Einstein</td>\n",
       "      <td>0.011097</td>\n",
       "      <td>0.619665</td>\n",
       "      <td>0.398425</td>\n",
       "      <td>0.496162</td>\n",
       "    </tr>\n",
       "    <tr>\n",
       "      <th>1</th>\n",
       "      <td>J. Smith</td>\n",
       "      <td>0.866261</td>\n",
       "      <td>0.726914</td>\n",
       "      <td>0.877906</td>\n",
       "      <td>0.553403</td>\n",
       "    </tr>\n",
       "    <tr>\n",
       "      <th>2</th>\n",
       "      <td>E. Priesley</td>\n",
       "      <td>0.136490</td>\n",
       "      <td>0.148647</td>\n",
       "      <td>0.594188</td>\n",
       "      <td>0.465706</td>\n",
       "    </tr>\n",
       "    <tr>\n",
       "      <th>3</th>\n",
       "      <td>B. Gates</td>\n",
       "      <td>0.359991</td>\n",
       "      <td>0.036693</td>\n",
       "      <td>0.868773</td>\n",
       "      <td>0.928226</td>\n",
       "    </tr>\n",
       "    <tr>\n",
       "      <th>4</th>\n",
       "      <td>J. Caesar</td>\n",
       "      <td>0.510581</td>\n",
       "      <td>0.761034</td>\n",
       "      <td>0.125807</td>\n",
       "      <td>0.059358</td>\n",
       "    </tr>\n",
       "  </tbody>\n",
       "</table>\n",
       "</div>"
      ],
      "text/plain": [
       "        mentee  num_pubs_pref  pub_rate_pref  years_exp_pref  cite_rank_pref\n",
       "0  A. Einstein       0.011097       0.619665        0.398425        0.496162\n",
       "1     J. Smith       0.866261       0.726914        0.877906        0.553403\n",
       "2  E. Priesley       0.136490       0.148647        0.594188        0.465706\n",
       "3     B. Gates       0.359991       0.036693        0.868773        0.928226\n",
       "4    J. Caesar       0.510581       0.761034        0.125807        0.059358"
      ]
     },
     "execution_count": 8,
     "metadata": {},
     "output_type": "execute_result"
    }
   ],
   "source": [
    "df_mentee_prefs.head()"
   ]
  },
  {
   "cell_type": "code",
   "execution_count": 9,
   "metadata": {
    "collapsed": false
   },
   "outputs": [
    {
     "data": {
      "text/html": [
       "<div>\n",
       "<table border=\"1\" class=\"dataframe\">\n",
       "  <thead>\n",
       "    <tr style=\"text-align: right;\">\n",
       "      <th></th>\n",
       "      <th>mentee</th>\n",
       "      <th>cluster</th>\n",
       "      <th>cluster_pref</th>\n",
       "    </tr>\n",
       "  </thead>\n",
       "  <tbody>\n",
       "    <tr>\n",
       "      <th>0</th>\n",
       "      <td>A. Einstein</td>\n",
       "      <td>learning_learner_metalearning</td>\n",
       "      <td>0.740571</td>\n",
       "    </tr>\n",
       "    <tr>\n",
       "      <th>1</th>\n",
       "      <td>A. Einstein</td>\n",
       "      <td>secure_encryption_authentication</td>\n",
       "      <td>0.290575</td>\n",
       "    </tr>\n",
       "    <tr>\n",
       "      <th>2</th>\n",
       "      <td>A. Einstein</td>\n",
       "      <td>robot_robotic_endeffectors</td>\n",
       "      <td>0.119066</td>\n",
       "    </tr>\n",
       "    <tr>\n",
       "      <th>3</th>\n",
       "      <td>J. Smith</td>\n",
       "      <td>heuristic_algorithm_algorithms</td>\n",
       "      <td>0.703593</td>\n",
       "    </tr>\n",
       "    <tr>\n",
       "      <th>4</th>\n",
       "      <td>J. Smith</td>\n",
       "      <td>specification_declarative_abstractions</td>\n",
       "      <td>0.891680</td>\n",
       "    </tr>\n",
       "  </tbody>\n",
       "</table>\n",
       "</div>"
      ],
      "text/plain": [
       "        mentee                                 cluster  cluster_pref\n",
       "0  A. Einstein           learning_learner_metalearning      0.740571\n",
       "1  A. Einstein        secure_encryption_authentication      0.290575\n",
       "2  A. Einstein              robot_robotic_endeffectors      0.119066\n",
       "3     J. Smith          heuristic_algorithm_algorithms      0.703593\n",
       "4     J. Smith  specification_declarative_abstractions      0.891680"
      ]
     },
     "execution_count": 9,
     "metadata": {},
     "output_type": "execute_result"
    }
   ],
   "source": [
    "df_mentee_topic_prefs.head()"
   ]
  },
  {
   "cell_type": "code",
   "execution_count": 10,
   "metadata": {
    "collapsed": true
   },
   "outputs": [],
   "source": [
    "def as_probability_distribution(values):\n",
    "    values_sum = sum(values)\n",
    "    return [1. * v / values_sum for v in values]"
   ]
  },
  {
   "cell_type": "code",
   "execution_count": 11,
   "metadata": {
    "collapsed": true
   },
   "outputs": [],
   "source": [
    "# Rescale values on the 4 columns as probability distribution\n",
    "involved_cols = [lbl_num_pubs_pref,\n",
    "                 lbl_pub_rate_pref,\n",
    "                 lbl_years_exp_pref,\n",
    "                 lbl_rank_pref]\n",
    "df_mentee_prefs[involved_cols] = df_mentee_prefs[involved_cols] \\\n",
    "                                    .apply(as_probability_distribution, axis=1)"
   ]
  },
  {
   "cell_type": "code",
   "execution_count": 12,
   "metadata": {
    "collapsed": false
   },
   "outputs": [
    {
     "data": {
      "text/html": [
       "<div>\n",
       "<table border=\"1\" class=\"dataframe\">\n",
       "  <thead>\n",
       "    <tr style=\"text-align: right;\">\n",
       "      <th></th>\n",
       "      <th>mentee</th>\n",
       "      <th>num_pubs_pref</th>\n",
       "      <th>pub_rate_pref</th>\n",
       "      <th>years_exp_pref</th>\n",
       "      <th>cite_rank_pref</th>\n",
       "    </tr>\n",
       "  </thead>\n",
       "  <tbody>\n",
       "    <tr>\n",
       "      <th>0</th>\n",
       "      <td>A. Einstein</td>\n",
       "      <td>0.007275</td>\n",
       "      <td>0.406245</td>\n",
       "      <td>0.261203</td>\n",
       "      <td>0.325278</td>\n",
       "    </tr>\n",
       "    <tr>\n",
       "      <th>1</th>\n",
       "      <td>J. Smith</td>\n",
       "      <td>0.286416</td>\n",
       "      <td>0.240343</td>\n",
       "      <td>0.290266</td>\n",
       "      <td>0.182974</td>\n",
       "    </tr>\n",
       "    <tr>\n",
       "      <th>2</th>\n",
       "      <td>E. Priesley</td>\n",
       "      <td>0.101477</td>\n",
       "      <td>0.110515</td>\n",
       "      <td>0.441765</td>\n",
       "      <td>0.346242</td>\n",
       "    </tr>\n",
       "    <tr>\n",
       "      <th>3</th>\n",
       "      <td>B. Gates</td>\n",
       "      <td>0.164103</td>\n",
       "      <td>0.016727</td>\n",
       "      <td>0.396034</td>\n",
       "      <td>0.423136</td>\n",
       "    </tr>\n",
       "    <tr>\n",
       "      <th>4</th>\n",
       "      <td>J. Caesar</td>\n",
       "      <td>0.350486</td>\n",
       "      <td>0.522409</td>\n",
       "      <td>0.086359</td>\n",
       "      <td>0.040746</td>\n",
       "    </tr>\n",
       "  </tbody>\n",
       "</table>\n",
       "</div>"
      ],
      "text/plain": [
       "        mentee  num_pubs_pref  pub_rate_pref  years_exp_pref  cite_rank_pref\n",
       "0  A. Einstein       0.007275       0.406245        0.261203        0.325278\n",
       "1     J. Smith       0.286416       0.240343        0.290266        0.182974\n",
       "2  E. Priesley       0.101477       0.110515        0.441765        0.346242\n",
       "3     B. Gates       0.164103       0.016727        0.396034        0.423136\n",
       "4    J. Caesar       0.350486       0.522409        0.086359        0.040746"
      ]
     },
     "execution_count": 12,
     "metadata": {},
     "output_type": "execute_result"
    }
   ],
   "source": [
    "df_mentee_prefs.head()"
   ]
  },
  {
   "cell_type": "code",
   "execution_count": 13,
   "metadata": {
    "collapsed": false
   },
   "outputs": [
    {
     "data": {
      "text/html": [
       "<div>\n",
       "<table border=\"1\" class=\"dataframe\">\n",
       "  <thead>\n",
       "    <tr style=\"text-align: right;\">\n",
       "      <th></th>\n",
       "      <th>mentee</th>\n",
       "      <th>cluster</th>\n",
       "      <th>cluster_pref</th>\n",
       "    </tr>\n",
       "  </thead>\n",
       "  <tbody>\n",
       "    <tr>\n",
       "      <th>0</th>\n",
       "      <td>A. Einstein</td>\n",
       "      <td>learning_learner_metalearning</td>\n",
       "      <td>0.740571</td>\n",
       "    </tr>\n",
       "    <tr>\n",
       "      <th>1</th>\n",
       "      <td>A. Einstein</td>\n",
       "      <td>secure_encryption_authentication</td>\n",
       "      <td>0.290575</td>\n",
       "    </tr>\n",
       "    <tr>\n",
       "      <th>2</th>\n",
       "      <td>A. Einstein</td>\n",
       "      <td>robot_robotic_endeffectors</td>\n",
       "      <td>0.119066</td>\n",
       "    </tr>\n",
       "    <tr>\n",
       "      <th>3</th>\n",
       "      <td>J. Smith</td>\n",
       "      <td>heuristic_algorithm_algorithms</td>\n",
       "      <td>0.703593</td>\n",
       "    </tr>\n",
       "    <tr>\n",
       "      <th>4</th>\n",
       "      <td>J. Smith</td>\n",
       "      <td>specification_declarative_abstractions</td>\n",
       "      <td>0.891680</td>\n",
       "    </tr>\n",
       "  </tbody>\n",
       "</table>\n",
       "</div>"
      ],
      "text/plain": [
       "        mentee                                 cluster  cluster_pref\n",
       "0  A. Einstein           learning_learner_metalearning      0.740571\n",
       "1  A. Einstein        secure_encryption_authentication      0.290575\n",
       "2  A. Einstein              robot_robotic_endeffectors      0.119066\n",
       "3     J. Smith          heuristic_algorithm_algorithms      0.703593\n",
       "4     J. Smith  specification_declarative_abstractions      0.891680"
      ]
     },
     "execution_count": 13,
     "metadata": {},
     "output_type": "execute_result"
    }
   ],
   "source": [
    "df_mentee_topic_prefs.head()"
   ]
  },
  {
   "cell_type": "markdown",
   "metadata": {},
   "source": [
    "Now, construct a graph that connects one mentee to his favorite topics and to mentors, in order to find the one that best matches his preferences."
   ]
  },
  {
   "cell_type": "markdown",
   "metadata": {},
   "source": [
    "# 3. Mentor-mentee recommendation through network analysis"
   ]
  },
  {
   "cell_type": "code",
   "execution_count": 14,
   "metadata": {
    "collapsed": false
   },
   "outputs": [
    {
     "data": {
      "text/plain": [
       "u'A. Einstein'"
      ]
     },
     "execution_count": 14,
     "metadata": {},
     "output_type": "execute_result"
    }
   ],
   "source": [
    "# To test the algorithm, fix a mentee with at least 2 topics of interest\n",
    "grouped = df_mentee_topic_prefs.groupby(lbl_mentee).size()\n",
    "mentee_name = grouped[grouped >= 2].index.tolist()[0]\n",
    "mentee_name"
   ]
  },
  {
   "cell_type": "code",
   "execution_count": 15,
   "metadata": {
    "collapsed": false
   },
   "outputs": [],
   "source": [
    "# Fix a mentee, in general we should loop over all of them\n",
    "df_mentee_topic_prefs_example = df_mentee_topic_prefs[df_mentee_topic_prefs[lbl_mentee] == mentee_name]\n",
    "df_mentee_prefs_example = df_mentee_prefs[df_mentee_prefs[lbl_mentee] == mentee_name]"
   ]
  },
  {
   "cell_type": "code",
   "execution_count": 16,
   "metadata": {
    "collapsed": false
   },
   "outputs": [
    {
     "data": {
      "text/html": [
       "<div>\n",
       "<table border=\"1\" class=\"dataframe\">\n",
       "  <thead>\n",
       "    <tr style=\"text-align: right;\">\n",
       "      <th></th>\n",
       "      <th>mentee</th>\n",
       "      <th>cluster</th>\n",
       "      <th>cluster_pref</th>\n",
       "    </tr>\n",
       "  </thead>\n",
       "  <tbody>\n",
       "    <tr>\n",
       "      <th>0</th>\n",
       "      <td>A. Einstein</td>\n",
       "      <td>learning_learner_metalearning</td>\n",
       "      <td>0.740571</td>\n",
       "    </tr>\n",
       "    <tr>\n",
       "      <th>1</th>\n",
       "      <td>A. Einstein</td>\n",
       "      <td>secure_encryption_authentication</td>\n",
       "      <td>0.290575</td>\n",
       "    </tr>\n",
       "    <tr>\n",
       "      <th>2</th>\n",
       "      <td>A. Einstein</td>\n",
       "      <td>robot_robotic_endeffectors</td>\n",
       "      <td>0.119066</td>\n",
       "    </tr>\n",
       "  </tbody>\n",
       "</table>\n",
       "</div>"
      ],
      "text/plain": [
       "        mentee                           cluster  cluster_pref\n",
       "0  A. Einstein     learning_learner_metalearning      0.740571\n",
       "1  A. Einstein  secure_encryption_authentication      0.290575\n",
       "2  A. Einstein        robot_robotic_endeffectors      0.119066"
      ]
     },
     "execution_count": 16,
     "metadata": {},
     "output_type": "execute_result"
    }
   ],
   "source": [
    "df_mentee_topic_prefs_example"
   ]
  },
  {
   "cell_type": "code",
   "execution_count": 17,
   "metadata": {
    "collapsed": false
   },
   "outputs": [
    {
     "data": {
      "text/html": [
       "<div>\n",
       "<table border=\"1\" class=\"dataframe\">\n",
       "  <thead>\n",
       "    <tr style=\"text-align: right;\">\n",
       "      <th></th>\n",
       "      <th>mentee</th>\n",
       "      <th>num_pubs_pref</th>\n",
       "      <th>pub_rate_pref</th>\n",
       "      <th>years_exp_pref</th>\n",
       "      <th>cite_rank_pref</th>\n",
       "    </tr>\n",
       "  </thead>\n",
       "  <tbody>\n",
       "    <tr>\n",
       "      <th>0</th>\n",
       "      <td>A. Einstein</td>\n",
       "      <td>0.007275</td>\n",
       "      <td>0.406245</td>\n",
       "      <td>0.261203</td>\n",
       "      <td>0.325278</td>\n",
       "    </tr>\n",
       "  </tbody>\n",
       "</table>\n",
       "</div>"
      ],
      "text/plain": [
       "        mentee  num_pubs_pref  pub_rate_pref  years_exp_pref  cite_rank_pref\n",
       "0  A. Einstein       0.007275       0.406245        0.261203        0.325278"
      ]
     },
     "execution_count": 17,
     "metadata": {},
     "output_type": "execute_result"
    }
   ],
   "source": [
    "df_mentee_prefs_example"
   ]
  },
  {
   "cell_type": "markdown",
   "metadata": {},
   "source": [
    "Load mentors and their expertise level ranks."
   ]
  },
  {
   "cell_type": "code",
   "execution_count": 18,
   "metadata": {
    "collapsed": true
   },
   "outputs": [],
   "source": [
    "df_mentor_ranks = pd.read_csv(f_mentor_ranks, sep=',')"
   ]
  },
  {
   "cell_type": "code",
   "execution_count": 19,
   "metadata": {
    "collapsed": false,
    "scrolled": false
   },
   "outputs": [
    {
     "data": {
      "text/html": [
       "<div>\n",
       "<table border=\"1\" class=\"dataframe\">\n",
       "  <thead>\n",
       "    <tr style=\"text-align: right;\">\n",
       "      <th></th>\n",
       "      <th>mentor</th>\n",
       "      <th>cluster</th>\n",
       "      <th>num_pubs</th>\n",
       "      <th>pub_rate</th>\n",
       "      <th>years_exp</th>\n",
       "      <th>cite_rank</th>\n",
       "    </tr>\n",
       "  </thead>\n",
       "  <tbody>\n",
       "    <tr>\n",
       "      <th>34</th>\n",
       "      <td>A. Affanni</td>\n",
       "      <td>robot_robotic_endeffectors</td>\n",
       "      <td>0.014706</td>\n",
       "      <td>0.047619</td>\n",
       "      <td>0.018519</td>\n",
       "      <td>0.0</td>\n",
       "    </tr>\n",
       "    <tr>\n",
       "      <th>37</th>\n",
       "      <td>A. Agung Julius</td>\n",
       "      <td>robot_robotic_endeffectors</td>\n",
       "      <td>0.029412</td>\n",
       "      <td>0.047619</td>\n",
       "      <td>0.037037</td>\n",
       "      <td>0.0</td>\n",
       "    </tr>\n",
       "    <tr>\n",
       "      <th>57</th>\n",
       "      <td>A. Ashok Kumar</td>\n",
       "      <td>robot_robotic_endeffectors</td>\n",
       "      <td>0.014706</td>\n",
       "      <td>0.047619</td>\n",
       "      <td>0.018519</td>\n",
       "      <td>0.0</td>\n",
       "    </tr>\n",
       "    <tr>\n",
       "      <th>67</th>\n",
       "      <td>A. B. M. Alim Al Islam</td>\n",
       "      <td>secure_encryption_authentication</td>\n",
       "      <td>0.014706</td>\n",
       "      <td>0.047619</td>\n",
       "      <td>0.018519</td>\n",
       "      <td>0.0</td>\n",
       "    </tr>\n",
       "    <tr>\n",
       "      <th>111</th>\n",
       "      <td>A. D. Amar</td>\n",
       "      <td>learning_learner_metalearning</td>\n",
       "      <td>0.014706</td>\n",
       "      <td>0.047619</td>\n",
       "      <td>0.018519</td>\n",
       "      <td>0.0</td>\n",
       "    </tr>\n",
       "  </tbody>\n",
       "</table>\n",
       "</div>"
      ],
      "text/plain": [
       "                     mentor                           cluster  num_pubs  \\\n",
       "34               A. Affanni        robot_robotic_endeffectors  0.014706   \n",
       "37          A. Agung Julius        robot_robotic_endeffectors  0.029412   \n",
       "57           A. Ashok Kumar        robot_robotic_endeffectors  0.014706   \n",
       "67   A. B. M. Alim Al Islam  secure_encryption_authentication  0.014706   \n",
       "111              A. D. Amar     learning_learner_metalearning  0.014706   \n",
       "\n",
       "     pub_rate  years_exp  cite_rank  \n",
       "34   0.047619   0.018519        0.0  \n",
       "37   0.047619   0.037037        0.0  \n",
       "57   0.047619   0.018519        0.0  \n",
       "67   0.047619   0.018519        0.0  \n",
       "111  0.047619   0.018519        0.0  "
      ]
     },
     "execution_count": 19,
     "metadata": {},
     "output_type": "execute_result"
    }
   ],
   "source": [
    "mentee_clusters = set(df_mentee_topic_prefs_example[lbl_cluster])\n",
    "df_mentee_mentor_ranks = df_mentor_ranks[df_mentor_ranks[lbl_cluster].isin(mentee_clusters)]\n",
    "df_mentee_mentor_ranks.head()"
   ]
  },
  {
   "cell_type": "code",
   "execution_count": 20,
   "metadata": {
    "collapsed": false
   },
   "outputs": [
    {
     "data": {
      "text/plain": [
       "{u'learning_learner_metalearning',\n",
       " u'robot_robotic_endeffectors',\n",
       " u'secure_encryption_authentication'}"
      ]
     },
     "execution_count": 20,
     "metadata": {},
     "output_type": "execute_result"
    }
   ],
   "source": [
    "mentee_clusters"
   ]
  },
  {
   "cell_type": "markdown",
   "metadata": {},
   "source": [
    "Now calculate mentors' scores based on mentee's prefs."
   ]
  },
  {
   "cell_type": "code",
   "execution_count": 21,
   "metadata": {
    "collapsed": false
   },
   "outputs": [
    {
     "data": {
      "text/html": [
       "<div>\n",
       "<table border=\"1\" class=\"dataframe\">\n",
       "  <thead>\n",
       "    <tr style=\"text-align: right;\">\n",
       "      <th></th>\n",
       "      <th>mentor</th>\n",
       "      <th>cluster</th>\n",
       "      <th>num_pubs</th>\n",
       "      <th>pub_rate</th>\n",
       "      <th>years_exp</th>\n",
       "      <th>cite_rank</th>\n",
       "      <th>cluster_mentor_weight</th>\n",
       "    </tr>\n",
       "  </thead>\n",
       "  <tbody>\n",
       "    <tr>\n",
       "      <th>34</th>\n",
       "      <td>A. Affanni</td>\n",
       "      <td>robot_robotic_endeffectors</td>\n",
       "      <td>0.014706</td>\n",
       "      <td>0.047619</td>\n",
       "      <td>0.018519</td>\n",
       "      <td>0.0</td>\n",
       "      <td>0.024289</td>\n",
       "    </tr>\n",
       "    <tr>\n",
       "      <th>37</th>\n",
       "      <td>A. Agung Julius</td>\n",
       "      <td>robot_robotic_endeffectors</td>\n",
       "      <td>0.029412</td>\n",
       "      <td>0.047619</td>\n",
       "      <td>0.037037</td>\n",
       "      <td>0.0</td>\n",
       "      <td>0.029233</td>\n",
       "    </tr>\n",
       "    <tr>\n",
       "      <th>57</th>\n",
       "      <td>A. Ashok Kumar</td>\n",
       "      <td>robot_robotic_endeffectors</td>\n",
       "      <td>0.014706</td>\n",
       "      <td>0.047619</td>\n",
       "      <td>0.018519</td>\n",
       "      <td>0.0</td>\n",
       "      <td>0.024289</td>\n",
       "    </tr>\n",
       "    <tr>\n",
       "      <th>67</th>\n",
       "      <td>A. B. M. Alim Al Islam</td>\n",
       "      <td>secure_encryption_authentication</td>\n",
       "      <td>0.014706</td>\n",
       "      <td>0.047619</td>\n",
       "      <td>0.018519</td>\n",
       "      <td>0.0</td>\n",
       "      <td>0.024289</td>\n",
       "    </tr>\n",
       "    <tr>\n",
       "      <th>111</th>\n",
       "      <td>A. D. Amar</td>\n",
       "      <td>learning_learner_metalearning</td>\n",
       "      <td>0.014706</td>\n",
       "      <td>0.047619</td>\n",
       "      <td>0.018519</td>\n",
       "      <td>0.0</td>\n",
       "      <td>0.024289</td>\n",
       "    </tr>\n",
       "  </tbody>\n",
       "</table>\n",
       "</div>"
      ],
      "text/plain": [
       "                     mentor                           cluster  num_pubs  \\\n",
       "34               A. Affanni        robot_robotic_endeffectors  0.014706   \n",
       "37          A. Agung Julius        robot_robotic_endeffectors  0.029412   \n",
       "57           A. Ashok Kumar        robot_robotic_endeffectors  0.014706   \n",
       "67   A. B. M. Alim Al Islam  secure_encryption_authentication  0.014706   \n",
       "111              A. D. Amar     learning_learner_metalearning  0.014706   \n",
       "\n",
       "     pub_rate  years_exp  cite_rank  cluster_mentor_weight  \n",
       "34   0.047619   0.018519        0.0               0.024289  \n",
       "37   0.047619   0.037037        0.0               0.029233  \n",
       "57   0.047619   0.018519        0.0               0.024289  \n",
       "67   0.047619   0.018519        0.0               0.024289  \n",
       "111  0.047619   0.018519        0.0               0.024289  "
      ]
     },
     "execution_count": 21,
     "metadata": {},
     "output_type": "execute_result"
    }
   ],
   "source": [
    "def weighted_avg(mentor_row):\n",
    "    mentee_row = df_mentee_prefs_example.iloc[0]\n",
    "    avg = mentee_row[lbl_num_pubs_pref] * mentor_row[lbl_num_pubs]\n",
    "    avg += mentee_row[lbl_pub_rate_pref] * mentor_row[lbl_pub_rate]\n",
    "    avg += mentee_row[lbl_years_exp_pref] * mentor_row[lbl_years_exp]\n",
    "    avg += mentee_row[lbl_rank_pref] * mentor_row[lbl_rank]\n",
    "    return avg\n",
    "\n",
    "df_mentee_mentor_ranks[lbl_cluster_mentor_weight] = df_mentee_mentor_ranks.apply(weighted_avg, axis=1)\n",
    "df_mentee_mentor_ranks.head()"
   ]
  },
  {
   "cell_type": "markdown",
   "metadata": {},
   "source": [
    "Now remove the four KPI columns as we have obtained an aggregate score."
   ]
  },
  {
   "cell_type": "code",
   "execution_count": 22,
   "metadata": {
    "collapsed": false
   },
   "outputs": [
    {
     "data": {
      "text/html": [
       "<div>\n",
       "<table border=\"1\" class=\"dataframe\">\n",
       "  <thead>\n",
       "    <tr style=\"text-align: right;\">\n",
       "      <th></th>\n",
       "      <th>mentor</th>\n",
       "      <th>cluster</th>\n",
       "      <th>cluster_mentor_weight</th>\n",
       "    </tr>\n",
       "  </thead>\n",
       "  <tbody>\n",
       "    <tr>\n",
       "      <th>34</th>\n",
       "      <td>A. Affanni</td>\n",
       "      <td>robot_robotic_endeffectors</td>\n",
       "      <td>0.024289</td>\n",
       "    </tr>\n",
       "    <tr>\n",
       "      <th>37</th>\n",
       "      <td>A. Agung Julius</td>\n",
       "      <td>robot_robotic_endeffectors</td>\n",
       "      <td>0.029233</td>\n",
       "    </tr>\n",
       "    <tr>\n",
       "      <th>57</th>\n",
       "      <td>A. Ashok Kumar</td>\n",
       "      <td>robot_robotic_endeffectors</td>\n",
       "      <td>0.024289</td>\n",
       "    </tr>\n",
       "    <tr>\n",
       "      <th>67</th>\n",
       "      <td>A. B. M. Alim Al Islam</td>\n",
       "      <td>secure_encryption_authentication</td>\n",
       "      <td>0.024289</td>\n",
       "    </tr>\n",
       "    <tr>\n",
       "      <th>111</th>\n",
       "      <td>A. D. Amar</td>\n",
       "      <td>learning_learner_metalearning</td>\n",
       "      <td>0.024289</td>\n",
       "    </tr>\n",
       "  </tbody>\n",
       "</table>\n",
       "</div>"
      ],
      "text/plain": [
       "                     mentor                           cluster  \\\n",
       "34               A. Affanni        robot_robotic_endeffectors   \n",
       "37          A. Agung Julius        robot_robotic_endeffectors   \n",
       "57           A. Ashok Kumar        robot_robotic_endeffectors   \n",
       "67   A. B. M. Alim Al Islam  secure_encryption_authentication   \n",
       "111              A. D. Amar     learning_learner_metalearning   \n",
       "\n",
       "     cluster_mentor_weight  \n",
       "34                0.024289  \n",
       "37                0.029233  \n",
       "57                0.024289  \n",
       "67                0.024289  \n",
       "111               0.024289  "
      ]
     },
     "execution_count": 22,
     "metadata": {},
     "output_type": "execute_result"
    }
   ],
   "source": [
    "df_mentee_mentor_ranks.drop([lbl_num_pubs,\n",
    "                             lbl_pub_rate,\n",
    "                             lbl_years_exp,\n",
    "                             lbl_rank], axis=1, inplace=True)\n",
    "df_mentee_mentor_ranks.head()"
   ]
  },
  {
   "cell_type": "markdown",
   "metadata": {},
   "source": [
    "Normalize and reverse the score values since we are going to find shortest paths from mentee to mentors"
   ]
  },
  {
   "cell_type": "code",
   "execution_count": 23,
   "metadata": {
    "collapsed": false
   },
   "outputs": [],
   "source": [
    "scaler = MinMaxScaler()\n",
    "df_mentee_mentor_ranks[lbl_cluster_mentor_weight] = 1 - scaler.fit_transform(\n",
    "                                                            df_mentee_mentor_ranks[lbl_cluster_mentor_weight])\n",
    "df_mentee_topic_prefs_example[lbl_cluster_pref] = 1 - scaler.fit_transform(\n",
    "                                                            df_mentee_topic_prefs_example[lbl_cluster_pref])"
   ]
  },
  {
   "cell_type": "markdown",
   "metadata": {},
   "source": [
    "## Construct the mentee-topics-mentors graph"
   ]
  },
  {
   "cell_type": "code",
   "execution_count": 24,
   "metadata": {
    "collapsed": true
   },
   "outputs": [],
   "source": [
    "# Initialize an empty directed graph\n",
    "G = nx.DiGraph()"
   ]
  },
  {
   "cell_type": "markdown",
   "metadata": {},
   "source": [
    "Link the mentee to the topics based on his preferences"
   ]
  },
  {
   "cell_type": "code",
   "execution_count": 25,
   "metadata": {
    "collapsed": false
   },
   "outputs": [],
   "source": [
    "# Array of triplets containing (source, destination, weight)\n",
    "mentee_topics = df_mentee_topic_prefs_example[[lbl_mentee, lbl_cluster, lbl_cluster_pref]].values\n",
    "G.add_weighted_edges_from(mentee_topics)"
   ]
  },
  {
   "cell_type": "code",
   "execution_count": 26,
   "metadata": {
    "collapsed": false
   },
   "outputs": [
    {
     "data": {
      "text/plain": [
       "[u'robot_robotic_endeffectors',\n",
       " u'learning_learner_metalearning',\n",
       " u'secure_encryption_authentication',\n",
       " u'A. Einstein']"
      ]
     },
     "execution_count": 26,
     "metadata": {},
     "output_type": "execute_result"
    }
   ],
   "source": [
    "G.nodes()"
   ]
  },
  {
   "cell_type": "code",
   "execution_count": 27,
   "metadata": {
    "collapsed": false
   },
   "outputs": [
    {
     "data": {
      "text/plain": [
       "{u'A. Einstein': {u'learning_learner_metalearning': {'weight': 0.0},\n",
       "  u'robot_robotic_endeffectors': {'weight': 1.0},\n",
       "  u'secure_encryption_authentication': {'weight': 0.7240430403540213}},\n",
       " u'learning_learner_metalearning': {},\n",
       " u'robot_robotic_endeffectors': {},\n",
       " u'secure_encryption_authentication': {}}"
      ]
     },
     "execution_count": 27,
     "metadata": {},
     "output_type": "execute_result"
    }
   ],
   "source": [
    "G.edge"
   ]
  },
  {
   "cell_type": "markdown",
   "metadata": {},
   "source": [
    "Link topics (clusters) to mentors and assign weight"
   ]
  },
  {
   "cell_type": "code",
   "execution_count": 28,
   "metadata": {
    "collapsed": true
   },
   "outputs": [],
   "source": [
    "topics_mentors = df_mentee_mentor_ranks[[lbl_cluster,\n",
    "                                         lbl_mentor,\n",
    "                                         lbl_cluster_mentor_weight]].values\n",
    "G.add_weighted_edges_from(topics_mentors)"
   ]
  },
  {
   "cell_type": "code",
   "execution_count": 29,
   "metadata": {
    "collapsed": false
   },
   "outputs": [
    {
     "data": {
      "text/plain": [
       "array([['robot_robotic_endeffectors', 'A. Affanni', 0.9275838665326375],\n",
       "       ['robot_robotic_endeffectors', 'A. Agung Julius',\n",
       "        0.9128245332841624],\n",
       "       ['robot_robotic_endeffectors', 'A. Ashok Kumar',\n",
       "        0.9275838665326375],\n",
       "       ['secure_encryption_authentication', 'A. B. M. Alim Al Islam',\n",
       "        0.9275838665326375],\n",
       "       ['learning_learner_metalearning', 'A. D. Amar',\n",
       "        0.9275838665326375]], dtype=object)"
      ]
     },
     "execution_count": 29,
     "metadata": {},
     "output_type": "execute_result"
    }
   ],
   "source": [
    "topics_mentors[:5]"
   ]
  },
  {
   "cell_type": "code",
   "execution_count": 30,
   "metadata": {
    "collapsed": false,
    "scrolled": true
   },
   "outputs": [
    {
     "data": {
      "text/plain": [
       "21701"
      ]
     },
     "execution_count": 30,
     "metadata": {},
     "output_type": "execute_result"
    }
   ],
   "source": [
    "len(G.edges())"
   ]
  },
  {
   "cell_type": "markdown",
   "metadata": {},
   "source": [
    "Now add a super node linking all mentors, that will act as a sink for the paths of the mentees"
   ]
  },
  {
   "cell_type": "code",
   "execution_count": 31,
   "metadata": {
    "collapsed": true
   },
   "outputs": [],
   "source": [
    "lbl_sink = 'sink'"
   ]
  },
  {
   "cell_type": "code",
   "execution_count": 32,
   "metadata": {
    "collapsed": false
   },
   "outputs": [],
   "source": [
    "G.add_weighted_edges_from(\n",
    "    [(mentor, lbl_sink, 0) for mentor in set(df_mentee_mentor_ranks[lbl_mentor])])"
   ]
  },
  {
   "cell_type": "code",
   "execution_count": 33,
   "metadata": {
    "collapsed": false
   },
   "outputs": [
    {
     "data": {
      "text/plain": [
       "42854"
      ]
     },
     "execution_count": 33,
     "metadata": {},
     "output_type": "execute_result"
    }
   ],
   "source": [
    "len(G.edges())"
   ]
  },
  {
   "cell_type": "code",
   "execution_count": 34,
   "metadata": {
    "collapsed": false
   },
   "outputs": [],
   "source": [
    "shortest_paths = [p for p in nx.all_shortest_paths(G, source=mentee_name, target=lbl_sink, weight='weight')]"
   ]
  },
  {
   "cell_type": "code",
   "execution_count": 35,
   "metadata": {
    "collapsed": false
   },
   "outputs": [
    {
     "data": {
      "text/plain": [
       "1"
      ]
     },
     "execution_count": 35,
     "metadata": {},
     "output_type": "execute_result"
    }
   ],
   "source": [
    "len(shortest_paths)"
   ]
  },
  {
   "cell_type": "markdown",
   "metadata": {},
   "source": [
    "This is one of the shortest paths from mentee to topic to mentor"
   ]
  },
  {
   "cell_type": "code",
   "execution_count": 36,
   "metadata": {
    "collapsed": false
   },
   "outputs": [
    {
     "data": {
      "text/plain": [
       "[u'A. Einstein', u'learning_learner_metalearning', 'Ronald R. Yager', 'sink']"
      ]
     },
     "execution_count": 36,
     "metadata": {},
     "output_type": "execute_result"
    }
   ],
   "source": [
    "shortest_paths[0]"
   ]
  },
  {
   "cell_type": "code",
   "execution_count": 37,
   "metadata": {
    "collapsed": false
   },
   "outputs": [
    {
     "data": {
      "text/html": [
       "<div>\n",
       "<table border=\"1\" class=\"dataframe\">\n",
       "  <thead>\n",
       "    <tr style=\"text-align: right;\">\n",
       "      <th></th>\n",
       "      <th>mentor</th>\n",
       "      <th>cluster</th>\n",
       "      <th>cluster_mentor_weight</th>\n",
       "    </tr>\n",
       "  </thead>\n",
       "  <tbody>\n",
       "    <tr>\n",
       "      <th>177410</th>\n",
       "      <td>Ronald R. Yager</td>\n",
       "      <td>learning_learner_metalearning</td>\n",
       "      <td>0.420118</td>\n",
       "    </tr>\n",
       "    <tr>\n",
       "      <th>117790</th>\n",
       "      <td>Lawrence Carin</td>\n",
       "      <td>learning_learner_metalearning</td>\n",
       "      <td>0.477440</td>\n",
       "    </tr>\n",
       "    <tr>\n",
       "      <th>88252</th>\n",
       "      <td>James C. Lester</td>\n",
       "      <td>learning_learner_metalearning</td>\n",
       "      <td>0.486434</td>\n",
       "    </tr>\n",
       "    <tr>\n",
       "      <th>66663</th>\n",
       "      <td>Gerhard Widmer</td>\n",
       "      <td>learning_learner_metalearning</td>\n",
       "      <td>0.490444</td>\n",
       "    </tr>\n",
       "    <tr>\n",
       "      <th>186158</th>\n",
       "      <td>Sergey Levine</td>\n",
       "      <td>learning_learner_metalearning</td>\n",
       "      <td>0.492220</td>\n",
       "    </tr>\n",
       "  </tbody>\n",
       "</table>\n",
       "</div>"
      ],
      "text/plain": [
       "                 mentor                        cluster  cluster_mentor_weight\n",
       "177410  Ronald R. Yager  learning_learner_metalearning               0.420118\n",
       "117790   Lawrence Carin  learning_learner_metalearning               0.477440\n",
       "88252   James C. Lester  learning_learner_metalearning               0.486434\n",
       "66663    Gerhard Widmer  learning_learner_metalearning               0.490444\n",
       "186158    Sergey Levine  learning_learner_metalearning               0.492220"
      ]
     },
     "execution_count": 37,
     "metadata": {},
     "output_type": "execute_result"
    }
   ],
   "source": [
    "df_mentee_mentor_ranks[\n",
    "    df_mentee_mentor_ranks[lbl_cluster] == shortest_paths[0][1]] \\\n",
    "    .sort_values(by=lbl_cluster_mentor_weight).head()"
   ]
  },
  {
   "cell_type": "code",
   "execution_count": 38,
   "metadata": {
    "collapsed": false
   },
   "outputs": [
    {
     "data": {
      "text/plain": [
       "(1, 3)"
      ]
     },
     "execution_count": 38,
     "metadata": {},
     "output_type": "execute_result"
    }
   ],
   "source": [
    "df_mentee_mentor_ranks[df_mentee_mentor_ranks[lbl_cluster_mentor_weight] == 0].shape"
   ]
  },
  {
   "cell_type": "code",
   "execution_count": 39,
   "metadata": {
    "collapsed": false
   },
   "outputs": [
    {
     "data": {
      "text/plain": [
       "{'secure_encryption_authentication'}"
      ]
     },
     "execution_count": 39,
     "metadata": {},
     "output_type": "execute_result"
    }
   ],
   "source": [
    "set(df_mentee_mentor_ranks[df_mentee_mentor_ranks[lbl_cluster_mentor_weight] == 0][lbl_cluster])"
   ]
  },
  {
   "cell_type": "markdown",
   "metadata": {},
   "source": [
    "In case there are multiple choices of \"best\" mentors, we can select 10 random ones among them."
   ]
  },
  {
   "cell_type": "code",
   "execution_count": 40,
   "metadata": {
    "collapsed": false
   },
   "outputs": [
    {
     "data": {
      "text/plain": [
       "array(['Ronald R. Yager'], dtype='|S29')"
      ]
     },
     "execution_count": 40,
     "metadata": {},
     "output_type": "execute_result"
    }
   ],
   "source": [
    "n_mentor_choices = min(10, len(shortest_paths))\n",
    "mentors_indices = np.random.randint(len(shortest_paths), size=n_mentor_choices)\n",
    "mentors_chosen = np.array(shortest_paths, dtype=str)[mentors_indices, 2]\n",
    "mentors_chosen"
   ]
  },
  {
   "cell_type": "code",
   "execution_count": 41,
   "metadata": {
    "collapsed": false
   },
   "outputs": [
    {
     "data": {
      "text/html": [
       "<div>\n",
       "<table border=\"1\" class=\"dataframe\">\n",
       "  <thead>\n",
       "    <tr style=\"text-align: right;\">\n",
       "      <th></th>\n",
       "      <th>mentee</th>\n",
       "      <th>mentor</th>\n",
       "    </tr>\n",
       "  </thead>\n",
       "  <tbody>\n",
       "    <tr>\n",
       "      <th>0</th>\n",
       "      <td>A. Einstein</td>\n",
       "      <td>Ronald R. Yager</td>\n",
       "    </tr>\n",
       "  </tbody>\n",
       "</table>\n",
       "</div>"
      ],
      "text/plain": [
       "        mentee           mentor\n",
       "0  A. Einstein  Ronald R. Yager"
      ]
     },
     "execution_count": 41,
     "metadata": {},
     "output_type": "execute_result"
    }
   ],
   "source": [
    "mentee_mentors_match = pd.DataFrame([[mentee_name, mentor] for mentor in mentors_chosen],\n",
    "                                    columns=[lbl_mentee, lbl_mentor])\n",
    "mentee_mentors_match.head()"
   ]
  },
  {
   "cell_type": "code",
   "execution_count": 42,
   "metadata": {
    "collapsed": true
   },
   "outputs": [],
   "source": [
    "f_mentee_mentors_match = path + 'mentee_mentors_match.csv'\n",
    "mentee_mentors_match.to_csv(f_mentee_mentors_match, sep=',', index=False, encoding='utf-8')"
   ]
  },
  {
   "cell_type": "markdown",
   "metadata": {},
   "source": [
    "## Simulation over a set of mentees from the dblp dataset"
   ]
  },
  {
   "cell_type": "code",
   "execution_count": 43,
   "metadata": {
    "collapsed": true
   },
   "outputs": [],
   "source": [
    "df_mentee_prefs, df_mentee_topic_prefs = load_input_mentees(False)"
   ]
  },
  {
   "cell_type": "code",
   "execution_count": 44,
   "metadata": {
    "collapsed": false
   },
   "outputs": [
    {
     "data": {
      "text/html": [
       "<div>\n",
       "<table border=\"1\" class=\"dataframe\">\n",
       "  <thead>\n",
       "    <tr style=\"text-align: right;\">\n",
       "      <th></th>\n",
       "      <th>mentee</th>\n",
       "      <th>num_pubs_pref</th>\n",
       "      <th>pub_rate_pref</th>\n",
       "      <th>years_exp_pref</th>\n",
       "      <th>cite_rank_pref</th>\n",
       "    </tr>\n",
       "  </thead>\n",
       "  <tbody>\n",
       "    <tr>\n",
       "      <th>0</th>\n",
       "      <td>(David) Jing Dai</td>\n",
       "      <td>0.117496</td>\n",
       "      <td>0.777833</td>\n",
       "      <td>0.529473</td>\n",
       "      <td>0.711975</td>\n",
       "    </tr>\n",
       "    <tr>\n",
       "      <th>1</th>\n",
       "      <td>A. A. Louis Beex</td>\n",
       "      <td>0.428107</td>\n",
       "      <td>0.493248</td>\n",
       "      <td>0.332515</td>\n",
       "      <td>0.586327</td>\n",
       "    </tr>\n",
       "    <tr>\n",
       "      <th>2</th>\n",
       "      <td>A. A. Shpiganovich</td>\n",
       "      <td>0.182939</td>\n",
       "      <td>0.314040</td>\n",
       "      <td>0.985632</td>\n",
       "      <td>0.088795</td>\n",
       "    </tr>\n",
       "    <tr>\n",
       "      <th>3</th>\n",
       "      <td>A. Abdul Khadar</td>\n",
       "      <td>0.898308</td>\n",
       "      <td>0.397429</td>\n",
       "      <td>0.322616</td>\n",
       "      <td>0.109706</td>\n",
       "    </tr>\n",
       "    <tr>\n",
       "      <th>4</th>\n",
       "      <td>A. Abdul Rahim</td>\n",
       "      <td>0.814334</td>\n",
       "      <td>0.070570</td>\n",
       "      <td>0.109393</td>\n",
       "      <td>0.110909</td>\n",
       "    </tr>\n",
       "  </tbody>\n",
       "</table>\n",
       "</div>"
      ],
      "text/plain": [
       "               mentee  num_pubs_pref  pub_rate_pref  years_exp_pref  \\\n",
       "0    (David) Jing Dai       0.117496       0.777833        0.529473   \n",
       "1    A. A. Louis Beex       0.428107       0.493248        0.332515   \n",
       "2  A. A. Shpiganovich       0.182939       0.314040        0.985632   \n",
       "3     A. Abdul Khadar       0.898308       0.397429        0.322616   \n",
       "4      A. Abdul Rahim       0.814334       0.070570        0.109393   \n",
       "\n",
       "   cite_rank_pref  \n",
       "0        0.711975  \n",
       "1        0.586327  \n",
       "2        0.088795  \n",
       "3        0.109706  \n",
       "4        0.110909  "
      ]
     },
     "execution_count": 44,
     "metadata": {},
     "output_type": "execute_result"
    }
   ],
   "source": [
    "df_mentee_prefs.head()"
   ]
  },
  {
   "cell_type": "code",
   "execution_count": 45,
   "metadata": {
    "collapsed": false
   },
   "outputs": [
    {
     "data": {
      "text/html": [
       "<div>\n",
       "<table border=\"1\" class=\"dataframe\">\n",
       "  <thead>\n",
       "    <tr style=\"text-align: right;\">\n",
       "      <th></th>\n",
       "      <th>mentee</th>\n",
       "      <th>cluster</th>\n",
       "      <th>cluster_pref</th>\n",
       "    </tr>\n",
       "  </thead>\n",
       "  <tbody>\n",
       "    <tr>\n",
       "      <th>0</th>\n",
       "      <td>(David) Jing Dai</td>\n",
       "      <td>budapest_conference_workshop</td>\n",
       "      <td>0.020211</td>\n",
       "    </tr>\n",
       "    <tr>\n",
       "      <th>1</th>\n",
       "      <td>A. A. Louis Beex</td>\n",
       "      <td>whitening_prewhitening_subband</td>\n",
       "      <td>0.020211</td>\n",
       "    </tr>\n",
       "    <tr>\n",
       "      <th>2</th>\n",
       "      <td>A. A. Shpiganovich</td>\n",
       "      <td>circuit_lcvco_switchedcapacitor</td>\n",
       "      <td>0.020211</td>\n",
       "    </tr>\n",
       "    <tr>\n",
       "      <th>3</th>\n",
       "      <td>A. Abdul Khadar</td>\n",
       "      <td>scheduling_qos_routing</td>\n",
       "      <td>0.020211</td>\n",
       "    </tr>\n",
       "    <tr>\n",
       "      <th>4</th>\n",
       "      <td>A. Abdul Rahim</td>\n",
       "      <td>educational_elearning_education</td>\n",
       "      <td>0.020211</td>\n",
       "    </tr>\n",
       "  </tbody>\n",
       "</table>\n",
       "</div>"
      ],
      "text/plain": [
       "               mentee                          cluster  cluster_pref\n",
       "0    (David) Jing Dai     budapest_conference_workshop      0.020211\n",
       "1    A. A. Louis Beex   whitening_prewhitening_subband      0.020211\n",
       "2  A. A. Shpiganovich  circuit_lcvco_switchedcapacitor      0.020211\n",
       "3     A. Abdul Khadar           scheduling_qos_routing      0.020211\n",
       "4      A. Abdul Rahim  educational_elearning_education      0.020211"
      ]
     },
     "execution_count": 45,
     "metadata": {},
     "output_type": "execute_result"
    }
   ],
   "source": [
    "df_mentee_topic_prefs.head()"
   ]
  },
  {
   "cell_type": "markdown",
   "metadata": {},
   "source": [
    "For the simulation, select the top 300 mentees by number of topics preferred."
   ]
  },
  {
   "cell_type": "code",
   "execution_count": 46,
   "metadata": {
    "collapsed": false
   },
   "outputs": [
    {
     "data": {
      "text/plain": [
       "['Alwin Zulehner',\n",
       " 'Yong Zhang 0012',\n",
       " 'Richard A. Farneth',\n",
       " 'Yoshio Rubio',\n",
       " 'Philipp Terh\\xc3\\xb6rst',\n",
       " 'Siyu Liao',\n",
       " 'Rajesh Kumar M',\n",
       " 'Miralda Cuka',\n",
       " 'Yuying Zhu',\n",
       " 'Klayton Castro']"
      ]
     },
     "execution_count": 46,
     "metadata": {},
     "output_type": "execute_result"
    }
   ],
   "source": [
    "n_mentees = 300\n",
    "mentee_names = df_mentee_topic_prefs.groupby(lbl_mentee).size()\\\n",
    "                    .sort_values(ascending=False) \\\n",
    "                    .index.tolist()[:n_mentees]\n",
    "mentee_names[:10]"
   ]
  },
  {
   "cell_type": "markdown",
   "metadata": {},
   "source": [
    "Run the mentor-mentee recommendation algorithm on the selected mentees and write the result to a CSV file"
   ]
  },
  {
   "cell_type": "code",
   "execution_count": 47,
   "metadata": {
    "collapsed": true
   },
   "outputs": [],
   "source": [
    "mentee_mentors_match = pd.DataFrame(columns=[lbl_mentee, lbl_mentor])\n",
    "\n",
    "for mentee_name in mentee_names:\n",
    "    # Filter by mentee_name\n",
    "    df_mentee_topic_prefs_example = df_mentee_topic_prefs[df_mentee_topic_prefs[lbl_mentee] == mentee_name]\n",
    "    df_mentee_prefs_example = df_mentee_prefs[df_mentee_prefs[lbl_mentee] == mentee_name]   \n",
    "    mentee_clusters = set(df_mentee_topic_prefs_example[lbl_cluster])\n",
    "    \n",
    "    df_mentee_mentor_ranks = df_mentor_ranks[df_mentor_ranks[lbl_cluster].isin(mentee_clusters)]\n",
    "    df_mentee_mentor_ranks[lbl_cluster_mentor_weight] = df_mentee_mentor_ranks.apply(weighted_avg, axis=1)\n",
    "    df_mentee_mentor_ranks.drop([lbl_num_pubs,\n",
    "                                 lbl_pub_rate,\n",
    "                                 lbl_years_exp,\n",
    "                                 lbl_rank], axis=1, inplace=True)\n",
    "    df_mentee_mentor_ranks.head()\n",
    "\n",
    "    # Normalize and reverse the score values since we are going to find shortest paths from mentee to mentors\n",
    "    scaler = MinMaxScaler()\n",
    "    df_mentee_mentor_ranks[lbl_cluster_mentor_weight] = 1 - scaler.fit_transform(\n",
    "                                                                df_mentee_mentor_ranks[lbl_cluster_mentor_weight])\n",
    "    df_mentee_topic_prefs_example[lbl_cluster_pref] = 1 - scaler.fit_transform(\n",
    "                                                                df_mentee_topic_prefs_example[lbl_cluster_pref])\n",
    "    # Construct the mentee-topics-mentors graph\n",
    "    # Initialize an empty directed graph\n",
    "    G = nx.DiGraph()\n",
    "    # Link the mentee to the topics based on his preferences\n",
    "    # Array of triplets containing (source, destination, weight)\n",
    "    mentee_topics = df_mentee_topic_prefs_example[[lbl_mentee, lbl_cluster, lbl_cluster_pref]].values\n",
    "    G.add_weighted_edges_from(mentee_topics)\n",
    "    # Link topics (clusters) to mentors and assign weight\n",
    "    topics_mentors = df_mentee_mentor_ranks[[lbl_cluster,\n",
    "                                             lbl_mentor,\n",
    "                                             lbl_cluster_mentor_weight]].values\n",
    "    G.add_weighted_edges_from(topics_mentors)\n",
    "    G.add_weighted_edges_from([(mentor, lbl_sink, 0) for mentor in set(df_mentee_mentor_ranks[lbl_mentor])])\n",
    "\n",
    "    # Calculate all shortest paths from mentee to super sink\n",
    "    shortest_paths = [p for p in nx.all_shortest_paths(G, source=mentee_name, target=lbl_sink, weight='weight')]\n",
    "    \n",
    "    # In case there are multiple choices of \"best\" mentors, we can select 10 random ones among them.\n",
    "    n_mentor_choices = min(10, len(shortest_paths))\n",
    "    mentors_indices = np.random.randint(len(shortest_paths), size=n_mentor_choices)\n",
    "    mentors_chosen = np.array(shortest_paths, dtype=str)[mentors_indices, 2]\n",
    "\n",
    "    mentee_mentors_match = pd.concat([mentee_mentors_match,\n",
    "                                      pd.DataFrame([[mentee_name, mentor] for mentor in mentors_chosen],\n",
    "                                        columns=[lbl_mentee, lbl_mentor])], ignore_index=True)\n",
    "                      \n",
    "# Write result to file\n",
    "f_mentee_mentors_match = path + 'mentee_mentors_match.csv'\n",
    "mentee_mentors_match.to_csv(f_mentee_mentors_match, sep=',', index=False, encoding='utf-8')"
   ]
  }
 ],
 "metadata": {
  "kernelspec": {
   "display_name": "Python [default]",
   "language": "python",
   "name": "python2"
  },
  "language_info": {
   "codemirror_mode": {
    "name": "ipython",
    "version": 2
   },
   "file_extension": ".py",
   "mimetype": "text/x-python",
   "name": "python",
   "nbconvert_exporter": "python",
   "pygments_lexer": "ipython2",
   "version": "2.7.13"
  }
 },
 "nbformat": 4,
 "nbformat_minor": 2
}
